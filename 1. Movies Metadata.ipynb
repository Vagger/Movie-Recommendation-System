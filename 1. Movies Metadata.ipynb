{
 "cells": [
  {
   "cell_type": "markdown",
   "metadata": {},
   "source": [
    "# Movie Recommendation System"
   ]
  },
  {
   "cell_type": "markdown",
   "metadata": {},
   "source": [
    "Student: Vahe Karapetyan"
   ]
  },
  {
   "cell_type": "markdown",
   "metadata": {},
   "source": [
    "Supervisor: Habet Madoyan"
   ]
  },
  {
   "cell_type": "markdown",
   "metadata": {},
   "source": [
    "The goal of the capstone topic is to provide a relevant recommendation system that, based on some inputs and prediction algorithms, comes out with a provided amount of movies the user might be interested in watching."
   ]
  },
  {
   "cell_type": "markdown",
   "metadata": {},
   "source": [
    "# Part 1: Exploration of Data\n",
    "\n",
    "### 1.1 A Quick Preview\n",
    "### 1.2 The Movies Dataframe\n",
    "    1.2.1 Genres Column\n",
    "    1.2.2 Adult Movies Column\n",
    "### 1.3 Creating Useful Dataframes\n",
    "### 1.4 Plotting"
   ]
  },
  {
   "cell_type": "code",
   "execution_count": 1,
   "metadata": {
    "collapsed": true
   },
   "outputs": [],
   "source": [
    "#Importing the libraries\n",
    "\n",
    "import numpy as np\n",
    "import pandas as pd\n",
    "import seaborn as sns\n",
    "import matplotlib.pyplot as plt\n",
    "import json"
   ]
  },
  {
   "cell_type": "code",
   "execution_count": 2,
   "metadata": {},
   "outputs": [
    {
     "name": "stderr",
     "output_type": "stream",
     "text": [
      "C:\\Program Files (x86)\\Anaconda3\\lib\\site-packages\\IPython\\core\\interactiveshell.py:2717: DtypeWarning: Columns (10) have mixed types. Specify dtype option on import or set low_memory=False.\n",
      "  interactivity=interactivity, compiler=compiler, result=result)\n"
     ]
    }
   ],
   "source": [
    "#Storing all the datas in variables\n",
    "\n",
    "rat = pd.read_csv('ratings_small.csv')\n",
    "cred = pd.read_csv('credits.csv')\n",
    "key = pd.read_csv('keywords.csv')\n",
    "link = pd.read_csv('links_small.csv')\n",
    "mov = pd.read_csv('movies_metadata.csv')"
   ]
  },
  {
   "cell_type": "markdown",
   "metadata": {},
   "source": [
    "## 1.1 A Quick Preview"
   ]
  },
  {
   "cell_type": "code",
   "execution_count": 3,
   "metadata": {},
   "outputs": [
    {
     "data": {
      "text/html": [
       "<div>\n",
       "<style>\n",
       "    .dataframe thead tr:only-child th {\n",
       "        text-align: right;\n",
       "    }\n",
       "\n",
       "    .dataframe thead th {\n",
       "        text-align: left;\n",
       "    }\n",
       "\n",
       "    .dataframe tbody tr th {\n",
       "        vertical-align: top;\n",
       "    }\n",
       "</style>\n",
       "<table border=\"1\" class=\"dataframe\">\n",
       "  <thead>\n",
       "    <tr style=\"text-align: right;\">\n",
       "      <th></th>\n",
       "      <th>userId</th>\n",
       "      <th>movieId</th>\n",
       "      <th>rating</th>\n",
       "      <th>timestamp</th>\n",
       "    </tr>\n",
       "  </thead>\n",
       "  <tbody>\n",
       "    <tr>\n",
       "      <th>0</th>\n",
       "      <td>1</td>\n",
       "      <td>31</td>\n",
       "      <td>2.5</td>\n",
       "      <td>1260759144</td>\n",
       "    </tr>\n",
       "    <tr>\n",
       "      <th>1</th>\n",
       "      <td>1</td>\n",
       "      <td>1029</td>\n",
       "      <td>3.0</td>\n",
       "      <td>1260759179</td>\n",
       "    </tr>\n",
       "    <tr>\n",
       "      <th>2</th>\n",
       "      <td>1</td>\n",
       "      <td>1061</td>\n",
       "      <td>3.0</td>\n",
       "      <td>1260759182</td>\n",
       "    </tr>\n",
       "  </tbody>\n",
       "</table>\n",
       "</div>"
      ],
      "text/plain": [
       "   userId  movieId  rating   timestamp\n",
       "0       1       31     2.5  1260759144\n",
       "1       1     1029     3.0  1260759179\n",
       "2       1     1061     3.0  1260759182"
      ]
     },
     "execution_count": 3,
     "metadata": {},
     "output_type": "execute_result"
    }
   ],
   "source": [
    "rat.head(3)"
   ]
  },
  {
   "cell_type": "code",
   "execution_count": 4,
   "metadata": {},
   "outputs": [
    {
     "name": "stdout",
     "output_type": "stream",
     "text": [
      "<class 'pandas.core.frame.DataFrame'>\n",
      "RangeIndex: 100004 entries, 0 to 100003\n",
      "Data columns (total 4 columns):\n",
      "userId       100004 non-null int64\n",
      "movieId      100004 non-null int64\n",
      "rating       100004 non-null float64\n",
      "timestamp    100004 non-null int64\n",
      "dtypes: float64(1), int64(3)\n",
      "memory usage: 3.1 MB\n"
     ]
    }
   ],
   "source": [
    "rat.info()"
   ]
  },
  {
   "cell_type": "code",
   "execution_count": 5,
   "metadata": {},
   "outputs": [
    {
     "data": {
      "text/html": [
       "<div>\n",
       "<style>\n",
       "    .dataframe thead tr:only-child th {\n",
       "        text-align: right;\n",
       "    }\n",
       "\n",
       "    .dataframe thead th {\n",
       "        text-align: left;\n",
       "    }\n",
       "\n",
       "    .dataframe tbody tr th {\n",
       "        vertical-align: top;\n",
       "    }\n",
       "</style>\n",
       "<table border=\"1\" class=\"dataframe\">\n",
       "  <thead>\n",
       "    <tr style=\"text-align: right;\">\n",
       "      <th></th>\n",
       "      <th>cast</th>\n",
       "      <th>crew</th>\n",
       "      <th>id</th>\n",
       "    </tr>\n",
       "  </thead>\n",
       "  <tbody>\n",
       "    <tr>\n",
       "      <th>0</th>\n",
       "      <td>[{'cast_id': 14, 'character': 'Woody (voice)',...</td>\n",
       "      <td>[{'credit_id': '52fe4284c3a36847f8024f49', 'de...</td>\n",
       "      <td>862</td>\n",
       "    </tr>\n",
       "    <tr>\n",
       "      <th>1</th>\n",
       "      <td>[{'cast_id': 1, 'character': 'Alan Parrish', '...</td>\n",
       "      <td>[{'credit_id': '52fe44bfc3a36847f80a7cd1', 'de...</td>\n",
       "      <td>8844</td>\n",
       "    </tr>\n",
       "    <tr>\n",
       "      <th>2</th>\n",
       "      <td>[{'cast_id': 2, 'character': 'Max Goldman', 'c...</td>\n",
       "      <td>[{'credit_id': '52fe466a9251416c75077a89', 'de...</td>\n",
       "      <td>15602</td>\n",
       "    </tr>\n",
       "  </tbody>\n",
       "</table>\n",
       "</div>"
      ],
      "text/plain": [
       "                                                cast  \\\n",
       "0  [{'cast_id': 14, 'character': 'Woody (voice)',...   \n",
       "1  [{'cast_id': 1, 'character': 'Alan Parrish', '...   \n",
       "2  [{'cast_id': 2, 'character': 'Max Goldman', 'c...   \n",
       "\n",
       "                                                crew     id  \n",
       "0  [{'credit_id': '52fe4284c3a36847f8024f49', 'de...    862  \n",
       "1  [{'credit_id': '52fe44bfc3a36847f80a7cd1', 'de...   8844  \n",
       "2  [{'credit_id': '52fe466a9251416c75077a89', 'de...  15602  "
      ]
     },
     "execution_count": 5,
     "metadata": {},
     "output_type": "execute_result"
    }
   ],
   "source": [
    "cred.head(3)"
   ]
  },
  {
   "cell_type": "code",
   "execution_count": 6,
   "metadata": {},
   "outputs": [
    {
     "name": "stdout",
     "output_type": "stream",
     "text": [
      "<class 'pandas.core.frame.DataFrame'>\n",
      "RangeIndex: 45476 entries, 0 to 45475\n",
      "Data columns (total 3 columns):\n",
      "cast    45476 non-null object\n",
      "crew    45476 non-null object\n",
      "id      45476 non-null int64\n",
      "dtypes: int64(1), object(2)\n",
      "memory usage: 710.6+ KB\n"
     ]
    }
   ],
   "source": [
    "cred.info()"
   ]
  },
  {
   "cell_type": "code",
   "execution_count": 7,
   "metadata": {},
   "outputs": [
    {
     "data": {
      "text/html": [
       "<div>\n",
       "<style>\n",
       "    .dataframe thead tr:only-child th {\n",
       "        text-align: right;\n",
       "    }\n",
       "\n",
       "    .dataframe thead th {\n",
       "        text-align: left;\n",
       "    }\n",
       "\n",
       "    .dataframe tbody tr th {\n",
       "        vertical-align: top;\n",
       "    }\n",
       "</style>\n",
       "<table border=\"1\" class=\"dataframe\">\n",
       "  <thead>\n",
       "    <tr style=\"text-align: right;\">\n",
       "      <th></th>\n",
       "      <th>id</th>\n",
       "      <th>keywords</th>\n",
       "    </tr>\n",
       "  </thead>\n",
       "  <tbody>\n",
       "    <tr>\n",
       "      <th>0</th>\n",
       "      <td>862</td>\n",
       "      <td>[{'id': 931, 'name': 'jealousy'}, {'id': 4290,...</td>\n",
       "    </tr>\n",
       "    <tr>\n",
       "      <th>1</th>\n",
       "      <td>8844</td>\n",
       "      <td>[{'id': 10090, 'name': 'board game'}, {'id': 1...</td>\n",
       "    </tr>\n",
       "    <tr>\n",
       "      <th>2</th>\n",
       "      <td>15602</td>\n",
       "      <td>[{'id': 1495, 'name': 'fishing'}, {'id': 12392...</td>\n",
       "    </tr>\n",
       "  </tbody>\n",
       "</table>\n",
       "</div>"
      ],
      "text/plain": [
       "      id                                           keywords\n",
       "0    862  [{'id': 931, 'name': 'jealousy'}, {'id': 4290,...\n",
       "1   8844  [{'id': 10090, 'name': 'board game'}, {'id': 1...\n",
       "2  15602  [{'id': 1495, 'name': 'fishing'}, {'id': 12392..."
      ]
     },
     "execution_count": 7,
     "metadata": {},
     "output_type": "execute_result"
    }
   ],
   "source": [
    "key.head(3)"
   ]
  },
  {
   "cell_type": "code",
   "execution_count": 8,
   "metadata": {},
   "outputs": [
    {
     "name": "stdout",
     "output_type": "stream",
     "text": [
      "<class 'pandas.core.frame.DataFrame'>\n",
      "RangeIndex: 46419 entries, 0 to 46418\n",
      "Data columns (total 2 columns):\n",
      "id          46419 non-null int64\n",
      "keywords    46419 non-null object\n",
      "dtypes: int64(1), object(1)\n",
      "memory usage: 544.0+ KB\n"
     ]
    }
   ],
   "source": [
    "key.info()"
   ]
  },
  {
   "cell_type": "code",
   "execution_count": 9,
   "metadata": {},
   "outputs": [
    {
     "data": {
      "text/html": [
       "<div>\n",
       "<style>\n",
       "    .dataframe thead tr:only-child th {\n",
       "        text-align: right;\n",
       "    }\n",
       "\n",
       "    .dataframe thead th {\n",
       "        text-align: left;\n",
       "    }\n",
       "\n",
       "    .dataframe tbody tr th {\n",
       "        vertical-align: top;\n",
       "    }\n",
       "</style>\n",
       "<table border=\"1\" class=\"dataframe\">\n",
       "  <thead>\n",
       "    <tr style=\"text-align: right;\">\n",
       "      <th></th>\n",
       "      <th>movieId</th>\n",
       "      <th>imdbId</th>\n",
       "      <th>tmdbId</th>\n",
       "    </tr>\n",
       "  </thead>\n",
       "  <tbody>\n",
       "    <tr>\n",
       "      <th>0</th>\n",
       "      <td>1</td>\n",
       "      <td>114709</td>\n",
       "      <td>862.0</td>\n",
       "    </tr>\n",
       "    <tr>\n",
       "      <th>1</th>\n",
       "      <td>2</td>\n",
       "      <td>113497</td>\n",
       "      <td>8844.0</td>\n",
       "    </tr>\n",
       "    <tr>\n",
       "      <th>2</th>\n",
       "      <td>3</td>\n",
       "      <td>113228</td>\n",
       "      <td>15602.0</td>\n",
       "    </tr>\n",
       "  </tbody>\n",
       "</table>\n",
       "</div>"
      ],
      "text/plain": [
       "   movieId  imdbId   tmdbId\n",
       "0        1  114709    862.0\n",
       "1        2  113497   8844.0\n",
       "2        3  113228  15602.0"
      ]
     },
     "execution_count": 9,
     "metadata": {},
     "output_type": "execute_result"
    }
   ],
   "source": [
    "link.head(3)"
   ]
  },
  {
   "cell_type": "code",
   "execution_count": 10,
   "metadata": {},
   "outputs": [
    {
     "name": "stdout",
     "output_type": "stream",
     "text": [
      "<class 'pandas.core.frame.DataFrame'>\n",
      "RangeIndex: 9125 entries, 0 to 9124\n",
      "Data columns (total 3 columns):\n",
      "movieId    9125 non-null int64\n",
      "imdbId     9125 non-null int64\n",
      "tmdbId     9112 non-null float64\n",
      "dtypes: float64(1), int64(2)\n",
      "memory usage: 213.9 KB\n"
     ]
    }
   ],
   "source": [
    "link.info()"
   ]
  },
  {
   "cell_type": "code",
   "execution_count": 11,
   "metadata": {},
   "outputs": [
    {
     "data": {
      "text/html": [
       "<div>\n",
       "<style>\n",
       "    .dataframe thead tr:only-child th {\n",
       "        text-align: right;\n",
       "    }\n",
       "\n",
       "    .dataframe thead th {\n",
       "        text-align: left;\n",
       "    }\n",
       "\n",
       "    .dataframe tbody tr th {\n",
       "        vertical-align: top;\n",
       "    }\n",
       "</style>\n",
       "<table border=\"1\" class=\"dataframe\">\n",
       "  <thead>\n",
       "    <tr style=\"text-align: right;\">\n",
       "      <th></th>\n",
       "      <th>adult</th>\n",
       "      <th>belongs_to_collection</th>\n",
       "      <th>budget</th>\n",
       "      <th>genres</th>\n",
       "      <th>homepage</th>\n",
       "      <th>id</th>\n",
       "      <th>imdb_id</th>\n",
       "      <th>original_language</th>\n",
       "      <th>original_title</th>\n",
       "      <th>overview</th>\n",
       "      <th>...</th>\n",
       "      <th>release_date</th>\n",
       "      <th>revenue</th>\n",
       "      <th>runtime</th>\n",
       "      <th>spoken_languages</th>\n",
       "      <th>status</th>\n",
       "      <th>tagline</th>\n",
       "      <th>title</th>\n",
       "      <th>video</th>\n",
       "      <th>vote_average</th>\n",
       "      <th>vote_count</th>\n",
       "    </tr>\n",
       "  </thead>\n",
       "  <tbody>\n",
       "    <tr>\n",
       "      <th>0</th>\n",
       "      <td>False</td>\n",
       "      <td>{'id': 10194, 'name': 'Toy Story Collection', ...</td>\n",
       "      <td>30000000</td>\n",
       "      <td>[{'id': 16, 'name': 'Animation'}, {'id': 35, '...</td>\n",
       "      <td>http://toystory.disney.com/toy-story</td>\n",
       "      <td>862</td>\n",
       "      <td>tt0114709</td>\n",
       "      <td>en</td>\n",
       "      <td>Toy Story</td>\n",
       "      <td>Led by Woody, Andy's toys live happily in his ...</td>\n",
       "      <td>...</td>\n",
       "      <td>1995-10-30</td>\n",
       "      <td>373554033.0</td>\n",
       "      <td>81.0</td>\n",
       "      <td>[{'iso_639_1': 'en', 'name': 'English'}]</td>\n",
       "      <td>Released</td>\n",
       "      <td>NaN</td>\n",
       "      <td>Toy Story</td>\n",
       "      <td>False</td>\n",
       "      <td>7.7</td>\n",
       "      <td>5415.0</td>\n",
       "    </tr>\n",
       "    <tr>\n",
       "      <th>1</th>\n",
       "      <td>False</td>\n",
       "      <td>NaN</td>\n",
       "      <td>65000000</td>\n",
       "      <td>[{'id': 12, 'name': 'Adventure'}, {'id': 14, '...</td>\n",
       "      <td>NaN</td>\n",
       "      <td>8844</td>\n",
       "      <td>tt0113497</td>\n",
       "      <td>en</td>\n",
       "      <td>Jumanji</td>\n",
       "      <td>When siblings Judy and Peter discover an encha...</td>\n",
       "      <td>...</td>\n",
       "      <td>1995-12-15</td>\n",
       "      <td>262797249.0</td>\n",
       "      <td>104.0</td>\n",
       "      <td>[{'iso_639_1': 'en', 'name': 'English'}, {'iso...</td>\n",
       "      <td>Released</td>\n",
       "      <td>Roll the dice and unleash the excitement!</td>\n",
       "      <td>Jumanji</td>\n",
       "      <td>False</td>\n",
       "      <td>6.9</td>\n",
       "      <td>2413.0</td>\n",
       "    </tr>\n",
       "    <tr>\n",
       "      <th>2</th>\n",
       "      <td>False</td>\n",
       "      <td>{'id': 119050, 'name': 'Grumpy Old Men Collect...</td>\n",
       "      <td>0</td>\n",
       "      <td>[{'id': 10749, 'name': 'Romance'}, {'id': 35, ...</td>\n",
       "      <td>NaN</td>\n",
       "      <td>15602</td>\n",
       "      <td>tt0113228</td>\n",
       "      <td>en</td>\n",
       "      <td>Grumpier Old Men</td>\n",
       "      <td>A family wedding reignites the ancient feud be...</td>\n",
       "      <td>...</td>\n",
       "      <td>1995-12-22</td>\n",
       "      <td>0.0</td>\n",
       "      <td>101.0</td>\n",
       "      <td>[{'iso_639_1': 'en', 'name': 'English'}]</td>\n",
       "      <td>Released</td>\n",
       "      <td>Still Yelling. Still Fighting. Still Ready for...</td>\n",
       "      <td>Grumpier Old Men</td>\n",
       "      <td>False</td>\n",
       "      <td>6.5</td>\n",
       "      <td>92.0</td>\n",
       "    </tr>\n",
       "  </tbody>\n",
       "</table>\n",
       "<p>3 rows × 24 columns</p>\n",
       "</div>"
      ],
      "text/plain": [
       "   adult                              belongs_to_collection    budget  \\\n",
       "0  False  {'id': 10194, 'name': 'Toy Story Collection', ...  30000000   \n",
       "1  False                                                NaN  65000000   \n",
       "2  False  {'id': 119050, 'name': 'Grumpy Old Men Collect...         0   \n",
       "\n",
       "                                              genres  \\\n",
       "0  [{'id': 16, 'name': 'Animation'}, {'id': 35, '...   \n",
       "1  [{'id': 12, 'name': 'Adventure'}, {'id': 14, '...   \n",
       "2  [{'id': 10749, 'name': 'Romance'}, {'id': 35, ...   \n",
       "\n",
       "                               homepage     id    imdb_id original_language  \\\n",
       "0  http://toystory.disney.com/toy-story    862  tt0114709                en   \n",
       "1                                   NaN   8844  tt0113497                en   \n",
       "2                                   NaN  15602  tt0113228                en   \n",
       "\n",
       "     original_title                                           overview  \\\n",
       "0         Toy Story  Led by Woody, Andy's toys live happily in his ...   \n",
       "1           Jumanji  When siblings Judy and Peter discover an encha...   \n",
       "2  Grumpier Old Men  A family wedding reignites the ancient feud be...   \n",
       "\n",
       "     ...     release_date      revenue runtime  \\\n",
       "0    ...       1995-10-30  373554033.0    81.0   \n",
       "1    ...       1995-12-15  262797249.0   104.0   \n",
       "2    ...       1995-12-22          0.0   101.0   \n",
       "\n",
       "                                    spoken_languages    status  \\\n",
       "0           [{'iso_639_1': 'en', 'name': 'English'}]  Released   \n",
       "1  [{'iso_639_1': 'en', 'name': 'English'}, {'iso...  Released   \n",
       "2           [{'iso_639_1': 'en', 'name': 'English'}]  Released   \n",
       "\n",
       "                                             tagline             title  video  \\\n",
       "0                                                NaN         Toy Story  False   \n",
       "1          Roll the dice and unleash the excitement!           Jumanji  False   \n",
       "2  Still Yelling. Still Fighting. Still Ready for...  Grumpier Old Men  False   \n",
       "\n",
       "  vote_average vote_count  \n",
       "0          7.7     5415.0  \n",
       "1          6.9     2413.0  \n",
       "2          6.5       92.0  \n",
       "\n",
       "[3 rows x 24 columns]"
      ]
     },
     "execution_count": 11,
     "metadata": {},
     "output_type": "execute_result"
    }
   ],
   "source": [
    "mov.head(3)"
   ]
  },
  {
   "cell_type": "markdown",
   "metadata": {},
   "source": [
    "Gathering the information about the data types."
   ]
  },
  {
   "cell_type": "code",
   "execution_count": 12,
   "metadata": {},
   "outputs": [
    {
     "name": "stdout",
     "output_type": "stream",
     "text": [
      "<class 'pandas.core.frame.DataFrame'>\n",
      "RangeIndex: 45466 entries, 0 to 45465\n",
      "Data columns (total 24 columns):\n",
      "adult                    45466 non-null object\n",
      "belongs_to_collection    4494 non-null object\n",
      "budget                   45466 non-null object\n",
      "genres                   45466 non-null object\n",
      "homepage                 7782 non-null object\n",
      "id                       45466 non-null object\n",
      "imdb_id                  45449 non-null object\n",
      "original_language        45455 non-null object\n",
      "original_title           45466 non-null object\n",
      "overview                 44512 non-null object\n",
      "popularity               45461 non-null object\n",
      "poster_path              45080 non-null object\n",
      "production_companies     45463 non-null object\n",
      "production_countries     45463 non-null object\n",
      "release_date             45379 non-null object\n",
      "revenue                  45460 non-null float64\n",
      "runtime                  45203 non-null float64\n",
      "spoken_languages         45460 non-null object\n",
      "status                   45379 non-null object\n",
      "tagline                  20412 non-null object\n",
      "title                    45460 non-null object\n",
      "video                    45460 non-null object\n",
      "vote_average             45460 non-null float64\n",
      "vote_count               45460 non-null float64\n",
      "dtypes: float64(4), object(20)\n",
      "memory usage: 4.9+ MB\n"
     ]
    }
   ],
   "source": [
    "mov.info()"
   ]
  },
  {
   "cell_type": "markdown",
   "metadata": {},
   "source": [
    "## 1.2 The 'mov' Dataframe"
   ]
  },
  {
   "cell_type": "markdown",
   "metadata": {},
   "source": [
    "### 1.2.1 Genres Column"
   ]
  },
  {
   "cell_type": "code",
   "execution_count": 13,
   "metadata": {},
   "outputs": [
    {
     "data": {
      "text/plain": [
       "pandas.core.series.Series"
      ]
     },
     "execution_count": 13,
     "metadata": {},
     "output_type": "execute_result"
    }
   ],
   "source": [
    "type(mov.genres)"
   ]
  },
  {
   "cell_type": "markdown",
   "metadata": {},
   "source": [
    "As far as one of our main goals is having a decent view at the genres of the movies, we'll make the 'genres' column more usable. Now, as we see, its type is series, consisting of string elements, hence we cannot use it for our predictor.\n",
    "To solve this issue, we are making it into dummies."
   ]
  },
  {
   "cell_type": "code",
   "execution_count": 14,
   "metadata": {},
   "outputs": [
    {
     "data": {
      "text/plain": [
       "0    [{'id': 16, 'name': 'Animation'}, {'id': 35, '...\n",
       "1    [{'id': 12, 'name': 'Adventure'}, {'id': 14, '...\n",
       "2    [{'id': 10749, 'name': 'Romance'}, {'id': 35, ...\n",
       "3    [{'id': 35, 'name': 'Comedy'}, {'id': 18, 'nam...\n",
       "4                       [{'id': 35, 'name': 'Comedy'}]\n",
       "Name: genres, dtype: object"
      ]
     },
     "execution_count": 14,
     "metadata": {},
     "output_type": "execute_result"
    }
   ],
   "source": [
    "mov.genres.head()"
   ]
  },
  {
   "cell_type": "code",
   "execution_count": 15,
   "metadata": {
    "collapsed": true
   },
   "outputs": [],
   "source": [
    "genres_view=[]\n",
    "for i in range(mov.shape[0]):\n",
    "    for genre in json.loads(mov.iloc[i]['genres'].replace(\"'\",'\"')):\n",
    "        genres_view.append(genre['name'])"
   ]
  },
  {
   "cell_type": "markdown",
   "metadata": {},
   "source": [
    "The genres_view list will have every genre stored separately in it."
   ]
  },
  {
   "cell_type": "code",
   "execution_count": 16,
   "metadata": {
    "collapsed": true
   },
   "outputs": [],
   "source": [
    "genres_view=set(genres_view)"
   ]
  },
  {
   "cell_type": "code",
   "execution_count": 17,
   "metadata": {
    "scrolled": true
   },
   "outputs": [
    {
     "data": {
      "text/plain": [
       "{'Action',\n",
       " 'Adventure',\n",
       " 'Animation',\n",
       " 'Aniplex',\n",
       " 'BROSTA TV',\n",
       " 'Carousel Productions',\n",
       " 'Comedy',\n",
       " 'Crime',\n",
       " 'Documentary',\n",
       " 'Drama',\n",
       " 'Family',\n",
       " 'Fantasy',\n",
       " 'Foreign',\n",
       " 'GoHands',\n",
       " 'History',\n",
       " 'Horror',\n",
       " 'Mardock Scramble Production Committee',\n",
       " 'Music',\n",
       " 'Mystery',\n",
       " 'Odyssey Media',\n",
       " 'Pulser Productions',\n",
       " 'Rogue State',\n",
       " 'Romance',\n",
       " 'Science Fiction',\n",
       " 'Sentai Filmworks',\n",
       " 'TV Movie',\n",
       " 'Telescene Film Group Productions',\n",
       " 'The Cartel',\n",
       " 'Thriller',\n",
       " 'Vision View Entertainment',\n",
       " 'War',\n",
       " 'Western'}"
      ]
     },
     "execution_count": 17,
     "metadata": {},
     "output_type": "execute_result"
    }
   ],
   "source": [
    "genres_view"
   ]
  },
  {
   "cell_type": "markdown",
   "metadata": {},
   "source": [
    "Now, every movie has its row of separate genres. All have a value of 0. So, let's make the necessary genre values 1 for each movie, by browsing through our old 'genres' column and seeing which movie has what genres defined."
   ]
  },
  {
   "cell_type": "code",
   "execution_count": 18,
   "metadata": {
    "collapsed": true
   },
   "outputs": [],
   "source": [
    "for genre_col in genres_view:\n",
    "    col=pd.Series(np.zeros(mov.shape[0]), index=mov.index)\n",
    "    mov[genre_col]=col"
   ]
  },
  {
   "cell_type": "code",
   "execution_count": 19,
   "metadata": {
    "collapsed": true
   },
   "outputs": [],
   "source": [
    "for i in range(mov.shape[0]):\n",
    "    for genre in json.loads(mov.iloc[i]['genres'].replace(\"'\",'\"')):\n",
    "        mov.loc[i,genre['name']]=1"
   ]
  },
  {
   "cell_type": "markdown",
   "metadata": {},
   "source": [
    "As we see, some of them are not even genres, so we simply cut them off in our 'mov' dataset."
   ]
  },
  {
   "cell_type": "code",
   "execution_count": 20,
   "metadata": {
    "collapsed": true
   },
   "outputs": [],
   "source": [
    "mov = mov.drop('Aniplex',axis=1)\n",
    "mov = mov.drop('BROSTA TV',axis=1)\n",
    "mov = mov.drop('Carousel Productions',axis=1)\n",
    "mov = mov.drop('GoHands',axis=1)\n",
    "mov = mov.drop('Mardock Scramble Production Committee',axis=1)\n",
    "mov = mov.drop('Odyssey Media',axis=1)\n",
    "mov = mov.drop('Pulser Productions',axis=1)\n",
    "mov = mov.drop('Rogue State',axis=1)\n",
    "mov = mov.drop('Sentai Filmworks',axis=1)\n",
    "mov = mov.drop('TV Movie',axis=1)\n",
    "mov = mov.drop('Telescene Film Group Productions',axis=1)\n",
    "mov = mov.drop('The Cartel',axis=1)\n",
    "mov = mov.drop('Vision View Entertainment',axis=1)"
   ]
  },
  {
   "cell_type": "code",
   "execution_count": 21,
   "metadata": {
    "scrolled": true
   },
   "outputs": [
    {
     "data": {
      "text/html": [
       "<div>\n",
       "<style>\n",
       "    .dataframe thead tr:only-child th {\n",
       "        text-align: right;\n",
       "    }\n",
       "\n",
       "    .dataframe thead th {\n",
       "        text-align: left;\n",
       "    }\n",
       "\n",
       "    .dataframe tbody tr th {\n",
       "        vertical-align: top;\n",
       "    }\n",
       "</style>\n",
       "<table border=\"1\" class=\"dataframe\">\n",
       "  <thead>\n",
       "    <tr style=\"text-align: right;\">\n",
       "      <th></th>\n",
       "      <th>adult</th>\n",
       "      <th>belongs_to_collection</th>\n",
       "      <th>budget</th>\n",
       "      <th>genres</th>\n",
       "      <th>homepage</th>\n",
       "      <th>id</th>\n",
       "      <th>imdb_id</th>\n",
       "      <th>original_language</th>\n",
       "      <th>original_title</th>\n",
       "      <th>overview</th>\n",
       "      <th>...</th>\n",
       "      <th>Crime</th>\n",
       "      <th>Romance</th>\n",
       "      <th>Fantasy</th>\n",
       "      <th>Science Fiction</th>\n",
       "      <th>Western</th>\n",
       "      <th>Mystery</th>\n",
       "      <th>Animation</th>\n",
       "      <th>Action</th>\n",
       "      <th>Comedy</th>\n",
       "      <th>War</th>\n",
       "    </tr>\n",
       "  </thead>\n",
       "  <tbody>\n",
       "    <tr>\n",
       "      <th>0</th>\n",
       "      <td>False</td>\n",
       "      <td>{'id': 10194, 'name': 'Toy Story Collection', ...</td>\n",
       "      <td>30000000</td>\n",
       "      <td>[{'id': 16, 'name': 'Animation'}, {'id': 35, '...</td>\n",
       "      <td>http://toystory.disney.com/toy-story</td>\n",
       "      <td>862</td>\n",
       "      <td>tt0114709</td>\n",
       "      <td>en</td>\n",
       "      <td>Toy Story</td>\n",
       "      <td>Led by Woody, Andy's toys live happily in his ...</td>\n",
       "      <td>...</td>\n",
       "      <td>0.0</td>\n",
       "      <td>0.0</td>\n",
       "      <td>0.0</td>\n",
       "      <td>0.0</td>\n",
       "      <td>0.0</td>\n",
       "      <td>0.0</td>\n",
       "      <td>1.0</td>\n",
       "      <td>0.0</td>\n",
       "      <td>1.0</td>\n",
       "      <td>0.0</td>\n",
       "    </tr>\n",
       "    <tr>\n",
       "      <th>1</th>\n",
       "      <td>False</td>\n",
       "      <td>NaN</td>\n",
       "      <td>65000000</td>\n",
       "      <td>[{'id': 12, 'name': 'Adventure'}, {'id': 14, '...</td>\n",
       "      <td>NaN</td>\n",
       "      <td>8844</td>\n",
       "      <td>tt0113497</td>\n",
       "      <td>en</td>\n",
       "      <td>Jumanji</td>\n",
       "      <td>When siblings Judy and Peter discover an encha...</td>\n",
       "      <td>...</td>\n",
       "      <td>0.0</td>\n",
       "      <td>0.0</td>\n",
       "      <td>1.0</td>\n",
       "      <td>0.0</td>\n",
       "      <td>0.0</td>\n",
       "      <td>0.0</td>\n",
       "      <td>0.0</td>\n",
       "      <td>0.0</td>\n",
       "      <td>0.0</td>\n",
       "      <td>0.0</td>\n",
       "    </tr>\n",
       "    <tr>\n",
       "      <th>2</th>\n",
       "      <td>False</td>\n",
       "      <td>{'id': 119050, 'name': 'Grumpy Old Men Collect...</td>\n",
       "      <td>0</td>\n",
       "      <td>[{'id': 10749, 'name': 'Romance'}, {'id': 35, ...</td>\n",
       "      <td>NaN</td>\n",
       "      <td>15602</td>\n",
       "      <td>tt0113228</td>\n",
       "      <td>en</td>\n",
       "      <td>Grumpier Old Men</td>\n",
       "      <td>A family wedding reignites the ancient feud be...</td>\n",
       "      <td>...</td>\n",
       "      <td>0.0</td>\n",
       "      <td>1.0</td>\n",
       "      <td>0.0</td>\n",
       "      <td>0.0</td>\n",
       "      <td>0.0</td>\n",
       "      <td>0.0</td>\n",
       "      <td>0.0</td>\n",
       "      <td>0.0</td>\n",
       "      <td>1.0</td>\n",
       "      <td>0.0</td>\n",
       "    </tr>\n",
       "  </tbody>\n",
       "</table>\n",
       "<p>3 rows × 43 columns</p>\n",
       "</div>"
      ],
      "text/plain": [
       "   adult                              belongs_to_collection    budget  \\\n",
       "0  False  {'id': 10194, 'name': 'Toy Story Collection', ...  30000000   \n",
       "1  False                                                NaN  65000000   \n",
       "2  False  {'id': 119050, 'name': 'Grumpy Old Men Collect...         0   \n",
       "\n",
       "                                              genres  \\\n",
       "0  [{'id': 16, 'name': 'Animation'}, {'id': 35, '...   \n",
       "1  [{'id': 12, 'name': 'Adventure'}, {'id': 14, '...   \n",
       "2  [{'id': 10749, 'name': 'Romance'}, {'id': 35, ...   \n",
       "\n",
       "                               homepage     id    imdb_id original_language  \\\n",
       "0  http://toystory.disney.com/toy-story    862  tt0114709                en   \n",
       "1                                   NaN   8844  tt0113497                en   \n",
       "2                                   NaN  15602  tt0113228                en   \n",
       "\n",
       "     original_title                                           overview ...   \\\n",
       "0         Toy Story  Led by Woody, Andy's toys live happily in his ... ...    \n",
       "1           Jumanji  When siblings Judy and Peter discover an encha... ...    \n",
       "2  Grumpier Old Men  A family wedding reignites the ancient feud be... ...    \n",
       "\n",
       "  Crime Romance Fantasy Science Fiction Western  Mystery  Animation Action  \\\n",
       "0   0.0     0.0     0.0             0.0     0.0      0.0        1.0    0.0   \n",
       "1   0.0     0.0     1.0             0.0     0.0      0.0        0.0    0.0   \n",
       "2   0.0     1.0     0.0             0.0     0.0      0.0        0.0    0.0   \n",
       "\n",
       "  Comedy  War  \n",
       "0    1.0  0.0  \n",
       "1    0.0  0.0  \n",
       "2    1.0  0.0  \n",
       "\n",
       "[3 rows x 43 columns]"
      ]
     },
     "execution_count": 21,
     "metadata": {},
     "output_type": "execute_result"
    }
   ],
   "source": [
    "mov.head(3)"
   ]
  },
  {
   "cell_type": "code",
   "execution_count": 22,
   "metadata": {
    "collapsed": true
   },
   "outputs": [],
   "source": [
    "mov = mov.drop('genres',axis=1)"
   ]
  },
  {
   "cell_type": "markdown",
   "metadata": {},
   "source": [
    "There we have it. Genres are in dummies form now.\n",
    "Now let's move on to the other object types to see which columns can we simplify (encode, make dummies, etc)."
   ]
  },
  {
   "cell_type": "markdown",
   "metadata": {},
   "source": [
    "### 1.2.2 Adult Movies Column"
   ]
  },
  {
   "cell_type": "code",
   "execution_count": 23,
   "metadata": {
    "scrolled": false
   },
   "outputs": [
    {
     "name": "stdout",
     "output_type": "stream",
     "text": [
      "||| adult -> ['False' 'True' ' - Written by Ørnås'\n",
      " ' Rune Balot goes to a casino connected to the October corporation to try to wrap up her case once and for all.'\n",
      " ' Avalanche Sharks tells the story of a bikini contest that turns into a horrifying affair when it is hit by a shark avalanche.']\n",
      "||| belongs_to_collection -> [ \"{'id': 10194, 'name': 'Toy Story Collection', 'poster_path': '/7G9915LfUQ2lVfwMEEhDsn3kT4B.jpg', 'backdrop_path': '/9FBwqcd9IRruEDUrTdcaafOMKUq.jpg'}\"\n",
      " nan\n",
      " \"{'id': 119050, 'name': 'Grumpy Old Men Collection', 'poster_path': '/nLvUdqgPgm3F85NMCii9gVFUcet.jpg', 'backdrop_path': '/hypTnLot2z8wpFS7qwsQHW1uV8u.jpg'}\"\n",
      " ...,\n",
      " \"{'id': 148603, 'name': 'Ducobu Collection', 'poster_path': '/rd7AWZUy2QFPIblNWToVmdfXQcA.jpg', 'backdrop_path': '/7mzKmoIrvGapvsSbAVlX4HtCnFj.jpg'}\"\n",
      " \"{'id': 152918, 'name': 'Mister Blot Collection', 'poster_path': '/44PYEwwjGts8pAob59RHd6zlkKc.jpg', 'backdrop_path': '/5uoPsNiFpUYNamSGqE8okN27VRK.jpg'}\"\n",
      " \"{'id': 200641, 'name': 'Red Lotus Collection', 'poster_path': '/yf9Eod9ANXyHTzDpAxz9ezgvlL4.jpg', 'backdrop_path': '/3fhHbLeO3DqdHvgHg5szs399eBb.jpg'}\"]\n",
      "||| budget -> ['30000000' '65000000' '0' ..., '3417000' '25868826' '1254040']\n",
      "||| homepage -> ['http://toystory.disney.com/toy-story' nan\n",
      " 'http://www.mgm.com/view/movie/757/Goldeneye/' ..., 'http://ddpromo.ru/'\n",
      " 'http://lmtr.fi/' 'http://www.imdb.com/title/tt6209470/']\n",
      "||| id -> ['862' '8844' '15602' ..., '67758' '227506' '461257']\n",
      "||| imdb_id -> ['tt0114709' 'tt0113497' 'tt0113228' ..., 'tt0303758' 'tt0008536'\n",
      " 'tt6980792']\n",
      "||| original_language -> ['en' 'fr' 'zh' 'it' 'fa' 'nl' 'de' 'cn' 'ar' 'es' 'ru' 'sv' 'ja' 'ko' 'sr'\n",
      " 'bn' 'he' 'pt' 'wo' 'ro' 'hu' 'cy' 'vi' 'cs' 'da' 'no' 'nb' 'pl' 'el' 'sh'\n",
      " 'xx' 'mk' 'bo' 'ca' 'fi' 'th' 'sk' 'bs' 'hi' 'tr' 'is' 'ps' 'ab' 'eo' 'ka'\n",
      " 'mn' 'bm' 'zu' 'uk' 'af' 'la' 'et' 'ku' 'fy' 'lv' 'ta' 'sl' 'tl' 'ur' 'rw'\n",
      " 'id' 'bg' 'mr' 'lt' 'kk' 'ms' 'sq' nan '104.0' 'qu' 'te' 'am' 'jv' 'tg'\n",
      " 'ml' 'hr' 'lo' 'ay' 'kn' 'eu' 'ne' 'pa' 'ky' 'gl' '68.0' 'uz' 'sm' 'mt'\n",
      " '82.0' 'hy' 'iu' 'lb' 'si']\n",
      "||| original_title -> ['Toy Story' 'Jumanji' 'Grumpier Old Men' ..., 'Siglo ng Pagluluwal'\n",
      " 'Satana likuyushchiy' 'Queerama']\n",
      "||| overview -> [ \"Led by Woody, Andy's toys live happily in his room until Andy's birthday brings Buzz Lightyear onto the scene. Afraid of losing his place in Andy's heart, Woody plots against Buzz. But when circumstances separate Buzz and Woody from their owner, the duo eventually learns to put aside their differences.\"\n",
      " \"When siblings Judy and Peter discover an enchanted board game that opens the door to a magical world, they unwittingly invite Alan -- an adult who's been trapped inside the game for 26 years -- into their living room. Alan's only hope for freedom is to finish the game, which proves risky as all three find themselves running from giant rhinoceroses, evil monkeys and other terrifying creatures.\"\n",
      " \"A family wedding reignites the ancient feud between next-door neighbors and fishing buddies John and Max. Meanwhile, a sultry Italian divorcée opens a restaurant at the local bait shop, alarming the locals who worry she'll scare the fish away. But she's less interested in seafood than she is in cooking up a hot time with Max.\"\n",
      " ...,\n",
      " 'When one of her hits goes wrong, a professional assassin ends up with a suitcase full of a million dollars belonging to a mob boss ...'\n",
      " \"In a small town live two brothers, one a minister and the other one a hunchback painter of the chapel who lives with his wife. One dreadful and stormy night, a stranger knocks at the door asking for shelter. The stranger talks about all the good things of the earthly life the minister is missing because of his puritanical faith. The minister comes to accept the stranger's viewpoint but it is others who will pay the consequences because the minister will discover the human pleasures thanks to, ehem, his sister- in -law… The tormented minister and his cuckolded brother will die in a strange accident in the chapel and later an infant will be born from the minister's adulterous relationship.\"\n",
      " '50 years after decriminalisation of homosexuality in the UK, director Daisy Asquith mines the jewels of the BFI archive to take us into the relationships, desires, fears and expressions of gay men and women in the 20th century.']\n",
      "||| popularity -> [21.946943 17.015539 11.7129 ..., '0.903007' '0.003503' '0.163015']\n",
      "||| poster_path -> ['/rhIRbceoE9lR4veEXuwCC2wARtG.jpg' '/vzmL6fP7aPKNKPRTFnZmiUfciyV.jpg'\n",
      " '/6ksm1sjKMFLbO7UY2i6G1ju9SML.jpg' ..., '/d5bX92nDsISNhu3ZT69uHwmfCGw.jpg'\n",
      " '/aorBPO7ak8e8iJKT5OcqYxU3jlK.jpg' '/s5UkZt6NTsrS7ZF0Rh8nzupRlIU.jpg']\n",
      "||| production_companies -> [\"[{'name': 'Pixar Animation Studios', 'id': 3}]\"\n",
      " \"[{'name': 'TriStar Pictures', 'id': 559}, {'name': 'Teitler Film', 'id': 2550}, {'name': 'Interscope Communications', 'id': 10201}]\"\n",
      " \"[{'name': 'Warner Bros.', 'id': 6194}, {'name': 'Lancaster Gate', 'id': 19464}]\"\n",
      " ...,\n",
      " \"[{'name': 'Westdeutscher Rundfunk (WDR)', 'id': 7025}, {'name': 'Working Title Films', 'id': 10163}, {'name': '20th Century Fox Television', 'id': 16323}, {'name': 'CanWest Global Communications', 'id': 38978}]\"\n",
      " \"[{'name': 'Sine Olivia', 'id': 19653}]\"\n",
      " \"[{'name': 'Yermoliev', 'id': 88753}]\"]\n",
      "||| production_countries -> [\"[{'iso_3166_1': 'US', 'name': 'United States of America'}]\"\n",
      " \"[{'iso_3166_1': 'DE', 'name': 'Germany'}, {'iso_3166_1': 'US', 'name': 'United States of America'}]\"\n",
      " \"[{'iso_3166_1': 'GB', 'name': 'United Kingdom'}, {'iso_3166_1': 'US', 'name': 'United States of America'}]\"\n",
      " ...,\n",
      " \"[{'iso_3166_1': 'PL', 'name': 'Poland'}, {'iso_3166_1': 'CZ', 'name': 'Czech Republic'}, {'iso_3166_1': 'SK', 'name': 'Slovakia'}]\"\n",
      " \"[{'iso_3166_1': 'CU', 'name': 'Cuba'}, {'iso_3166_1': 'DE', 'name': 'Germany'}, {'iso_3166_1': 'ES', 'name': 'Spain'}]\"\n",
      " \"[{'iso_3166_1': 'EG', 'name': 'Egypt'}, {'iso_3166_1': 'IT', 'name': 'Italy'}, {'iso_3166_1': 'US', 'name': 'United States of America'}]\"]\n",
      "||| release_date -> ['1995-10-30' '1995-12-15' '1995-12-22' ..., '1904-03-05' '1991-05-13'\n",
      " '1917-10-21']\n",
      "||| spoken_languages -> [\"[{'iso_639_1': 'en', 'name': 'English'}]\"\n",
      " \"[{'iso_639_1': 'en', 'name': 'English'}, {'iso_639_1': 'fr', 'name': 'Français'}]\"\n",
      " \"[{'iso_639_1': 'en', 'name': 'English'}, {'iso_639_1': 'es', 'name': 'Español'}]\"\n",
      " ...,\n",
      " \"[{'iso_639_1': 'sv', 'name': 'svenska'}, {'iso_639_1': 'de', 'name': 'Deutsch'}]\"\n",
      " \"[{'iso_639_1': 'ar', 'name': 'العربية'}, {'iso_639_1': 'pl', 'name': 'Polski'}]\"\n",
      " \"[{'iso_639_1': 'ff', 'name': 'Fulfulde'}, {'iso_639_1': 'en', 'name': 'English'}]\"]\n",
      "||| status -> ['Released' nan 'Rumored' 'Post Production' 'In Production' 'Planned'\n",
      " 'Canceled']\n",
      "||| tagline -> [nan 'Roll the dice and unleash the excitement!'\n",
      " 'Still Yelling. Still Fighting. Still Ready for Love.' ...,\n",
      " 'Do you know what happened 50 years before \"The Blair Witch Project\"?'\n",
      " 'Rising and falling between a man and woman' 'A deadly game of wits.']\n",
      "||| title -> ['Toy Story' 'Jumanji' 'Grumpier Old Men' ..., 'Century of Birthing'\n",
      " 'Satan Triumphant' 'Queerama']\n",
      "||| video -> [False True nan]\n"
     ]
    }
   ],
   "source": [
    "for i in range(len(mov.dtypes)):\n",
    "    if (mov.dtypes[i] == 'object'):\n",
    "        print(\"|||\", mov.columns.values[i], \"->\", mov.iloc[:,i].unique())"
   ]
  },
  {
   "cell_type": "markdown",
   "metadata": {},
   "source": [
    "We see the column 'adult' is determining whether the film is for adult viewing or not. So it can be comprehended as a True/False column. But the values are in string form and some rows contain values other than \"True\" or \"False\". So we encode the column into 0s and 1s, cutting off the rows containing anything other than True/False."
   ]
  },
  {
   "cell_type": "code",
   "execution_count": 24,
   "metadata": {
    "collapsed": true
   },
   "outputs": [],
   "source": [
    "adult_l=[]\n",
    "for i in range(mov.shape[0]):\n",
    "    adult_l.append(mov.iloc[i]['adult'])"
   ]
  },
  {
   "cell_type": "code",
   "execution_count": 25,
   "metadata": {},
   "outputs": [
    {
     "data": {
      "text/plain": [
       "{' - Written by Ørnås',\n",
       " ' Avalanche Sharks tells the story of a bikini contest that turns into a horrifying affair when it is hit by a shark avalanche.',\n",
       " ' Rune Balot goes to a casino connected to the October corporation to try to wrap up her case once and for all.',\n",
       " 'False',\n",
       " 'True'}"
      ]
     },
     "execution_count": 25,
     "metadata": {},
     "output_type": "execute_result"
    }
   ],
   "source": [
    "adult_l = set(adult_l)\n",
    "adult_l"
   ]
  },
  {
   "cell_type": "code",
   "execution_count": 26,
   "metadata": {
    "collapsed": true
   },
   "outputs": [],
   "source": [
    "for i in adult_l:\n",
    "    if i!='True' and i!='False':\n",
    "        mov = mov[mov.adult != i]"
   ]
  },
  {
   "cell_type": "code",
   "execution_count": 27,
   "metadata": {},
   "outputs": [
    {
     "data": {
      "text/plain": [
       "False    45454\n",
       "True         9\n",
       "Name: adult, dtype: int64"
      ]
     },
     "execution_count": 27,
     "metadata": {},
     "output_type": "execute_result"
    }
   ],
   "source": [
    "mov.adult.value_counts()"
   ]
  },
  {
   "cell_type": "code",
   "execution_count": 28,
   "metadata": {
    "collapsed": true
   },
   "outputs": [],
   "source": [
    "#encoding\n",
    "\n",
    "for i in range(mov.shape[0]):\n",
    "    if mov.iloc[i]['adult'] == 'False':\n",
    "        mov.loc[i,'adult'] = 0\n",
    "    elif mov.iloc[i]['adult'] == 'True':\n",
    "        mov.loc[i,'adult'] = 1"
   ]
  },
  {
   "cell_type": "code",
   "execution_count": 29,
   "metadata": {
    "scrolled": true
   },
   "outputs": [
    {
     "data": {
      "text/html": [
       "<div>\n",
       "<style>\n",
       "    .dataframe thead tr:only-child th {\n",
       "        text-align: right;\n",
       "    }\n",
       "\n",
       "    .dataframe thead th {\n",
       "        text-align: left;\n",
       "    }\n",
       "\n",
       "    .dataframe tbody tr th {\n",
       "        vertical-align: top;\n",
       "    }\n",
       "</style>\n",
       "<table border=\"1\" class=\"dataframe\">\n",
       "  <thead>\n",
       "    <tr style=\"text-align: right;\">\n",
       "      <th></th>\n",
       "      <th>adult</th>\n",
       "      <th>belongs_to_collection</th>\n",
       "      <th>budget</th>\n",
       "      <th>homepage</th>\n",
       "      <th>id</th>\n",
       "      <th>imdb_id</th>\n",
       "      <th>original_language</th>\n",
       "      <th>original_title</th>\n",
       "      <th>overview</th>\n",
       "      <th>popularity</th>\n",
       "      <th>...</th>\n",
       "      <th>Crime</th>\n",
       "      <th>Romance</th>\n",
       "      <th>Fantasy</th>\n",
       "      <th>Science Fiction</th>\n",
       "      <th>Western</th>\n",
       "      <th>Mystery</th>\n",
       "      <th>Animation</th>\n",
       "      <th>Action</th>\n",
       "      <th>Comedy</th>\n",
       "      <th>War</th>\n",
       "    </tr>\n",
       "  </thead>\n",
       "  <tbody>\n",
       "    <tr>\n",
       "      <th>0</th>\n",
       "      <td>0</td>\n",
       "      <td>{'id': 10194, 'name': 'Toy Story Collection', ...</td>\n",
       "      <td>30000000</td>\n",
       "      <td>http://toystory.disney.com/toy-story</td>\n",
       "      <td>862</td>\n",
       "      <td>tt0114709</td>\n",
       "      <td>en</td>\n",
       "      <td>Toy Story</td>\n",
       "      <td>Led by Woody, Andy's toys live happily in his ...</td>\n",
       "      <td>21.9469</td>\n",
       "      <td>...</td>\n",
       "      <td>0.0</td>\n",
       "      <td>0.0</td>\n",
       "      <td>0.0</td>\n",
       "      <td>0.0</td>\n",
       "      <td>0.0</td>\n",
       "      <td>0.0</td>\n",
       "      <td>1.0</td>\n",
       "      <td>0.0</td>\n",
       "      <td>1.0</td>\n",
       "      <td>0.0</td>\n",
       "    </tr>\n",
       "    <tr>\n",
       "      <th>1</th>\n",
       "      <td>0</td>\n",
       "      <td>NaN</td>\n",
       "      <td>65000000</td>\n",
       "      <td>NaN</td>\n",
       "      <td>8844</td>\n",
       "      <td>tt0113497</td>\n",
       "      <td>en</td>\n",
       "      <td>Jumanji</td>\n",
       "      <td>When siblings Judy and Peter discover an encha...</td>\n",
       "      <td>17.0155</td>\n",
       "      <td>...</td>\n",
       "      <td>0.0</td>\n",
       "      <td>0.0</td>\n",
       "      <td>1.0</td>\n",
       "      <td>0.0</td>\n",
       "      <td>0.0</td>\n",
       "      <td>0.0</td>\n",
       "      <td>0.0</td>\n",
       "      <td>0.0</td>\n",
       "      <td>0.0</td>\n",
       "      <td>0.0</td>\n",
       "    </tr>\n",
       "    <tr>\n",
       "      <th>2</th>\n",
       "      <td>0</td>\n",
       "      <td>{'id': 119050, 'name': 'Grumpy Old Men Collect...</td>\n",
       "      <td>0</td>\n",
       "      <td>NaN</td>\n",
       "      <td>15602</td>\n",
       "      <td>tt0113228</td>\n",
       "      <td>en</td>\n",
       "      <td>Grumpier Old Men</td>\n",
       "      <td>A family wedding reignites the ancient feud be...</td>\n",
       "      <td>11.7129</td>\n",
       "      <td>...</td>\n",
       "      <td>0.0</td>\n",
       "      <td>1.0</td>\n",
       "      <td>0.0</td>\n",
       "      <td>0.0</td>\n",
       "      <td>0.0</td>\n",
       "      <td>0.0</td>\n",
       "      <td>0.0</td>\n",
       "      <td>0.0</td>\n",
       "      <td>1.0</td>\n",
       "      <td>0.0</td>\n",
       "    </tr>\n",
       "  </tbody>\n",
       "</table>\n",
       "<p>3 rows × 42 columns</p>\n",
       "</div>"
      ],
      "text/plain": [
       "  adult                              belongs_to_collection    budget  \\\n",
       "0     0  {'id': 10194, 'name': 'Toy Story Collection', ...  30000000   \n",
       "1     0                                                NaN  65000000   \n",
       "2     0  {'id': 119050, 'name': 'Grumpy Old Men Collect...         0   \n",
       "\n",
       "                               homepage     id    imdb_id original_language  \\\n",
       "0  http://toystory.disney.com/toy-story    862  tt0114709                en   \n",
       "1                                   NaN   8844  tt0113497                en   \n",
       "2                                   NaN  15602  tt0113228                en   \n",
       "\n",
       "     original_title                                           overview  \\\n",
       "0         Toy Story  Led by Woody, Andy's toys live happily in his ...   \n",
       "1           Jumanji  When siblings Judy and Peter discover an encha...   \n",
       "2  Grumpier Old Men  A family wedding reignites the ancient feud be...   \n",
       "\n",
       "  popularity ...  Crime Romance Fantasy Science Fiction  Western  Mystery  \\\n",
       "0    21.9469 ...    0.0     0.0     0.0             0.0      0.0      0.0   \n",
       "1    17.0155 ...    0.0     0.0     1.0             0.0      0.0      0.0   \n",
       "2    11.7129 ...    0.0     1.0     0.0             0.0      0.0      0.0   \n",
       "\n",
       "  Animation Action Comedy  War  \n",
       "0       1.0    0.0    1.0  0.0  \n",
       "1       0.0    0.0    0.0  0.0  \n",
       "2       0.0    0.0    1.0  0.0  \n",
       "\n",
       "[3 rows x 42 columns]"
      ]
     },
     "execution_count": 29,
     "metadata": {},
     "output_type": "execute_result"
    }
   ],
   "source": [
    "mov.head(3)"
   ]
  },
  {
   "cell_type": "code",
   "execution_count": 30,
   "metadata": {
    "collapsed": true
   },
   "outputs": [],
   "source": [
    "mov = mov.drop('homepage',axis=1)\n",
    "mov = mov.drop('overview',axis=1)"
   ]
  },
  {
   "cell_type": "code",
   "execution_count": 31,
   "metadata": {
    "scrolled": true
   },
   "outputs": [
    {
     "data": {
      "text/html": [
       "<div>\n",
       "<style>\n",
       "    .dataframe thead tr:only-child th {\n",
       "        text-align: right;\n",
       "    }\n",
       "\n",
       "    .dataframe thead th {\n",
       "        text-align: left;\n",
       "    }\n",
       "\n",
       "    .dataframe tbody tr th {\n",
       "        vertical-align: top;\n",
       "    }\n",
       "</style>\n",
       "<table border=\"1\" class=\"dataframe\">\n",
       "  <thead>\n",
       "    <tr style=\"text-align: right;\">\n",
       "      <th></th>\n",
       "      <th>adult</th>\n",
       "      <th>belongs_to_collection</th>\n",
       "      <th>budget</th>\n",
       "      <th>id</th>\n",
       "      <th>imdb_id</th>\n",
       "      <th>original_language</th>\n",
       "      <th>original_title</th>\n",
       "      <th>popularity</th>\n",
       "      <th>poster_path</th>\n",
       "      <th>production_companies</th>\n",
       "      <th>...</th>\n",
       "      <th>Crime</th>\n",
       "      <th>Romance</th>\n",
       "      <th>Fantasy</th>\n",
       "      <th>Science Fiction</th>\n",
       "      <th>Western</th>\n",
       "      <th>Mystery</th>\n",
       "      <th>Animation</th>\n",
       "      <th>Action</th>\n",
       "      <th>Comedy</th>\n",
       "      <th>War</th>\n",
       "    </tr>\n",
       "  </thead>\n",
       "  <tbody>\n",
       "    <tr>\n",
       "      <th>0</th>\n",
       "      <td>0</td>\n",
       "      <td>{'id': 10194, 'name': 'Toy Story Collection', ...</td>\n",
       "      <td>30000000</td>\n",
       "      <td>862</td>\n",
       "      <td>tt0114709</td>\n",
       "      <td>en</td>\n",
       "      <td>Toy Story</td>\n",
       "      <td>21.9469</td>\n",
       "      <td>/rhIRbceoE9lR4veEXuwCC2wARtG.jpg</td>\n",
       "      <td>[{'name': 'Pixar Animation Studios', 'id': 3}]</td>\n",
       "      <td>...</td>\n",
       "      <td>0.0</td>\n",
       "      <td>0.0</td>\n",
       "      <td>0.0</td>\n",
       "      <td>0.0</td>\n",
       "      <td>0.0</td>\n",
       "      <td>0.0</td>\n",
       "      <td>1.0</td>\n",
       "      <td>0.0</td>\n",
       "      <td>1.0</td>\n",
       "      <td>0.0</td>\n",
       "    </tr>\n",
       "    <tr>\n",
       "      <th>1</th>\n",
       "      <td>0</td>\n",
       "      <td>NaN</td>\n",
       "      <td>65000000</td>\n",
       "      <td>8844</td>\n",
       "      <td>tt0113497</td>\n",
       "      <td>en</td>\n",
       "      <td>Jumanji</td>\n",
       "      <td>17.0155</td>\n",
       "      <td>/vzmL6fP7aPKNKPRTFnZmiUfciyV.jpg</td>\n",
       "      <td>[{'name': 'TriStar Pictures', 'id': 559}, {'na...</td>\n",
       "      <td>...</td>\n",
       "      <td>0.0</td>\n",
       "      <td>0.0</td>\n",
       "      <td>1.0</td>\n",
       "      <td>0.0</td>\n",
       "      <td>0.0</td>\n",
       "      <td>0.0</td>\n",
       "      <td>0.0</td>\n",
       "      <td>0.0</td>\n",
       "      <td>0.0</td>\n",
       "      <td>0.0</td>\n",
       "    </tr>\n",
       "    <tr>\n",
       "      <th>2</th>\n",
       "      <td>0</td>\n",
       "      <td>{'id': 119050, 'name': 'Grumpy Old Men Collect...</td>\n",
       "      <td>0</td>\n",
       "      <td>15602</td>\n",
       "      <td>tt0113228</td>\n",
       "      <td>en</td>\n",
       "      <td>Grumpier Old Men</td>\n",
       "      <td>11.7129</td>\n",
       "      <td>/6ksm1sjKMFLbO7UY2i6G1ju9SML.jpg</td>\n",
       "      <td>[{'name': 'Warner Bros.', 'id': 6194}, {'name'...</td>\n",
       "      <td>...</td>\n",
       "      <td>0.0</td>\n",
       "      <td>1.0</td>\n",
       "      <td>0.0</td>\n",
       "      <td>0.0</td>\n",
       "      <td>0.0</td>\n",
       "      <td>0.0</td>\n",
       "      <td>0.0</td>\n",
       "      <td>0.0</td>\n",
       "      <td>1.0</td>\n",
       "      <td>0.0</td>\n",
       "    </tr>\n",
       "    <tr>\n",
       "      <th>3</th>\n",
       "      <td>0</td>\n",
       "      <td>NaN</td>\n",
       "      <td>16000000</td>\n",
       "      <td>31357</td>\n",
       "      <td>tt0114885</td>\n",
       "      <td>en</td>\n",
       "      <td>Waiting to Exhale</td>\n",
       "      <td>3.85949</td>\n",
       "      <td>/16XOMpEaLWkrcPqSQqhTmeJuqQl.jpg</td>\n",
       "      <td>[{'name': 'Twentieth Century Fox Film Corporat...</td>\n",
       "      <td>...</td>\n",
       "      <td>0.0</td>\n",
       "      <td>1.0</td>\n",
       "      <td>0.0</td>\n",
       "      <td>0.0</td>\n",
       "      <td>0.0</td>\n",
       "      <td>0.0</td>\n",
       "      <td>0.0</td>\n",
       "      <td>0.0</td>\n",
       "      <td>1.0</td>\n",
       "      <td>0.0</td>\n",
       "    </tr>\n",
       "    <tr>\n",
       "      <th>4</th>\n",
       "      <td>0</td>\n",
       "      <td>{'id': 96871, 'name': 'Father of the Bride Col...</td>\n",
       "      <td>0</td>\n",
       "      <td>11862</td>\n",
       "      <td>tt0113041</td>\n",
       "      <td>en</td>\n",
       "      <td>Father of the Bride Part II</td>\n",
       "      <td>8.38752</td>\n",
       "      <td>/e64sOI48hQXyru7naBFyssKFxVd.jpg</td>\n",
       "      <td>[{'name': 'Sandollar Productions', 'id': 5842}...</td>\n",
       "      <td>...</td>\n",
       "      <td>0.0</td>\n",
       "      <td>0.0</td>\n",
       "      <td>0.0</td>\n",
       "      <td>0.0</td>\n",
       "      <td>0.0</td>\n",
       "      <td>0.0</td>\n",
       "      <td>0.0</td>\n",
       "      <td>0.0</td>\n",
       "      <td>1.0</td>\n",
       "      <td>0.0</td>\n",
       "    </tr>\n",
       "  </tbody>\n",
       "</table>\n",
       "<p>5 rows × 40 columns</p>\n",
       "</div>"
      ],
      "text/plain": [
       "  adult                              belongs_to_collection    budget     id  \\\n",
       "0     0  {'id': 10194, 'name': 'Toy Story Collection', ...  30000000    862   \n",
       "1     0                                                NaN  65000000   8844   \n",
       "2     0  {'id': 119050, 'name': 'Grumpy Old Men Collect...         0  15602   \n",
       "3     0                                                NaN  16000000  31357   \n",
       "4     0  {'id': 96871, 'name': 'Father of the Bride Col...         0  11862   \n",
       "\n",
       "     imdb_id original_language               original_title popularity  \\\n",
       "0  tt0114709                en                    Toy Story    21.9469   \n",
       "1  tt0113497                en                      Jumanji    17.0155   \n",
       "2  tt0113228                en             Grumpier Old Men    11.7129   \n",
       "3  tt0114885                en            Waiting to Exhale    3.85949   \n",
       "4  tt0113041                en  Father of the Bride Part II    8.38752   \n",
       "\n",
       "                        poster_path  \\\n",
       "0  /rhIRbceoE9lR4veEXuwCC2wARtG.jpg   \n",
       "1  /vzmL6fP7aPKNKPRTFnZmiUfciyV.jpg   \n",
       "2  /6ksm1sjKMFLbO7UY2i6G1ju9SML.jpg   \n",
       "3  /16XOMpEaLWkrcPqSQqhTmeJuqQl.jpg   \n",
       "4  /e64sOI48hQXyru7naBFyssKFxVd.jpg   \n",
       "\n",
       "                                production_companies ...  Crime Romance  \\\n",
       "0     [{'name': 'Pixar Animation Studios', 'id': 3}] ...    0.0     0.0   \n",
       "1  [{'name': 'TriStar Pictures', 'id': 559}, {'na... ...    0.0     0.0   \n",
       "2  [{'name': 'Warner Bros.', 'id': 6194}, {'name'... ...    0.0     1.0   \n",
       "3  [{'name': 'Twentieth Century Fox Film Corporat... ...    0.0     1.0   \n",
       "4  [{'name': 'Sandollar Productions', 'id': 5842}... ...    0.0     0.0   \n",
       "\n",
       "   Fantasy  Science Fiction Western Mystery Animation Action Comedy  War  \n",
       "0      0.0              0.0     0.0     0.0       1.0    0.0    1.0  0.0  \n",
       "1      1.0              0.0     0.0     0.0       0.0    0.0    0.0  0.0  \n",
       "2      0.0              0.0     0.0     0.0       0.0    0.0    1.0  0.0  \n",
       "3      0.0              0.0     0.0     0.0       0.0    0.0    1.0  0.0  \n",
       "4      0.0              0.0     0.0     0.0       0.0    0.0    1.0  0.0  \n",
       "\n",
       "[5 rows x 40 columns]"
      ]
     },
     "execution_count": 31,
     "metadata": {},
     "output_type": "execute_result"
    }
   ],
   "source": [
    "mov.head()"
   ]
  },
  {
   "cell_type": "markdown",
   "metadata": {},
   "source": [
    "## 1.3 Creating Useful Dataframes "
   ]
  },
  {
   "cell_type": "code",
   "execution_count": 32,
   "metadata": {
    "collapsed": true
   },
   "outputs": [],
   "source": [
    "#convert strings to numeric\n",
    "\n",
    "mov.budget = pd.to_numeric(mov.budget)\n",
    "mov.popularity = pd.to_numeric(mov.popularity)"
   ]
  },
  {
   "cell_type": "code",
   "execution_count": 33,
   "metadata": {
    "collapsed": true
   },
   "outputs": [],
   "source": [
    "#rename columns with space in its name\n",
    "\n",
    "mov = mov.rename(columns={'Science Fiction': 'SciFi'})"
   ]
  },
  {
   "cell_type": "code",
   "execution_count": 34,
   "metadata": {
    "collapsed": true
   },
   "outputs": [],
   "source": [
    "#drop the movies with low popularity and number of votes\n",
    "\n",
    "mov = mov[mov.vote_count >= 10]\n",
    "mov = mov[mov.popularity >= 3]"
   ]
  },
  {
   "cell_type": "markdown",
   "metadata": {},
   "source": [
    "Below we create some dataframes and assign them for further use. There might be some additions here in the future as well."
   ]
  },
  {
   "cell_type": "code",
   "execution_count": 35,
   "metadata": {
    "collapsed": true
   },
   "outputs": [],
   "source": [
    "mov_most_budget = mov.sort_values(by=['budget'], ascending=False)\n",
    "mov_most_popular = mov.sort_values(by=['popularity'], ascending=False)\n",
    "mov_highest_rated = mov.sort_values(by=['vote_average'], ascending=False)\n",
    "mov_most_voted = mov.sort_values(by=['vote_count'], ascending=False)\n",
    "english_movies = mov[mov.original_language=='en']\n",
    "mov_comedy = mov[mov.Comedy==1]\n",
    "mov_comedy_rated = mov_comedy.sort_values(by=['vote_average'], ascending=False)"
   ]
  },
  {
   "cell_type": "markdown",
   "metadata": {},
   "source": [
    "Uncomment any of the lines below to view a certain sorting of the dataset."
   ]
  },
  {
   "cell_type": "code",
   "execution_count": 36,
   "metadata": {
    "collapsed": true
   },
   "outputs": [],
   "source": [
    "#mov_most_budget.loc[:, ['original_title', 'budget']]\n",
    "#mov_highest_rated[mov_highest_rated.vote_average > 8.5].loc[:, ['original_title', 'original_language', 'vote_average', 'vote_count']]\n",
    "#mov_most_voted[mov_most_voted.vote_count>=5000].loc[:, ['original_title','vote_count']]\n",
    "#mov_comedy_rated.loc[:, ['original_title', 'original_language', 'vote_average', 'popularity']]\n",
    "\n",
    "#write your own\n",
    "#_____________________________________________________________"
   ]
  },
  {
   "cell_type": "markdown",
   "metadata": {},
   "source": [
    "Also, we filter our dataframe with only numeric values."
   ]
  },
  {
   "cell_type": "code",
   "execution_count": 37,
   "metadata": {
    "collapsed": true
   },
   "outputs": [],
   "source": [
    "mov_num = mov.select_dtypes(include=['float64'])"
   ]
  },
  {
   "cell_type": "code",
   "execution_count": 38,
   "metadata": {},
   "outputs": [
    {
     "data": {
      "text/html": [
       "<div>\n",
       "<style>\n",
       "    .dataframe thead tr:only-child th {\n",
       "        text-align: right;\n",
       "    }\n",
       "\n",
       "    .dataframe thead th {\n",
       "        text-align: left;\n",
       "    }\n",
       "\n",
       "    .dataframe tbody tr th {\n",
       "        vertical-align: top;\n",
       "    }\n",
       "</style>\n",
       "<table border=\"1\" class=\"dataframe\">\n",
       "  <thead>\n",
       "    <tr style=\"text-align: right;\">\n",
       "      <th></th>\n",
       "      <th>budget</th>\n",
       "      <th>popularity</th>\n",
       "      <th>revenue</th>\n",
       "      <th>runtime</th>\n",
       "      <th>vote_average</th>\n",
       "      <th>vote_count</th>\n",
       "      <th>History</th>\n",
       "      <th>Music</th>\n",
       "      <th>Family</th>\n",
       "      <th>Thriller</th>\n",
       "      <th>...</th>\n",
       "      <th>Crime</th>\n",
       "      <th>Romance</th>\n",
       "      <th>Fantasy</th>\n",
       "      <th>SciFi</th>\n",
       "      <th>Western</th>\n",
       "      <th>Mystery</th>\n",
       "      <th>Animation</th>\n",
       "      <th>Action</th>\n",
       "      <th>Comedy</th>\n",
       "      <th>War</th>\n",
       "    </tr>\n",
       "  </thead>\n",
       "  <tbody>\n",
       "    <tr>\n",
       "      <th>0</th>\n",
       "      <td>30000000.0</td>\n",
       "      <td>21.946943</td>\n",
       "      <td>373554033.0</td>\n",
       "      <td>81.0</td>\n",
       "      <td>7.7</td>\n",
       "      <td>5415.0</td>\n",
       "      <td>0.0</td>\n",
       "      <td>0.0</td>\n",
       "      <td>1.0</td>\n",
       "      <td>0.0</td>\n",
       "      <td>...</td>\n",
       "      <td>0.0</td>\n",
       "      <td>0.0</td>\n",
       "      <td>0.0</td>\n",
       "      <td>0.0</td>\n",
       "      <td>0.0</td>\n",
       "      <td>0.0</td>\n",
       "      <td>1.0</td>\n",
       "      <td>0.0</td>\n",
       "      <td>1.0</td>\n",
       "      <td>0.0</td>\n",
       "    </tr>\n",
       "    <tr>\n",
       "      <th>1</th>\n",
       "      <td>65000000.0</td>\n",
       "      <td>17.015539</td>\n",
       "      <td>262797249.0</td>\n",
       "      <td>104.0</td>\n",
       "      <td>6.9</td>\n",
       "      <td>2413.0</td>\n",
       "      <td>0.0</td>\n",
       "      <td>0.0</td>\n",
       "      <td>1.0</td>\n",
       "      <td>0.0</td>\n",
       "      <td>...</td>\n",
       "      <td>0.0</td>\n",
       "      <td>0.0</td>\n",
       "      <td>1.0</td>\n",
       "      <td>0.0</td>\n",
       "      <td>0.0</td>\n",
       "      <td>0.0</td>\n",
       "      <td>0.0</td>\n",
       "      <td>0.0</td>\n",
       "      <td>0.0</td>\n",
       "      <td>0.0</td>\n",
       "    </tr>\n",
       "    <tr>\n",
       "      <th>2</th>\n",
       "      <td>0.0</td>\n",
       "      <td>11.712900</td>\n",
       "      <td>0.0</td>\n",
       "      <td>101.0</td>\n",
       "      <td>6.5</td>\n",
       "      <td>92.0</td>\n",
       "      <td>0.0</td>\n",
       "      <td>0.0</td>\n",
       "      <td>0.0</td>\n",
       "      <td>0.0</td>\n",
       "      <td>...</td>\n",
       "      <td>0.0</td>\n",
       "      <td>1.0</td>\n",
       "      <td>0.0</td>\n",
       "      <td>0.0</td>\n",
       "      <td>0.0</td>\n",
       "      <td>0.0</td>\n",
       "      <td>0.0</td>\n",
       "      <td>0.0</td>\n",
       "      <td>1.0</td>\n",
       "      <td>0.0</td>\n",
       "    </tr>\n",
       "    <tr>\n",
       "      <th>3</th>\n",
       "      <td>16000000.0</td>\n",
       "      <td>3.859495</td>\n",
       "      <td>81452156.0</td>\n",
       "      <td>127.0</td>\n",
       "      <td>6.1</td>\n",
       "      <td>34.0</td>\n",
       "      <td>0.0</td>\n",
       "      <td>0.0</td>\n",
       "      <td>0.0</td>\n",
       "      <td>0.0</td>\n",
       "      <td>...</td>\n",
       "      <td>0.0</td>\n",
       "      <td>1.0</td>\n",
       "      <td>0.0</td>\n",
       "      <td>0.0</td>\n",
       "      <td>0.0</td>\n",
       "      <td>0.0</td>\n",
       "      <td>0.0</td>\n",
       "      <td>0.0</td>\n",
       "      <td>1.0</td>\n",
       "      <td>0.0</td>\n",
       "    </tr>\n",
       "    <tr>\n",
       "      <th>4</th>\n",
       "      <td>0.0</td>\n",
       "      <td>8.387519</td>\n",
       "      <td>76578911.0</td>\n",
       "      <td>106.0</td>\n",
       "      <td>5.7</td>\n",
       "      <td>173.0</td>\n",
       "      <td>0.0</td>\n",
       "      <td>0.0</td>\n",
       "      <td>0.0</td>\n",
       "      <td>0.0</td>\n",
       "      <td>...</td>\n",
       "      <td>0.0</td>\n",
       "      <td>0.0</td>\n",
       "      <td>0.0</td>\n",
       "      <td>0.0</td>\n",
       "      <td>0.0</td>\n",
       "      <td>0.0</td>\n",
       "      <td>0.0</td>\n",
       "      <td>0.0</td>\n",
       "      <td>1.0</td>\n",
       "      <td>0.0</td>\n",
       "    </tr>\n",
       "  </tbody>\n",
       "</table>\n",
       "<p>5 rows × 25 columns</p>\n",
       "</div>"
      ],
      "text/plain": [
       "       budget  popularity      revenue  runtime  vote_average  vote_count  \\\n",
       "0  30000000.0   21.946943  373554033.0     81.0           7.7      5415.0   \n",
       "1  65000000.0   17.015539  262797249.0    104.0           6.9      2413.0   \n",
       "2         0.0   11.712900          0.0    101.0           6.5        92.0   \n",
       "3  16000000.0    3.859495   81452156.0    127.0           6.1        34.0   \n",
       "4         0.0    8.387519   76578911.0    106.0           5.7       173.0   \n",
       "\n",
       "   History  Music  Family  Thriller ...   Crime  Romance  Fantasy  SciFi  \\\n",
       "0      0.0    0.0     1.0       0.0 ...     0.0      0.0      0.0    0.0   \n",
       "1      0.0    0.0     1.0       0.0 ...     0.0      0.0      1.0    0.0   \n",
       "2      0.0    0.0     0.0       0.0 ...     0.0      1.0      0.0    0.0   \n",
       "3      0.0    0.0     0.0       0.0 ...     0.0      1.0      0.0    0.0   \n",
       "4      0.0    0.0     0.0       0.0 ...     0.0      0.0      0.0    0.0   \n",
       "\n",
       "   Western  Mystery  Animation  Action  Comedy  War  \n",
       "0      0.0      0.0        1.0     0.0     1.0  0.0  \n",
       "1      0.0      0.0        0.0     0.0     0.0  0.0  \n",
       "2      0.0      0.0        0.0     0.0     1.0  0.0  \n",
       "3      0.0      0.0        0.0     0.0     1.0  0.0  \n",
       "4      0.0      0.0        0.0     0.0     1.0  0.0  \n",
       "\n",
       "[5 rows x 25 columns]"
      ]
     },
     "execution_count": 38,
     "metadata": {},
     "output_type": "execute_result"
    }
   ],
   "source": [
    "mov_num.head()"
   ]
  },
  {
   "cell_type": "markdown",
   "metadata": {},
   "source": [
    "We will need one with only the dummies of the genres as well."
   ]
  },
  {
   "cell_type": "code",
   "execution_count": 39,
   "metadata": {
    "collapsed": true
   },
   "outputs": [],
   "source": [
    "mov_genres = mov_num.drop(['budget','revenue','runtime','vote_average','vote_count','popularity'],axis=1)"
   ]
  },
  {
   "cell_type": "code",
   "execution_count": 40,
   "metadata": {},
   "outputs": [
    {
     "data": {
      "text/html": [
       "<div>\n",
       "<style>\n",
       "    .dataframe thead tr:only-child th {\n",
       "        text-align: right;\n",
       "    }\n",
       "\n",
       "    .dataframe thead th {\n",
       "        text-align: left;\n",
       "    }\n",
       "\n",
       "    .dataframe tbody tr th {\n",
       "        vertical-align: top;\n",
       "    }\n",
       "</style>\n",
       "<table border=\"1\" class=\"dataframe\">\n",
       "  <thead>\n",
       "    <tr style=\"text-align: right;\">\n",
       "      <th></th>\n",
       "      <th>History</th>\n",
       "      <th>Music</th>\n",
       "      <th>Family</th>\n",
       "      <th>Thriller</th>\n",
       "      <th>Foreign</th>\n",
       "      <th>Drama</th>\n",
       "      <th>Adventure</th>\n",
       "      <th>Horror</th>\n",
       "      <th>Documentary</th>\n",
       "      <th>Crime</th>\n",
       "      <th>Romance</th>\n",
       "      <th>Fantasy</th>\n",
       "      <th>SciFi</th>\n",
       "      <th>Western</th>\n",
       "      <th>Mystery</th>\n",
       "      <th>Animation</th>\n",
       "      <th>Action</th>\n",
       "      <th>Comedy</th>\n",
       "      <th>War</th>\n",
       "    </tr>\n",
       "  </thead>\n",
       "  <tbody>\n",
       "    <tr>\n",
       "      <th>0</th>\n",
       "      <td>0.0</td>\n",
       "      <td>0.0</td>\n",
       "      <td>1.0</td>\n",
       "      <td>0.0</td>\n",
       "      <td>0.0</td>\n",
       "      <td>0.0</td>\n",
       "      <td>0.0</td>\n",
       "      <td>0.0</td>\n",
       "      <td>0.0</td>\n",
       "      <td>0.0</td>\n",
       "      <td>0.0</td>\n",
       "      <td>0.0</td>\n",
       "      <td>0.0</td>\n",
       "      <td>0.0</td>\n",
       "      <td>0.0</td>\n",
       "      <td>1.0</td>\n",
       "      <td>0.0</td>\n",
       "      <td>1.0</td>\n",
       "      <td>0.0</td>\n",
       "    </tr>\n",
       "    <tr>\n",
       "      <th>1</th>\n",
       "      <td>0.0</td>\n",
       "      <td>0.0</td>\n",
       "      <td>1.0</td>\n",
       "      <td>0.0</td>\n",
       "      <td>0.0</td>\n",
       "      <td>0.0</td>\n",
       "      <td>1.0</td>\n",
       "      <td>0.0</td>\n",
       "      <td>0.0</td>\n",
       "      <td>0.0</td>\n",
       "      <td>0.0</td>\n",
       "      <td>1.0</td>\n",
       "      <td>0.0</td>\n",
       "      <td>0.0</td>\n",
       "      <td>0.0</td>\n",
       "      <td>0.0</td>\n",
       "      <td>0.0</td>\n",
       "      <td>0.0</td>\n",
       "      <td>0.0</td>\n",
       "    </tr>\n",
       "    <tr>\n",
       "      <th>2</th>\n",
       "      <td>0.0</td>\n",
       "      <td>0.0</td>\n",
       "      <td>0.0</td>\n",
       "      <td>0.0</td>\n",
       "      <td>0.0</td>\n",
       "      <td>0.0</td>\n",
       "      <td>0.0</td>\n",
       "      <td>0.0</td>\n",
       "      <td>0.0</td>\n",
       "      <td>0.0</td>\n",
       "      <td>1.0</td>\n",
       "      <td>0.0</td>\n",
       "      <td>0.0</td>\n",
       "      <td>0.0</td>\n",
       "      <td>0.0</td>\n",
       "      <td>0.0</td>\n",
       "      <td>0.0</td>\n",
       "      <td>1.0</td>\n",
       "      <td>0.0</td>\n",
       "    </tr>\n",
       "    <tr>\n",
       "      <th>3</th>\n",
       "      <td>0.0</td>\n",
       "      <td>0.0</td>\n",
       "      <td>0.0</td>\n",
       "      <td>0.0</td>\n",
       "      <td>0.0</td>\n",
       "      <td>1.0</td>\n",
       "      <td>0.0</td>\n",
       "      <td>0.0</td>\n",
       "      <td>0.0</td>\n",
       "      <td>0.0</td>\n",
       "      <td>1.0</td>\n",
       "      <td>0.0</td>\n",
       "      <td>0.0</td>\n",
       "      <td>0.0</td>\n",
       "      <td>0.0</td>\n",
       "      <td>0.0</td>\n",
       "      <td>0.0</td>\n",
       "      <td>1.0</td>\n",
       "      <td>0.0</td>\n",
       "    </tr>\n",
       "    <tr>\n",
       "      <th>4</th>\n",
       "      <td>0.0</td>\n",
       "      <td>0.0</td>\n",
       "      <td>0.0</td>\n",
       "      <td>0.0</td>\n",
       "      <td>0.0</td>\n",
       "      <td>0.0</td>\n",
       "      <td>0.0</td>\n",
       "      <td>0.0</td>\n",
       "      <td>0.0</td>\n",
       "      <td>0.0</td>\n",
       "      <td>0.0</td>\n",
       "      <td>0.0</td>\n",
       "      <td>0.0</td>\n",
       "      <td>0.0</td>\n",
       "      <td>0.0</td>\n",
       "      <td>0.0</td>\n",
       "      <td>0.0</td>\n",
       "      <td>1.0</td>\n",
       "      <td>0.0</td>\n",
       "    </tr>\n",
       "  </tbody>\n",
       "</table>\n",
       "</div>"
      ],
      "text/plain": [
       "   History  Music  Family  Thriller  Foreign  Drama  Adventure  Horror  \\\n",
       "0      0.0    0.0     1.0       0.0      0.0    0.0        0.0     0.0   \n",
       "1      0.0    0.0     1.0       0.0      0.0    0.0        1.0     0.0   \n",
       "2      0.0    0.0     0.0       0.0      0.0    0.0        0.0     0.0   \n",
       "3      0.0    0.0     0.0       0.0      0.0    1.0        0.0     0.0   \n",
       "4      0.0    0.0     0.0       0.0      0.0    0.0        0.0     0.0   \n",
       "\n",
       "   Documentary  Crime  Romance  Fantasy  SciFi  Western  Mystery  Animation  \\\n",
       "0          0.0    0.0      0.0      0.0    0.0      0.0      0.0        1.0   \n",
       "1          0.0    0.0      0.0      1.0    0.0      0.0      0.0        0.0   \n",
       "2          0.0    0.0      1.0      0.0    0.0      0.0      0.0        0.0   \n",
       "3          0.0    0.0      1.0      0.0    0.0      0.0      0.0        0.0   \n",
       "4          0.0    0.0      0.0      0.0    0.0      0.0      0.0        0.0   \n",
       "\n",
       "   Action  Comedy  War  \n",
       "0     0.0     1.0  0.0  \n",
       "1     0.0     0.0  0.0  \n",
       "2     0.0     1.0  0.0  \n",
       "3     0.0     1.0  0.0  \n",
       "4     0.0     1.0  0.0  "
      ]
     },
     "execution_count": 40,
     "metadata": {},
     "output_type": "execute_result"
    }
   ],
   "source": [
    "mov_genres.head()"
   ]
  },
  {
   "cell_type": "code",
   "execution_count": 41,
   "metadata": {
    "collapsed": true
   },
   "outputs": [],
   "source": [
    "mov_genres = mov_genres.join(mov.original_title)"
   ]
  },
  {
   "cell_type": "code",
   "execution_count": 42,
   "metadata": {},
   "outputs": [
    {
     "data": {
      "text/html": [
       "<div>\n",
       "<style>\n",
       "    .dataframe thead tr:only-child th {\n",
       "        text-align: right;\n",
       "    }\n",
       "\n",
       "    .dataframe thead th {\n",
       "        text-align: left;\n",
       "    }\n",
       "\n",
       "    .dataframe tbody tr th {\n",
       "        vertical-align: top;\n",
       "    }\n",
       "</style>\n",
       "<table border=\"1\" class=\"dataframe\">\n",
       "  <thead>\n",
       "    <tr style=\"text-align: right;\">\n",
       "      <th></th>\n",
       "      <th>History</th>\n",
       "      <th>Music</th>\n",
       "      <th>Family</th>\n",
       "      <th>Thriller</th>\n",
       "      <th>Foreign</th>\n",
       "      <th>Drama</th>\n",
       "      <th>Adventure</th>\n",
       "      <th>Horror</th>\n",
       "      <th>Documentary</th>\n",
       "      <th>Crime</th>\n",
       "      <th>Romance</th>\n",
       "      <th>Fantasy</th>\n",
       "      <th>SciFi</th>\n",
       "      <th>Western</th>\n",
       "      <th>Mystery</th>\n",
       "      <th>Animation</th>\n",
       "      <th>Action</th>\n",
       "      <th>Comedy</th>\n",
       "      <th>War</th>\n",
       "      <th>original_title</th>\n",
       "    </tr>\n",
       "  </thead>\n",
       "  <tbody>\n",
       "    <tr>\n",
       "      <th>0</th>\n",
       "      <td>0.0</td>\n",
       "      <td>0.0</td>\n",
       "      <td>1.0</td>\n",
       "      <td>0.0</td>\n",
       "      <td>0.0</td>\n",
       "      <td>0.0</td>\n",
       "      <td>0.0</td>\n",
       "      <td>0.0</td>\n",
       "      <td>0.0</td>\n",
       "      <td>0.0</td>\n",
       "      <td>0.0</td>\n",
       "      <td>0.0</td>\n",
       "      <td>0.0</td>\n",
       "      <td>0.0</td>\n",
       "      <td>0.0</td>\n",
       "      <td>1.0</td>\n",
       "      <td>0.0</td>\n",
       "      <td>1.0</td>\n",
       "      <td>0.0</td>\n",
       "      <td>Toy Story</td>\n",
       "    </tr>\n",
       "    <tr>\n",
       "      <th>1</th>\n",
       "      <td>0.0</td>\n",
       "      <td>0.0</td>\n",
       "      <td>1.0</td>\n",
       "      <td>0.0</td>\n",
       "      <td>0.0</td>\n",
       "      <td>0.0</td>\n",
       "      <td>1.0</td>\n",
       "      <td>0.0</td>\n",
       "      <td>0.0</td>\n",
       "      <td>0.0</td>\n",
       "      <td>0.0</td>\n",
       "      <td>1.0</td>\n",
       "      <td>0.0</td>\n",
       "      <td>0.0</td>\n",
       "      <td>0.0</td>\n",
       "      <td>0.0</td>\n",
       "      <td>0.0</td>\n",
       "      <td>0.0</td>\n",
       "      <td>0.0</td>\n",
       "      <td>Jumanji</td>\n",
       "    </tr>\n",
       "    <tr>\n",
       "      <th>2</th>\n",
       "      <td>0.0</td>\n",
       "      <td>0.0</td>\n",
       "      <td>0.0</td>\n",
       "      <td>0.0</td>\n",
       "      <td>0.0</td>\n",
       "      <td>0.0</td>\n",
       "      <td>0.0</td>\n",
       "      <td>0.0</td>\n",
       "      <td>0.0</td>\n",
       "      <td>0.0</td>\n",
       "      <td>1.0</td>\n",
       "      <td>0.0</td>\n",
       "      <td>0.0</td>\n",
       "      <td>0.0</td>\n",
       "      <td>0.0</td>\n",
       "      <td>0.0</td>\n",
       "      <td>0.0</td>\n",
       "      <td>1.0</td>\n",
       "      <td>0.0</td>\n",
       "      <td>Grumpier Old Men</td>\n",
       "    </tr>\n",
       "  </tbody>\n",
       "</table>\n",
       "</div>"
      ],
      "text/plain": [
       "   History  Music  Family  Thriller  Foreign  Drama  Adventure  Horror  \\\n",
       "0      0.0    0.0     1.0       0.0      0.0    0.0        0.0     0.0   \n",
       "1      0.0    0.0     1.0       0.0      0.0    0.0        1.0     0.0   \n",
       "2      0.0    0.0     0.0       0.0      0.0    0.0        0.0     0.0   \n",
       "\n",
       "   Documentary  Crime  Romance  Fantasy  SciFi  Western  Mystery  Animation  \\\n",
       "0          0.0    0.0      0.0      0.0    0.0      0.0      0.0        1.0   \n",
       "1          0.0    0.0      0.0      1.0    0.0      0.0      0.0        0.0   \n",
       "2          0.0    0.0      1.0      0.0    0.0      0.0      0.0        0.0   \n",
       "\n",
       "   Action  Comedy  War    original_title  \n",
       "0     0.0     1.0  0.0         Toy Story  \n",
       "1     0.0     0.0  0.0           Jumanji  \n",
       "2     0.0     1.0  0.0  Grumpier Old Men  "
      ]
     },
     "execution_count": 42,
     "metadata": {},
     "output_type": "execute_result"
    }
   ],
   "source": [
    "mov_genres.head(3)"
   ]
  },
  {
   "cell_type": "code",
   "execution_count": 43,
   "metadata": {},
   "outputs": [
    {
     "data": {
      "text/plain": [
       "['original_title',\n",
       " 'History',\n",
       " 'Music',\n",
       " 'Family',\n",
       " 'Thriller',\n",
       " 'Foreign',\n",
       " 'Drama',\n",
       " 'Adventure',\n",
       " 'Horror',\n",
       " 'Documentary',\n",
       " 'Crime',\n",
       " 'Romance',\n",
       " 'Fantasy',\n",
       " 'SciFi',\n",
       " 'Western',\n",
       " 'Mystery',\n",
       " 'Animation',\n",
       " 'Action',\n",
       " 'Comedy',\n",
       " 'War']"
      ]
     },
     "execution_count": 43,
     "metadata": {},
     "output_type": "execute_result"
    }
   ],
   "source": [
    "cols = mov_genres.columns.tolist()\n",
    "cols = cols[-1:] + cols[:-1]\n",
    "\n",
    "cols"
   ]
  },
  {
   "cell_type": "code",
   "execution_count": 44,
   "metadata": {},
   "outputs": [
    {
     "data": {
      "text/html": [
       "<div>\n",
       "<style>\n",
       "    .dataframe thead tr:only-child th {\n",
       "        text-align: right;\n",
       "    }\n",
       "\n",
       "    .dataframe thead th {\n",
       "        text-align: left;\n",
       "    }\n",
       "\n",
       "    .dataframe tbody tr th {\n",
       "        vertical-align: top;\n",
       "    }\n",
       "</style>\n",
       "<table border=\"1\" class=\"dataframe\">\n",
       "  <thead>\n",
       "    <tr style=\"text-align: right;\">\n",
       "      <th></th>\n",
       "      <th>original_title</th>\n",
       "      <th>History</th>\n",
       "      <th>Music</th>\n",
       "      <th>Family</th>\n",
       "      <th>Thriller</th>\n",
       "      <th>Foreign</th>\n",
       "      <th>Drama</th>\n",
       "      <th>Adventure</th>\n",
       "      <th>Horror</th>\n",
       "      <th>Documentary</th>\n",
       "      <th>Crime</th>\n",
       "      <th>Romance</th>\n",
       "      <th>Fantasy</th>\n",
       "      <th>SciFi</th>\n",
       "      <th>Western</th>\n",
       "      <th>Mystery</th>\n",
       "      <th>Animation</th>\n",
       "      <th>Action</th>\n",
       "      <th>Comedy</th>\n",
       "      <th>War</th>\n",
       "    </tr>\n",
       "  </thead>\n",
       "  <tbody>\n",
       "    <tr>\n",
       "      <th>0</th>\n",
       "      <td>Toy Story</td>\n",
       "      <td>0.0</td>\n",
       "      <td>0.0</td>\n",
       "      <td>1.0</td>\n",
       "      <td>0.0</td>\n",
       "      <td>0.0</td>\n",
       "      <td>0.0</td>\n",
       "      <td>0.0</td>\n",
       "      <td>0.0</td>\n",
       "      <td>0.0</td>\n",
       "      <td>0.0</td>\n",
       "      <td>0.0</td>\n",
       "      <td>0.0</td>\n",
       "      <td>0.0</td>\n",
       "      <td>0.0</td>\n",
       "      <td>0.0</td>\n",
       "      <td>1.0</td>\n",
       "      <td>0.0</td>\n",
       "      <td>1.0</td>\n",
       "      <td>0.0</td>\n",
       "    </tr>\n",
       "    <tr>\n",
       "      <th>1</th>\n",
       "      <td>Jumanji</td>\n",
       "      <td>0.0</td>\n",
       "      <td>0.0</td>\n",
       "      <td>1.0</td>\n",
       "      <td>0.0</td>\n",
       "      <td>0.0</td>\n",
       "      <td>0.0</td>\n",
       "      <td>1.0</td>\n",
       "      <td>0.0</td>\n",
       "      <td>0.0</td>\n",
       "      <td>0.0</td>\n",
       "      <td>0.0</td>\n",
       "      <td>1.0</td>\n",
       "      <td>0.0</td>\n",
       "      <td>0.0</td>\n",
       "      <td>0.0</td>\n",
       "      <td>0.0</td>\n",
       "      <td>0.0</td>\n",
       "      <td>0.0</td>\n",
       "      <td>0.0</td>\n",
       "    </tr>\n",
       "    <tr>\n",
       "      <th>2</th>\n",
       "      <td>Grumpier Old Men</td>\n",
       "      <td>0.0</td>\n",
       "      <td>0.0</td>\n",
       "      <td>0.0</td>\n",
       "      <td>0.0</td>\n",
       "      <td>0.0</td>\n",
       "      <td>0.0</td>\n",
       "      <td>0.0</td>\n",
       "      <td>0.0</td>\n",
       "      <td>0.0</td>\n",
       "      <td>0.0</td>\n",
       "      <td>1.0</td>\n",
       "      <td>0.0</td>\n",
       "      <td>0.0</td>\n",
       "      <td>0.0</td>\n",
       "      <td>0.0</td>\n",
       "      <td>0.0</td>\n",
       "      <td>0.0</td>\n",
       "      <td>1.0</td>\n",
       "      <td>0.0</td>\n",
       "    </tr>\n",
       "  </tbody>\n",
       "</table>\n",
       "</div>"
      ],
      "text/plain": [
       "     original_title  History  Music  Family  Thriller  Foreign  Drama  \\\n",
       "0         Toy Story      0.0    0.0     1.0       0.0      0.0    0.0   \n",
       "1           Jumanji      0.0    0.0     1.0       0.0      0.0    0.0   \n",
       "2  Grumpier Old Men      0.0    0.0     0.0       0.0      0.0    0.0   \n",
       "\n",
       "   Adventure  Horror  Documentary  Crime  Romance  Fantasy  SciFi  Western  \\\n",
       "0        0.0     0.0          0.0    0.0      0.0      0.0    0.0      0.0   \n",
       "1        1.0     0.0          0.0    0.0      0.0      1.0    0.0      0.0   \n",
       "2        0.0     0.0          0.0    0.0      1.0      0.0    0.0      0.0   \n",
       "\n",
       "   Mystery  Animation  Action  Comedy  War  \n",
       "0      0.0        1.0     0.0     1.0  0.0  \n",
       "1      0.0        0.0     0.0     0.0  0.0  \n",
       "2      0.0        0.0     0.0     1.0  0.0  "
      ]
     },
     "execution_count": 44,
     "metadata": {},
     "output_type": "execute_result"
    }
   ],
   "source": [
    "mov_genres = mov_genres[cols]\n",
    "mov_genres.head(3)"
   ]
  },
  {
   "cell_type": "markdown",
   "metadata": {},
   "source": [
    "## 1.4 Plotting"
   ]
  },
  {
   "cell_type": "code",
   "execution_count": 45,
   "metadata": {
    "collapsed": true
   },
   "outputs": [],
   "source": [
    "bars = []\n",
    "for i in range(len(cols)):\n",
    "    x = mov_genres[mov_genres[cols[i]]==1.0][cols[i]].sum()/len(mov_genres)*100\n",
    "    bars.append(x)"
   ]
  },
  {
   "cell_type": "code",
   "execution_count": 46,
   "metadata": {},
   "outputs": [
    {
     "data": {
      "text/plain": [
       "[0.0,\n",
       " 3.922972865441235,\n",
       " 3.230683536245723,\n",
       " 9.564733030954088,\n",
       " 26.61733110527572,\n",
       " 0.15914697222885335,\n",
       " 47.72021962282167,\n",
       " 13.678682263069945,\n",
       " 13.75029840057293,\n",
       " 2.1803135195352907,\n",
       " 13.90148802419034,\n",
       " 16.893451102092783,\n",
       " 8.44274687674067,\n",
       " 10.257022360149598,\n",
       " 2.0370812445293227,\n",
       " 7.551523832259091,\n",
       " 6.493196466937216,\n",
       " 22.16121588286783,\n",
       " 34.78952812922734,\n",
       " 3.2545555820800507]"
      ]
     },
     "execution_count": 46,
     "metadata": {},
     "output_type": "execute_result"
    }
   ],
   "source": [
    "bars"
   ]
  },
  {
   "cell_type": "code",
   "execution_count": 47,
   "metadata": {
    "collapsed": true
   },
   "outputs": [],
   "source": [
    "bars = bars[1:]"
   ]
  },
  {
   "cell_type": "code",
   "execution_count": 48,
   "metadata": {
    "scrolled": true
   },
   "outputs": [
    {
     "data": {
      "text/plain": [
       "list"
      ]
     },
     "execution_count": 48,
     "metadata": {},
     "output_type": "execute_result"
    }
   ],
   "source": [
    "type(bars)"
   ]
  },
  {
   "cell_type": "code",
   "execution_count": 49,
   "metadata": {
    "collapsed": true
   },
   "outputs": [],
   "source": [
    "names = np.array(cols[1:])\n",
    "bars = np.array(bars)"
   ]
  },
  {
   "cell_type": "code",
   "execution_count": 50,
   "metadata": {},
   "outputs": [
    {
     "data": {
      "text/plain": [
       "array([ 1,  2,  3,  4,  5,  6,  7,  8,  9, 10, 11, 12, 13, 14, 15, 16, 17,\n",
       "       18, 19])"
      ]
     },
     "execution_count": 50,
     "metadata": {},
     "output_type": "execute_result"
    }
   ],
   "source": [
    "n = np.arange(1,20)\n",
    "n"
   ]
  },
  {
   "cell_type": "markdown",
   "metadata": {},
   "source": [
    "Here is a barplot showing the percentages of each genre in our dummies. "
   ]
  },
  {
   "cell_type": "code",
   "execution_count": 51,
   "metadata": {},
   "outputs": [
    {
     "data": {
      "image/png": "[encoded data removed]",
      "text/plain": [
       "<matplotlib.figure.Figure at 0x19a20290>"
      ]
     },
     "metadata": {},
     "output_type": "display_data"
    }
   ],
   "source": [
    "plt.xticks(n, cols[1:], rotation=90)\n",
    "plt.title('% of genres in the dataset')\n",
    "plt.bar(n, bars)\n",
    "plt.ylim(0,100)\n",
    "plt.show()"
   ]
  },
  {
   "cell_type": "markdown",
   "metadata": {},
   "source": [
    "The heatmap shows the correlation between the genres in our dataset."
   ]
  },
  {
   "cell_type": "code",
   "execution_count": 52,
   "metadata": {},
   "outputs": [
    {
     "data": {
      "image/png": "[encoded data removed]",
      "text/plain": [
       "<matplotlib.figure.Figure at 0xd446b70>"
      ]
     },
     "metadata": {},
     "output_type": "display_data"
    }
   ],
   "source": [
    "sns.heatmap(mov_genres.corr(), square=True)\n",
    "plt.show()"
   ]
  },
  {
   "cell_type": "markdown",
   "metadata": {},
   "source": [
    "## Year"
   ]
  },
  {
   "cell_type": "code",
   "execution_count": 69,
   "metadata": {
    "collapsed": true
   },
   "outputs": [],
   "source": [
    "mov = mov[mov['release_date'].apply(lambda x: type(x)==str)]"
   ]
  },
  {
   "cell_type": "code",
   "execution_count": 70,
   "metadata": {},
   "outputs": [
    {
     "data": {
      "text/plain": [
       "0        1995-10-30\n",
       "1        1995-12-15\n",
       "2        1995-12-22\n",
       "3        1995-12-22\n",
       "4        1995-02-10\n",
       "5        1995-12-15\n",
       "6        1995-12-15\n",
       "8        1995-12-22\n",
       "9        1995-11-16\n",
       "10       1995-11-17\n",
       "11       1995-12-22\n",
       "12       1995-12-22\n",
       "13       1995-12-22\n",
       "14       1995-12-22\n",
       "15       1995-11-22\n",
       "16       1995-12-13\n",
       "17       1995-12-09\n",
       "18       1995-11-10\n",
       "19       1995-11-21\n",
       "20       1995-10-20\n",
       "21       1995-10-27\n",
       "22       1995-10-06\n",
       "23       1995-10-27\n",
       "24       1995-10-27\n",
       "26       1995-10-20\n",
       "28       1995-05-16\n",
       "30       1995-08-11\n",
       "31       1995-12-29\n",
       "33       1995-07-18\n",
       "35       1995-12-29\n",
       "            ...    \n",
       "45177    2016-10-19\n",
       "45183    2016-01-01\n",
       "45184    2017-08-01\n",
       "45200    2017-07-12\n",
       "45202    2017-07-07\n",
       "45204    2017-07-21\n",
       "45206    2017-07-28\n",
       "45225    2017-07-18\n",
       "45232    2011-06-22\n",
       "45238    2017-02-01\n",
       "45239    2017-05-26\n",
       "45244    1969-05-09\n",
       "45252    2017-07-21\n",
       "45254    2010-12-13\n",
       "45258    2017-07-21\n",
       "45265    2014-08-15\n",
       "45268    2016-02-24\n",
       "45335    2017-02-03\n",
       "45339    2017-04-05\n",
       "45343    2016-03-23\n",
       "45348    2010-08-07\n",
       "45356    2006-12-16\n",
       "45358    1969-05-29\n",
       "45368    1991-06-21\n",
       "45373    2017-05-05\n",
       "45380    2017-01-27\n",
       "45384    2016-10-08\n",
       "45437    2017-06-01\n",
       "45441    2002-03-07\n",
       "45460    1991-05-13\n",
       "Name: release_date, Length: 12566, dtype: object"
      ]
     },
     "execution_count": 70,
     "metadata": {},
     "output_type": "execute_result"
    }
   ],
   "source": [
    "mov.release_date"
   ]
  },
  {
   "cell_type": "code",
   "execution_count": 72,
   "metadata": {},
   "outputs": [
    {
     "name": "stdout",
     "output_type": "stream",
     "text": [
      "['1995', '1995', '1995', '1995', '1995', '1995', '1995', '1995', '1995', '1995', '1995', '1995', '1995', '1995', '1995', '1995', '1995', '1995', '1995', '1995', '1995', '1995', '1995', '1995', '1995', '1995', '1995', '1995', '1995', '1995', '1995', '1995', '1995', '1995', '1995', '1995', '1995', '1995', '1995', '1995', '1995', '1995', '1995', '1995', '1995', '1995', '1994', '1995', '1996', '1995', '1996', '1996', '1995', '1995', '1996', '1995', '1995', '1996', '1995', '1995', '1996', '1995', '1996', '1996', '1996', '1995', '1996', '1995', '1996', '1996', '1995', '1996', '1996', '1996', '1996', '1995', '1996', '1995', '1976', '1995', '1995', '1992', '1994', '1996', '1994', '1995', '1996', '1996', '1996', '1995', '1995', '1995', '1995', '1995', '1995', '1967', '1995', '1995', '1995', '1995', '1995', '1995', '1994', '1995', '1995', '1995', '1995', '1995', '1995', '1995', '1995', '1995', '1995', '1995', '1995', '1995', '1995', '1995', '1995', '1994', '1995', '1995', '1995', '1995', '1995', '1995', '1995', '1995', '1995', '1995', '1964', '1995', '1995', '1995', '1995', '1995', '1995', '1995', '1994', '1995', '1994', '1995', '1995', '1995', '1994', '1994', '1994', '1994', '1994', '1995', '1994', '1994', '1994', '1994', '1994', '1995', '1995', '1995', '1995', '1995', '1994', '1994', '1994', '1994', '1995', '1994', '1994', '1994', '1995', '1995', '1995', '1977', '1994', '1995', '1992', '1994', '1995', '1994', '1995', '1994', '1994', '1994', '1994', '1995', '1995', '1994', '1994', '1994', '1994', '1996', '1995', '1994', '1994', '1994', '1994', '1995', '1994', '1994', '1993', '1994', '1994', '1994', '1994', '1994', '1994', '1994', '1994', '1995', '1994', '1995', '1995', '1994', '1995', '1995', '1994', '1993', '1995', '1995', '1994', '1994', '1994', '1994', '1992', '1994', '1994', '1994', '1994', '1994', '1994', '1994', '1994', '1995', '1994', '1994', '1994', '1994', '1993', '1994', '1994', '1994', '1994', '1994', '1994', '1994', '1993', '1994', '1994', '1994', '1994', '1994', '1994', '1994', '1994', '1994', '1965', '1994', '1994', '1994', '1994', '1993', '1993', '1994', '1993', '1994', '1993', '1994', '1994', '1994', '1994', '1994', '1994', '1993', '1993', '1993', '1993', '1994', '1993', '1993', '1994', '1994', '1994', '1993', '1993', '1993', '1993', '1993', '1993', '1993', '1993', '1993', '1994', '1993', '1993', '1994', '1994', '1993', '1993', '1993', '1993', '1995', '1993', '1994', '1994', '1993', '1993', '1993', '1994', '1993', '1993', '1993', '1993', '1993', '1994', '1993', '1993', '1993', '1993', '1993', '1993', '1993', '1993', '1996', '1976', '1993', '1993', '1993', '1993', '1993', '1994', '1994', '1994', '1992', '1993', '1993', '1993', '1993', '1993', '1994', '1994', '1994', '1993', '1994', '1993', '1994', '1993', '1993', '1993', '1992', '1993', '1993', '1994', '1993', '1993', '1994', '1994', '1993', '1994', '1993', '1993', '1993', '1982', '1993', '1993', '1993', '1993', '1994', '1994', '1994', '1993', '1993', '1993', '1993', '1994', '1995', '1994', '1993', '1993', '1992', '1994', '1994', '1996', '1995', '1990', '1992', '1991', '1990', '1989', '1991', '1937', '1991', '1940', '1990', '1969', '1994', '1996', '1995', '1996', '1996', '1981', '1996', '1996', '1970', '1996', '1995', '1996', '1996', '1995', '1996', '1996', '1996', '1996', '1994', '1996', '1996', '1996', '1996', '1960', '1996', '1996', '1995', '1995', '1996', '1955', '1996', '1968', '1965', '1995', '1996', '1996', '1996', '1968', '1996', '1996', '1996', '1988', '1996', '1995', '1975', '1993', '1996', '1996', '1996', '1996', '1996', '1994', '1996', '1996', '1995', '1996', '1996', '1995', '1948', '1996', '1964', '1995', '1994', '1993', '1996', '1996', '1996', '1996', '1996', '1996', '1996', '1996', '1996', '1996', '1996', '1996', '1996', '1996', '1996', '1996', '1996', '1996', '1996', '1996', '1996', '1996', '1996', '1996', '1996', '1996', '1996', '1996', '1996', '1996', '1996', '1996', '1996', '1996', '1960', '1996', '1996', '1996', '1996', '1972', '1994', '1992', '1996', '1996', '1996', '1997', '1996', '1996', '1996', '1996', '1995', '1995', '1996', '1996', '1943', '1940', '1952', '1951', '1957', '1961', '1958', '1954', '1934', '1944', '1959', '1960', '1959', '1963', '1942', '1941', '1964', '1954', '1953', '1939', '1944', '1939', '1939', '1950', '1941', '1968', '1950', '1939', '1940', '1940', '1946', '1945', '1957', '1955', '1953', '1939', '1957', '1958', '1938', '1940', '1944', '1947', '1937', '1935', '1942', '1936', '1956', '1955', '1934', '1940', '1956', '1946', '1939', '1938', '1936', '1947', '1935', '1945', '1968', '1951', '1958', '1941', '1955', '1996', '1996', '1996', '1996', '1996', '1996', '1996', '1996', '1996', '1996', '1996', '1996', '1975', '1955', '1975', '1968', '1974', '1957', '1961', '1960', '1993', '1959', '1960', '1954', '1993', '1994', '1950', '1944', '1963', '1991', '1964', '1941', '1977', '1971', '1951', '1981', '1996', '1965', '1988', '1992', '1996', '1996', '1996', '1996', '1996', '1996', '1996', '1996', '1996', '1997', '1996', '1996', '1996', '1996', '1996', '1996', '1937', '1947', '1944', '1971', '1961', '1973', '1971', '1988', '1979', '1982', '1972', '1965', '1967', '1954', '1987', '1992', '1986', '1989', '1992', '1991', '1992', '1992', '1982', '1982', '1990', '1986', '1955', '1951', '1996', '1996', '1996', '1996', '1995', '1981', '1975', '1991', '1989', '1980', '1981', '1981', '1986', '1986', '1980', '1975', '1996', '1993', '1948', '1947', '1979', '1967', '1992', '1988', '1989', '1991', '1991', '1957', '1990', '1996', '1991', '1989', '1989', '1992', '1988', '1989', '1990', '1975', '1978', '1980', '1987', '1981', '1985', '1986', '1966', '1987', '1957', '1962', '1971', '1962', '1979', '1968', '1983', '1987', '1949', '1990', '1979', '1992', '1988', '1985', '1989', '1960', '1980', '1974', '1987', '1990', '1989', '1984', '1952', '1984', '1980', '1977', '1983', '1979', '1981', '1973', '1971', '1990', '1957', '1983', '1984', '1992', '1989', '1991', '1979', '1990', '1989', '1967', '1958', '1990', '1957', '1963', '1974', '1951', '1948', '1987', '1933', '1985', '1980', '1986', '1931', '1987', '1963', '1978', '1993', '1992', '1962', '1990', '1944', '1985', '1991', '1970', '1986', '1988', '1986', '1967', '1990', '1974', '1991', '1991', '1940', '1940', '1952', '1946', '1988', '1980', '1959', '1984', '1982', '1987', '1989', '1979', '1982', '1988', '1985', '1985', '1982', '1984', '1985', '1956', '1989', '1975', '1969', '1984', '1989', '1996', '1996', '1992', '1981', '1983', '1993', '1982', '1979', '1986', '1977', '1987', '1963', '1958', '1991', '1992', '1935', '1992', '1991', '1962', '1976', '1982', '1984', '1922', '1976', '1996', '1996', '1996', '1997', '1996', '1996', '1996', '1996', '1996', '1996', '1996', '1996', '1990', '1979', '1991', '1989', '1982', '1984', '1986', '1992', '1988', '1990', '1978', '1982', '1990', '1992', '1975', '1978', '1983', '1996', '1996', '1996', '1987', '1987', '1992', '1996', '1996', '1996', '1995', '1996', '1992', '1996', '1996', '1996', '1996', '1996', '1996', '1971', '1997', '1997', '1997', '1996', '1997', '1997', '1993', '1997', '1993', '1993', '1996', '1997', '1996', '1997', '1996', '1997', '1997', '1997', '1997', '1997', '1997', '1997', '1996', '1997', '1997', '1997', '1996', '1996', '1997', '1997', '1997', '1997', '1997', '1997', '1997', '1997', '1997', '1997', '1997', '1997', '1997', '1997', '1997', '1997', '1997', '1997', '1997', '1997', '1996', '1997', '1997', '1997', '1997', '1997', '1963', '1997', '1997', '1997', '1997', '1997', '1997', '1997', '1982', '1997', '1997', '1997', '1997', '1997', '1997', '1997', '1997', '1997', '1997', '1998', '1997', '1997', '1997', '1997', '1997', '1997', '1990', '1991', '1997', '1997', '1997', '1997', '1997', '1997', '1997', '1997', '1997', '1997', '1997', '1997', '1997', '1997', '1997', '1997', '1997', '1997', '1997', '1997', '1997', '1997', '1997', '1998', '1998', '1997', '1997', '1981', '1997', '1997', '1997', '1997', '1997', '1985', '1997', '1993', '1998', '1997', '1998', '1997', '1997', '1997', '1997', '1997', '1997', '1997', '1997', '1997', '1997', '1997', '1997', '1997', '1997', '1997', '1997', '1997', '1997', '1997', '1997', '1997', '1998', '1997', '1997', '1997', '1998', '1997', '1998', '1998', '1998', '1997', '1998', '1998', '1998', '1998', '1998', '1995', '1997', '1998', '1998', '1997', '1998', '1998', '1998', '1998', '1997', '1990', '1998', '1998', '1995', '1998', '1997', '1998', '1998', '1998', '1997', '1998', '1997', '1998', '1998', '1998', '1998', '1998', '1997', '1998', '1998', '1998', '1998', '1998', '1997', '1998', '1997', '1997', '1998', '1998', '1997', '1997', '1998', '1998', '1998', '1998', '1998', '1998', '1997', '1998', '1998', '1998', '1998', '1998', '1998', '1998', '1997', '1998', '1998', '1998', '1998', '1997', '1996', '1998', '1998', '1998', '1998', '1975', '1998', '1998', '1998', '1998', '1998', '1998', '1959', '1927', '1930', '1932', '1935', '1938', '1941', '1942', '1944', '1945', '1946', '1947', '1948', '1949', '1952', '1953', '1954', '1955', '1961', '1963', '1966', '1967', '1968', '1969', '1971', '1976', '1979', '1980', '1981', '1983', '1985', '1987', '1988', '1989', '1969', '1971', '1984', '1986', '1985', '1985', '1987', '1988', '1989', '1991', '1980', '1981', '1982', '1984', '1985', '1986', '1988', '1989', '1978', '1981', '1982', '1988', '1989', '1980', '1987', '1988', '1990', '1991', '1982', '1986', '1988', '1973', '1977', '1990', '1987', '1989', '1992', '1984', '1990', '1985', '1998', '1998', '1973', '1927', '1989', '1990', '1972', '1976', '1961', '1942', '1954', '1988', '1984', '1988', '1990', '1991', '1997', '1998', '1998', '1998', '1998', '1985', '1979', '1994', '1969', '1981', '1994', '1959', '1993', '1986', '1986', '1980', '1977', '1993', '1992', '1989', '1998', '1998', '1998', '1997', '1989', '1985', '1947', '1965', '1982', '1989', '1985', '1974', '1981', '1986', '1967', '1955', '1989', '1992', '1992', '1992', '1961', '1985', '1953', '1980', '1977', '1978', '1994', '1985', '1991', '1959', '1983', '1946', '1984', '1928', '1982', '1993', '1998', '1991', '1979', '1982', '1983', '1991', '1990', '1983', '1984', '1978', '1984', '1983', '1986', '1993', '1983', '1984', '1989', '1991', '1998', '1998', '1998', '1980', '1978', '1966', '1987', '1985', '1967', '1963', '1973', '1978', '1982', '1982', '1986', '1991', '1985', '1984', '1986', '1985', '1986', '1986', '1987', '1980', '1989', '1998', '1998', '1998', '1998', '1986', '1968', '1984', '1990', '1978', '1998', '1998', '1998', '1998', '1998', '1988', '1948', '1976', '1972', '1969', '1966', '1964', '1956', '1956', '1955', '1953', '1951', '1950', '1998', '1988', '1987', '1998', '1998', '1997', '1947', '1944', '1943', '1942', '1941', '1939', '1938', '1937', '1936', '1936', '1934', '1929', '1927', '1998', '1997', '1998', '1983', '1987', '1988', '1988', '1989', '1990', '1992', '1992', '1984', '1984', '1986', '1988', '1989', '1991', '1991', '1991', '1992', '1993', '1998', '1998', '1998', '1998', '1998', '1990', '1968', '1954', '1982', '1992', '1980', '1990', '1998', '1998', '1998', '1967', '1981', '1992', '1975', '1998', '1998', '1984', '1986', '1980', '1998', '1998', '1998', '1998', '1998', '1998', '1997', '1997', '1990', '1998', '1998', '1998', '1998', '1998', '1998', '1998', '1998', '1998', '1998', '1998', '1985', '1975', '1984', '1986', '1986', '1990', '1957', '1983', '1998', '1998', '1998', '1998', '1998', '1998', '1998', '1998', '1972', '1954', '1933', '1976', '1985', '1985', '1985', '1989', '1985', '1986', '1986', '1985', '1985', '1984', '1985', '1986', '1987', '1988', '1989', '1998', '1998', '1998', '1998', '1998', '1998', '1998', '1998', '1998', '1998', '1947', '1985', '1985', '1985', '1982', '1988', '1985', '1984', '1985', '1988', '1979', '1982', '1985', '1990', '1985', '1985', '1986', '1986', '1986', '1986', '1984', '1986', '1989', '1989', '1998', '1998', '1998', '1998', '1998', '1998', '1998', '1998', '1999', '1997', '1997', '1998', '1998', '1999', '1999', '1999', '1999', '1987', '1986', '1987', '1986', '1958', '1986', '1989', '1986', '1986', '1974', '1986', '1990', '1994', '1986', '1986', '1986', '1986', '1986', '1986', '1988', '1986', '1986', '1986', '1986', '1986', '1986', '1998', '1995', '1999', '1960', '1999', '1999', '1973', '1999', '1999', '1999', '1999', '1999', '1999', '1999', '1999', '1999', '1997', '1973', '1989', '1992', '1993', '1995', '1983', '1982', '1959', '1970', '1974', '1977', '1977', '1974', '1980', '1979', '1973', '1976', '1968', '1970', '1973', '1972', '1971', '1974', '1979', '1979', '1999', '1999', '1999', '1998', '1999', '1999', '1999', '1963', '1988', '1960', '1999', '1998', '1999', '1999', '1999', '1998', '1956', '1999', '1999', '1999', '1999', '1999', '1999', '1998', '1999', '1999', '1992', '1999', '1998', '1999', '1994', '1997', '1998', '1999', '1999', '1999', '1999', '1999', '1945', '1984', '1986', '1985', '1990', '1999', '1997', '1999', '1996', '1999', '1998', '1932', '1959', '1978', '1980', '1983', '1987', '1931', '1945', '1931', '1939', '1942', '1943', '1957', '1943', '1941', '1985', '1955', '1975', '1951', '1953', '1953', '1956', '1956', '1982', '1999', '1999', '1999', '1999', '1999', '1998', '1999', '1999', '1999', '1998', '1998', '1997', '1999', '1998', '1990', '1999', '1999', '1999', '1991', '1999', '1999', '1998', '1999', '1999', '1999', '1999', '1999', '1984', '1989', '1999', '1999', '1999', '1999', '1999', '1999', '1956', '1955', '1960', '1962', '1975', '1959', '1962', '1988', '1986', '1986', '1987', '1985', '1986', '1986', '1986', '1960', '1986', '1987', '1987', '1987', '1999', '1999', '1999', '1999', '1968', '1998', '2000', '1999', '1999', '1999', '1999', '1998', '1995', '1978', '1963', '1961', '1964', '1964', '1985', '1971', '1978', '1981', '1980', '1982', '1997', '1985', '1983', '1988', '1988', '1990', '1991', '1988', '1993', '1983', '1999', '1999', '1999', '1992', '1997', '1959', '1986', '1992', '1975', '1992', '1999', '1999', '1999', '1999', '1999', '1999', '1999', '1999', '1998', '1984', '1976', '1983', '1968', '1999', '1999', '1999', '1979', '1964', '1999', '1985', '1988', '1967', '1972', '1981', '1993', '1994', '1975', '1981', '1991', '1986', '1999', '1999', '1999', '1999', '1999', '1999', '1999', '1998', '1999', '1993', '1988', '1979', '1983', '1986', '1962', '1999', '1999', '1999', '1999', '1999', '1999', '1983', '1990', '1981', '1986', '1982', '1945', '1973', '1968', '1978', '1970', '1988', '1945', '1981', '1988', '1978', '1941', '1941', '1942', '1953', '1946', '1983', '1992', '1967', '1965', '1964', '1963', '1962', '1980', '1964', '1996', '1992', '1987', '1999', '1999', '1997', '1999', '1956', '1981', '1982', '1979', '1989', '1999', '1999', '1999', '1999', '1999', '1990', '1965', '1987', '1990', '1988', '1980', '1981', '1989', '1973', '1986', '1965', '1999', '1999', '1999', '1997', '1998', '1999', '1999', '1999', '1999', '1998', '1969', '1989', '1978', '1982', '1987', '1985', '1989', '1993', '1981', '1926', '1978', '1981', '1961', '1990', '1971', '1987', '1973', '1981', '1970', '1957', '1983', '1979', '1991', '1999', '1999', '1999', '1998', '1999', '1991', '1942', '1962', '1992', '1997', '1970', '1988', '1982', '1984', '1988', '1987', '1972', '1965', '1963', '1999', '1999', '1999', '1999', '1934', '1988', '1950', '1948', '1987', '1980', '1962', '1971', '1987', '1940', '1940', '1984', '1975', '1992', '1987', '1985', '1988', '1990', '1990', '1991', '1991', '1984', '1984', '1999', '1999', '1999', '1999', '1971', '1992', '1999', '1999', '1999', '1990', '1937', '1979', '1980', '1988', '1990', '1999', '1999', '1999', '1999', '1999', '1971', '1958', '1999', '1999', '1999', '1999', '1999', '1999', '1999', '1969', '1985', '1999', '1999', '1999', '1999', '2000', '1999', '1999', '1999', '1999', '1999', '2000', '2000', '1973', '1953', '1988', '1973', '1973', '1970', '1989', '1978', '1960', '1984', '1993', '1982', '1988', '1993', '1985', '1971', '1990', '1985', '1964', '2000', '1974', '1925', '1980', '1999', '1992', '1977', '1992', '1992', '1993', '1992', '1993', '1985', '1992', '1992', '1993', '1992', '1992', '1992', '1992', '1992', '1992', '1992', '1992', '1992', '1992', '1992', '1992', '1992', '1992', '1992', '1992', '1992', '1992', '2000', '1992', '1999', '2000', '2000', '2000', '2000', '1976', '1967', '2000', '2000', '2000', '2000', '1928', '1931', '1984', '1921', '1955', '2000', '2000', '2000', '1999', '1961', '1983', '1948', '1989', '1977', '1950', '1984', '1983', '2000', '1999', '1991', '1979', '1986', '1988', '1975', '1973', '1950', '1956', '1968', '1958', '1976', '1969', '1959', '1974', '1985', '1991', '1989', '1987', '1987', '1989', '1987', '1987', '1979', '1981', '1984', '1993', '1953', '1958', '2000', '2000', '1988', '1975', '1991', '1979', '1978', '1986', '1988', '1989', '1991', '1968', '1979', '1974', '1982', '1985', '1987', '1994', '1944', '1991', '1990', '1991', '1993', '1984', '1986', '1988', '1978', '1995', '1987', '1993', '1967', '2000', '2000', '2000', '1963', '1936', '1993', '1963', '1961', '1960', '1975', '1977', '1951', '1990', '1995', '1987', '1985', '1986', '2000', '2000', '2000', '1966', '1991', '1972', '1969', '1978', '1990', '1993', '1972', '1976', '1987', '1979', '1968', '1976', '2000', '2000', '2000', '2000', '1958', '1978', '1989', '1981', '1984', '1989', '1987', '1981', '2000', '2000', '2000', '2000', '1999', '1982', '1972', '1962', '1987', '1955', '1983', '1976', '1980', '2000', '2000', '2000', '1999', '1992', '1952', '2000', '2000', '2000', '2000', '1998', '1987', '2000', '1999', '1983', '1980', '1983', '1982', '2000', '2000', '2000', '2000', '1945', '1961', '1958', '1949', '1985', '1942', '1988', '1992', '2000', '2000', '2000', '2000', '1981', '1970', '2000', '2000', '1962', '1925', '1947', '1969', '1977', '1979', '1974', '1957', '1962', '2000', '1957', '1980', '1987', '1980', '1961', '1973', '1967', '1957', '1989', '1991', '1994', '1998', '1968', '1992', '1974', '1954', '1977', '1992', '1955', '1965', '1973', '1984', '1989', '1985', '1990', '1981', '1983', '1985', '1983', '1986', '1984', '1986', '1990', '1987', '1984', '1988', '1979', '1981', '1985', '1990', '1987', '1986', '1984', '1992', '1988', '1991', '1990', '1988', '2000', '2000', '1990', '1978', '1976', '1987', '1992', '1971', '1974', '1978', '1981', '1973', '1951', '1974', '1932', '1986', '1973', '1925', '2000', '2000', '2000', '1999', '2000', '2000', '2000', '2000', '2000', '1972', '1947', '1977', '1993', '1986', '1991', '1990', '1984', '1985', '1988', '1974', '1984', '1973', '1991', '1946', '1948', '1987', '1998', '2000', '2000', '1999', '1999', '1966', '1984', '1946', '1998', '2000', '1999', '1959', '1992', '1969', '1977', '1960', '1991', '1992', '1980', '1972', '1978', '1975', '1985', '2000', '2000', '2000', '2000', '2000', '2000', '2000', '1963', '1980', '1993', '1970', '1988', '1994', '1998', '1988', '1990', '1983', '1989', '1956', '1983', '1975', '1994', '1946', '2000', '2000', '2000', '2000', '1988', '1991', '1953', '1959', '1965', '1968', '1984', '1956', '2000', '2000', '2000', '2000', '2000', '2000', '2000', '2000', '2000', '2000', '2000', '2000', '2000', '2000', '2000', '2000', '2000', '2000', '2000', '1987', '1988', '1992', '1959', '1984', '1961', '1966', '1948', '1954', '1933', '1943', '1982', '2000', '2000', '2000', '1971', '2000', '2000', '2000', '2000', '2000', '2000', '2000', '1960', '1995', '1984', '1987', '1964', '1949', '1946', '1945', '2000', '2000', '2000', '1981', '1994', '2000', '2000', '2000', '2000', '2000', '2000', '2000', '2000', '2000', '1971', '1976', '2000', '2000', '2000', '2000', '2000', '2000', '2000', '2000', '2000', '2000', '2000', '2000', '1984', '1985', '1987', '1988', '1987', '1986', '1987', '1989', '1988', '1985', '2000', '1988', '2000', '2000', '2000', '2000', '2000', '2000', '2000', '2000', '2000', '2000', '2000', '2000', '2000', '2000', '2000', '2000', '2000', '1987', '1982', '1991', '1982', '1960', '1986', '1975', '1993', '2001', '2001', '2001', '2000', '2001', '1992', '1991', '1988', '1992', '1973', '1974', '1988', '1993', '2001', '2001', '2001', '1987', '1987', '1987', '1984', '1986', '1987', '1987', '1987', '1987', '1987', '1987', '1981', '1987', '1987', '1987', '1987', '1987', '1987', '1987', '1987', '1987', '1987', '1987', '1987', '1987', '1987', '1987', '1987', '1987', '2001', '2001', '2000', '2000', '2001', '2000', '2001', '2001', '2001', '2001', '2001', '2001', '2001', '2001', '2001', '2001', '2001', '1985', '1947', '1966', '1965', '1960', '1966', '1971', '1979', '1990', '1991', '1978', '1991', '1983', '1990', '2000', '1990', '1978', '1989', '1984', '1987', '1986', '1985', '1974', '1991', '1984', '2001', '2001', '2000', '2000', '2001', '2001', '2001', '2001', '2001', '2001', '2001', '2000', '2001', '2001', '2001', '2000', '2001', '2001', '2001', '2001', '2000', '2001', '2001', '2001', '1996', '1983', '1962', '2001', '2001', '2001', '2001', '1963', '1983', '1935', '1989', '1982', '1968', '1969', '1991', '1993', '1991', '1980', '1985', '1953', '1990', '1970', '1955', '2001', '2001', '2001', '2001', '2001', '2000', '1978', '1992', '1991', '1988', '1959', '1961', '1988', '1960', '1966', '1959', '1934', '1987', '1987', '2000', '1980', '1994', '1966', '1965', '2001', '2001', '2001', '2001', '1970', '1995', '1991', '1983', '1992', '1986', '1953', '1953', '1955', '1954', '1982', '1970', '2001', '2001', '2001', '2001', '2001', '2001', '2001', '2000', '2001', '2000', '2001', '2001', '2001', '2001', '2000', '1990', '1988', '1965', '1958', '1981', '1984', '1964', '1965', '1960', '1926', '1924', '1962', '1986', '1991', '1986', '1965', '1963', '1981', '1961', '1981', '1982', '1955', '1954', '1972', '1987', '1955', '1968', '1961', '1956', '1991', '1957', '1976', '1977', '1972', '1981', '1971', '1978', '1985', '1981', '1972', '2001', '2001', '2001', '2001', '2001', '1988', '1988', '1988', '1988', '1988', '1988', '1988', '1988', '1988', '1988', '1988', '1988', '1988', '1988', '1988', '1988', '1988', '1988', '1988', '1988', '1988', '1986', '1988', '1991', '1988', '1988', '1988', '1988', '1988', '1988', '1988', '1988', '1988', '1988', '1988', '1988', '1988', '1988', '1988', '1988', '1988', '1988', '1988', '1988', '1987', '1988', '1988', '1985', '1982', '1988', '1988', '1988', '1986', '1988', '1988', '1989', '1988', '1988', '1988', '1988', '1988', '1988', '1989', '1985', '1987', '1993', '1989', '1989', '1989', '1989', '1989', '1989', '1989', '1989', '1989', '1989', '1989', '1988', '1983', '1989', '1989', '1989', '1989', '1989', '1989', '1989', '1989', '1989', '1989', '1989', '1989', '1989', '1989', '1989', '1989', '1989', '1989', '1989', '1989', '1989', '1989', '1989', '1989', '1989', '1989', '1989', '1989', '1989', '1989', '1989', '1989', '1989', '2001', '2000', '2001', '2001', '2001', '1997', '2001', '2001', '1989', '1989', '1989', '1989', '1989', '1989', '1989', '1987', '1989', '1989', '1989', '1989', '1989', '1989', '1989', '1988', '1989', '1989', '1989', '1993', '1993', '1963', '1971', '1984', '1982', '2001', '2001', '2001', '1962', '1978', '1969', '1976', '1970', '1980', '1980', '1980', '1980', '2001', '2001', '2001', '2001', '2001', '2001', '2001', '2001', '2001', '2001', '2001', '2001', '2001', '2001', '2000', '2000', '2001', '2001', '2001', '2002', '1992', '1994', '1980', '1980', '1986', '1973', '1996', '2001', '2001', '2001', '2001', '1955', '1922', '2001', '2001', '2002', '2001', '2001', '1981', '1968', '1973', '1991', '1980', '1974', '1971', '1960', '1987', '1964', '1960', '1963', '1959', '1971', '1993', '1983', '1979', '1986', '1951', '2001', '2001', '2001', '2001', '2001', '1980', '1980', '1980', '1980', '1980', '1980', '1980', '1980', '1980', '2001', '2001', '1993', '2001', '2001', '1971', '1971', '1991', '2001', '2001', '2001', '1999', '2001', '2001', '2001', '2001', '2001', '2001', '2001', '2001', '2001', '2001', '2001', '2001', '2001', '2001', '1979', '2001', '2001', '2001', '2001', '2001', '2001', '2001', '1972', '1981', '1977', '1968', '1960', '1982', '1976', '1958', '1985', '1933', '1978', '1977', '1977', '1982', '1966', '1980', '1980', '1980', '1981', '1980', '1980', '1976', '1977', '1976', '1977', '1985', '1983', '1990', '1977', '1960', '1987', '1980', '1983', '2001', '2001', '2001', '2001', '1957', '2001', '1945', '1984', '2001', '2001', '2001', '2001', '1991', '1986', '1985', '1984', '1983', '1987', '2001', '2001', '2001', '2001', '2001', '2001', '2001', '1958', '1972', '1968', '1964', '1957', '2001', '2001', '2001', '2001', '2001', '2001', '2001', '1953', '1976', '1963', '2002', '2001', '1990', '1994', '1990', '1978', '1981', '1984', '1983', '2001', '2002', '2002', '1982', '2000', '1983', '1993', '1974', '1970', '1966', '1961', '2002', '2002', '2002', '2001', '2001', '2001', '1993', '1989', '1984', '2002', '2001', '1954', '1991', '1973', '2002', '2002', '2002', '2001', '1994', '1993', '1993', '1973', '2002', '2002', '2002', '2002', '2001', '1993', '1952', '1972', '1977', '1980', '2002', '2002', '2002', '2001', '2001', '1976', '2000', '1957', '2002', '2002', '1989', '1992', '1994', '1994', '1979', '1945', '2002', '2002', '1942', '1980', '1980', '1980', '1980', '1980', '1980', '1980', '1980', '1980', '1980', '1980', '1980', '2002', '2002', '2002', '2001', '2001', '1983', '1940', '1992', '1981', '1980', '1980', '1980', '1980', '1977', '1983', '1980', '2002', '2002', '2002', '2002', '2002', '2002', '2001', '1972', '1985', '1991', '2002', '2002', '1990', '1964', '1950', '1977', '2002', '2001', '2002', '2002', '2001', '2001', '2002', '1957', '1975', '1990', '1945', '1988', '1987', '1990', '1987', '1990', '1980', '2002', '2002', '2001', '2000', '2001', '2002', '2001', '2002', '1990', '1992', '1974', '1986', '1989', '2002', '2002', '1976', '1994', '1991', '1983', '1991', '2002', '2002', '1991', '1959', '1979', '1953', '1957', '2002', '2002', '2001', '2002', '1978', '1959', '1958', '2002', '2002', '2002', '2001', '1956', '1958', '1960', '1954', '2002', '2002', '1987', '1945', '1953', '1992', '1972', '1979', '2002', '2002', '2002', '2002', '2002', '2002', '2002', '2001', '1972', '1984', '1978', '1988', '1985', '1948', '1967', '1986', '1990', '1949', '2002', '2002', '2002', '2002', '2002', '2002', '2002', '1993', '1994', '2002', '2002', '2002', '2001', '2002', '2002', '2002', '1957', '1969', '2002', '2001', '2002', '2002', '2002', '2002', '2002', '2002', '2001', '1979', '1976', '1966', '1966', '1965', '1976', '1984', '2002', '2002', '2001', '2002', '2002', '2002', '2002', '2002', '2000', '1981', '1987', '1975', '2002', '2002', '2001', '2000', '2002', '2002', '2002', '2002', '2002', '1981', '1991', '1980', '1978', '1979', '1988', '1986', '1958', '1987', '2002', '2002', '2002', '1984', '1972', '1996', '2002', '2002', '2002', '2002', '1990', '1992', '1991', '1984', '1977', '1977', '1991', '1979', '1955', '1951', '1951', '1989', '2001', '2001', '2002', '2002', '2002', '2002', '2002', '2001', '2002', '2001', '2002', '2002', '2002', '2001', '2002', '2002', '2001', '2002', '1956', '1979', '1989', '1958', '1964', '1966', '1982', '2002', '2002', '2001', '2002', '2002', '2002', '2002', '2002', '2001', '2002', '2002', '2002', '2001', '2002', '2002', '2001', '2002', '1991', '1993', '1972', '1977', '1983', '1980', '1980', '1980', '1980', '1981', '1982', '1981', '1981', '1981', '1981', '1981', '1981', '1981', '1981', '1981', '1982', '1981', '1981', '1981', '1981', '1981', '1981', '1981', '1981', '1981', '1981', '1981', '1981', '1981', '1981', '1981', '1982', '1981', '1981', '1981', '1981', '2002', '2002', '2002', '2002', '2002', '2002', '1967', '1984', '1960', '1965', '1966', '2002', '2002', '2002', '2002', '2002', '2002', '2002', '2002', '1993', '2002', '1950', '1961', '2002', '1990', '1990', '1991', '1991', '1981', '1981', '1981', '1981', '1981', '1981', '2002', '2002', '2002', '2002', '2002', '2002', '2002', '2002', '2002', '2002', '1991', '1997', '1978', '1994', '1982', '1964', '2002', '2002', '2002', '2001', '1981', '1982', '1982', '1982', '1982', '1982', '1982', '2002', '2002', '2002', '2002', '2002', '2002', '2001', '2002', '2002', '2002', '2002', '2002', '2002', '2002', '1990', '1993', '1961', '1977', '1957', '1990', '1994', '1991', '1988', '1940', '1956', '1970', '1986', '1957', '1974', '1962', '1953', '1975', '2000', '2002', '2002', '2002', '2002', '2002', '2002', '2002', '2002', '2000', '1980', '1982', '2002', '2003', '2003', '2003', '2003', '2001', '2002', '1995', '1977', '1992', '1964', '1993', '1959', '1979', '1985', '1982', '1984', '2003', '2002', '1996', '1947', '1972', '2003', '2003', '2003', '2002', '2002', '2002', '1956', '1979', '2000', '1982', '1982', '1982', '1982', '1982', '1982', '1982', '1982', '1982', '1982', '1982', '1987', '1982', '1982', '1983', '1982', '1982', '1982', '1982', '1982', '1981', '1982', '2003', '2003', '2003', '2003', '2003', '2002', '2002', '1993', '1983', '1979', '1967', '1988', '1963', '1976', '2002', '2003', '2003', '2003', '2001', '2002', '2002', '2003', '2002', '1993', '2003', '2003', '2002', '2002', '2001', '2002', '2003', '2003', '2001', '2002', '1961', '1975', '1942', '1971', '1954', '1990', '1959', '1991', '1998', '1999', '2002', '2003', '2003', '2003', '1937', '1966', '1953', '1992', '2003', '2003', '2003', '2003', '1990', '1973', '1950', '2003', '2003', '2002', '2001', '2002', '2003', '2002', '2003', '2003', '2002', '2003', '2003', '2003', '2003', '2001', '1971', '1971', '1994', '1966', '1986', '1986', '1978', '1962', '1990', '2003', '2003', '2002', '2003', '2003', '2003', '2002', '2000', '1985', '1984', '1986', '1957', '1957', '1956', '1953', '2003', '2003', '2002', '2002', '2003', '2003', '2003', '2003', '2003', '2003', '2003', '1966', '1991', '1970', '1971', '1973', '1971', '1970', '1968', '1990', '1976', '1939', '1979', '1966', '1965', '1991', '1997', '1970', '1950', '1929', '1945', '1951', '1993', '1991', '1969', '1992', '1930', '1961', '1966', '1965', '1957', '1958', '1989', '1960', '1966', '1962', '1969', '1997', '1991', '1947', '1992', '1973', '1970', '1991', '1972', '2003', '2003', '2003', '2002', '2003', '1962', '2002', '2003', '2001', '1974', '1956', '1992', '1991', '1953', '1964', '1992', '1991', '1952', '1976', '1972', '2003', '2003', '2003', '2003', '2003', '2003', '2003', '2003', '2003', '2003', '2003', '2002', '1991', '1994', '1963', '2003', '2003', '2003', '2001', '2003', '2003', '1972', '1976', '1974', '1991', '1961', '1970', '1985', '1989', '2003', '2003', '2002', '2003', '2003', '2003', '1988', '1952', '1990', '2003', '2003', '2001', '2003', '2003', '2003', '1994', '1953', '1993', '1983', '1994', '1985', '1986', '1983', '1967', '2000', '1991', '1953', '1971', '1949', '1972', '1983', '1953', '1979', '1990', '1948', '1963', '1976', '1985', '1979', '1972', '1952', '1990', '2001', '1996', '1971', '2003', '2003', '2003', '2003', '2003', '2003', '2003', '2002', '2003', '2001', '2003', '2003', '2003', '2003', '2001', '2002', '1985', '1992', '1991', '1992', '1993', '1973', '1978', '1985', '1969', '1992', '1950', '1989', '1985', '1976', '1979', '1937', '2003', '2003', '2003', '2003', '2002', '2002', '2002', '2003', '2003', '2003', '2003', '2003', '2003', '2003', '1983', '2001', '1961', '1989', '1939', '1954', '1985', '1976', '1996', '2001', '1987', '1992', '1993', '1991', '1991', '1976', '1986', '2000', '1985', '1985', '1995', '1983', '1968', '1984', '1991', '1994', '1990', '1984', '1985', '1987', '1990', '1985', '2000', '1979', '1991', '1939', '1970', '1992', '1967', '1942', '1993', '1962', '1941', '1991', '2003', '2003', '2003', '2003', '2003', '2003', '2003', '2003', '2003', '2003', '2003', '2003', '2002', '2003', '2003', '2003', '2003', '2003', '2003', '2003', '2003', '2003', '1969', '2003', '2002', '2002', '1977', '2002', '2002', '1941', '1973', '1970', '1943', '2003', '2003', '2003', '2003', '2003', '1991', '2003', '2003', '2003', '2003', '2003', '2003', '2003', '2003', '2003', '2003', '1992', '1990', '1945', '1994', '1991', '1992', '1990', '1997', '1972', '1991', '1990', '1983', '1962', '1955', '1952', '1935', '1928', '1920', '1919', '1983', '1979', '1984', '1994', '1986', '1991', '1969', '1991', '1992', '1993', '1992', '1991', '1978', '1991', '1990', '1991', '1992', '1991', '1972', '1992', '1992', '1986', '1990', '1955', '1993', '1991', '1987', '1992', '1990', '1987', '2000', '1975', '1992', '1987', '1985', '1990', '1977', '1992', '1993', '1990', '1987', '1998', '1984', '1985', '1991', '1999', '1992', '1985', '1994', '1986', '1962', '1990', '1990', '1987', '1985', '1997', '1933', '1936', '1949', '1936', '1931', '1973', '1939', '1962', '1972', '1946', '1915', '1965', '1961', '1971', '1948', '1974', '1939', '1964', '1924', '1955', '1968', '1938', '1939', '1933', '1972', '1984', '1973', '2002', '1932', '1974', '1977', '1984', '1991', '1987', '1979', '1978', '1993', '1995', '1970', '1965', '1975', '1955', '1993', '1990', '1949', '1991', '1991', '1959', '1935', '1960', '1968', '2003', '2003', '2003', '2003', '2003', '2003', '2003', '2003', '2003', '2003', '2003', '2003', '2003', '2003', '2003', '2003', '2003', '2003', '2003', '2003', '2003', '2003', '2002', '2004', '2004', '2003', '2004', '2004', '1974', '1992', '1965', '1970', '1966', '1992', '1993', '1990', '1950', '1987', '2003', '1967', '1975', '1958', '1953', '1946', '1944', '1941', '1947', '1943', '1950', '1977', '2002', '1992', '1993', '1954', '2001', '1975', '1916', '1968', '2004', '2004', '2003', '2004', '2004', '2004', '2003', '2004', '2004', '2004', '2003', '1994', '1992', '2003', '1972', '2004', '2004', '2003', '2003', '1971', '1924', '1959', '1987', '1985', '1985', '1986', '1939', '2004', '2004', '2004', '2004', '2004', '2004', '2003', '2004', '2004', '2003', '1966', '1953', '1985', '1966', '2004', '2004', '2004', '2004', '1993', '2004', '2004', '2004', '2003', '2004', '2004', '2004', '2004', '2003', '2003', '2004', '2004', '2004', '2004', '2003', '2004', '2004', '2004', '2004', '2003', '2003', '1956', '1978', '1966', '1976', '1965', '1939', '1949', '1983', '1985', '1964', '2004', '2004', '2004', '2003', '2004', '2004', '2004', '2004', '2004', '2004', '2004', '2004', '2003', '2004', '2004', '2003', '2003', '2002', '1985', '1973', '1997', '1990', '1978', '1994', '1990', '2000', '1964', '1988', '1997', '1964', '1967', '1983', '1983', '1956', '1949', '1942', '1967', '1955', '1984', '1975', '1992', '1962', '1992', '1998', '1991', '1992', '2002', '1992', '1998', '1968', '1957', '1979', '1953', '1990', '1986', '1930', '1991', '1967', '1942', '1967', '1984', '1974', '1994', '1984', '1946', '1993', '1985', '1993', '1965', '1963', '1997', '1983', '1957', '2003', '1992', '1990', '1964', '2002', '2001', '1993', '2002', '1990', '1974', '1979', '1999', '1998', '1970', '1986', '1974', '1960', '1947', '2002', '1945', '1936', '1970', '1939', '2003', '2000', '2001', '1993', '1996', '2001', '1966', '1943', '1970', '1967', '1973', '1964', '1971', '1974', '1962', '1963', '2001', '1998', '1991', '1948', '1977', '1958', '1963', '1991', '1983', '1968', '1963', '1963', '1961', '1958', '1955', '1953', '1946', '1967', '1974', '1990', '1970', '2002', '1968', '1977', '2002', '2003', '1984', '1986', '1989', '1987', '1996', '1979', '1975', '1962', '1966', '1954', '1992', '1999', '2002', '2003', '1972', '2002', '1966', '1996', '1992', '1973', '1993', '1932', '1987', '1966', '2002', '1991', '1999', '1955', '1999', '1990', '1986', '1927', '1963', '2002', '1987', '2003', '1953', '1956', '1960', '1999', '1991', '1935', '1987', '1954', '1960', '1969', '1960', '1970', '1959', '1953', '1973', '1946', '1990', '1939', '1923', '1956', '1961', '1997', '1979', '1993', '2001', '1977', '1975', '1972', '1984', '1993', '1990', '1992', '1932', '2002', '1959', '1972', '1954', '1947', '1979', '1948', '2004', '2004', '2004', '2004', '2004', '2003', '2004', '2004', '2004', '2003', '2004', '2004', '2004', '2004', '1991', '1942', '2003', '1961', '1994', '1978', '1968', '1947', '1987', '1955', '1983', '1955', '1970', '1949', '1948', '2004', '1962', '1945', '1949', '1951', '1990', '1965', '2000', '1971', '1978', '1986', '1952', '1996', '1932', '1917', '1976', '1946', '1992', '1931', '2004', '2004', '2004', '2004', '2004', '2004', '2004', '2004', '2004', '1937', '1983', '1999', '1945', '1994', '2002', '1989', '1984', '1992', '1978', '2002', '2002', '1938', '1998', '2003', '2003', '1984', '1987', '1960', '1954', '1962', '2004', '1987', '1965', '1975', '1984', '2004', '2004', '2004', '2004', '2004', '2004', '2004', '2004', '2004', '1951', '1978', '1972', '1989', '1962', '1976', '2004', '2004', '2004', '1957', '1971', '1956', '1968', '1990', '1972', '1993', '1988', '1991', '1983', '1963', '2001', '1961', '1997', '1963', '1991', '1950', '1946', '1949', '1946', '1965', '1946', '1969', '2004', '2004', '2004', '2004', '1951', '2003', '1966', '2004', '2004', '2003', '1988', '2004', '2004', '2003', '2004', '2004', '2004', '2004', '1983', '2004', '2004', '2003', '2004', '2004', '2004', '1974', '1995', '2004', '1953', '1986', '1975', '1965', '1988', '1986', '2004', '2004', '2004', '2004', '2004', '2004', '2004', '2004', '2004', '2004', '2004', '2004', '2004', '2004', '1974', '1985', '1968', '1985', '1977', '1990', '1977', '1963', '1992', '1980', '2004', '2004', '2004', '2004', '2004', '2004', '2004', '2004', '2004', '2004', '1979', '1967', '2003', '1992', '2004', '2004', '2004', '2004', '2004', '2004', '2004', '2004', '2004', '2004', '2004', '2004', '2004', '2004', '2004', '2004', '2004', '2004', '2004', '2004', '2004', '2004', '2004', '2004', '2004', '2004', '2004', '2004', '2004', '2004', '1964', '1961', '1985', '1993', '2003', '1921', '1924', '1924', '1925', '1928', '1928', '1928', '1929', '1931', '1932', '1932', '1932', '1932', '1934', '1934', '1935', '1936', '1936', '1936', '1936', '1937', '1937', '1938', '1939', '1939', '1941', '1942', '1943', '1943', '1944', '1944', '1945', '1945', '1946', '1946', '1946', '1946', '1946', '1947', '1947', '1948', '1948', '1947', '1948', '1948', '1948', '1950', '1950', '1950', '1950', '1952', '1952', '1953', '1954', '1954', '1954', '1953', '1955', '1955', '1956', '1957', '1957', '1958', '1959', '1959', '1959', '1959', '1960', '1961', '1962', '1962', '1962', '1962', '1962', '1962', '1963', '1963', '1963', '1963', '1964', '1964', '1964', '1964', '1964', '1967', '1966', '1965', '1966', '1965', '1965', '1965', '1965', '1964', '1966', '1966', '1966', '1966', '1967', '1967', '1967', '1967', '1967', '1967', '1968', '1968', '1968', '1968', '1968', '1968', '1970', '1967', '1969', '1969', '1970', '1970', '1970', '1970', '1970', '1970', '1970', '1971', '1971', '1972', '1971', '1971', '1971', '1970', '1970', '1970', '1972', '1972', '1972', '1971', '1973', '1973', '1974', '1973', '1973', '1973', '1974', '1973', '1973', '1973', '1973', '1973', '1974', '1974', '1973', '1974', '1973', '1974', '1974', '1975', '1976', '1975', '1975', '1975', '1975', '1975', '1975', '1975', '1976', '1975', '1976', '1976', '1977', '1976', '1976', '1977', '1977', '1977', '1977', '1977', '1977', '1978', '1977', '1978', '1979', '1979', '1979', '1979', '1979', '1977', '1983', '1983', '1983', '1983', '1983', '1983', '1983', '1983', '1983', '1983', '1983', '1983', '1983', '1983', '1983', '1984', '1984', '1984', '1984', '1985', '1984', '1984', '1984', '1984', '1985', '1985', '1985', '1985', '1985', '1985', '1985', '1985', '1985', '1985', '1985', '1985', '1985', '1985', '1985', '1986', '1986', '1986', '1986', '1986', '1985', '1986', '1988', '1988', '1987', '1987', '1987', '1987', '1987', '1987', '1987', '1988', '1988', '1988', '1988', '1988', '1989', '1990', '1990', '1990', '1990', '1990', '1990', '1990', '1990', '1990', '1990', '1990', '1990', '1990', '1990', '1991', '1991', '1991', '1991', '1991', '1991', '1991', '1992', '1991', '1991', '1990', '1991', '1991', '1990', '1993', '1992', '1992', '1992', '1992', '1992', '1992', '1993', '1993', '1993', '1993', '1992', '1993', '1993', '1993', '1993', '1994', '1995', '1995', '1993', '1994', '1994', '1994', '1995', '1995', '1995', '1995', '1994', '1996', '1993', '1997', '1996', '1995', '1996', '1997', '1996', '1997', '1997', '1997', '1997', '1997', '1998', '1998', '1999', '1999', '1999', '1999', '1998', '1998', '1998', '1998', '1998', '1999', '1997', '1999', '1999', '1998', '1999', '1998', '1973', '2000', '2001', '1967', '1999', '1998', '1997', '1998', '2000', '2000', '1998', '2000', '2000', '2000', '2000', '1999', '2000', '2000', '2004', '2000', '1999', '2000', '2000', '1999', '2002', '2001', '2001', '2003', '2001', '2000', '2002', '2001', '2000', '2002', '2001', '2000', '2001', '2002', '2001', '2000', '2000', '2001', '2002', '2002', '2004', '2002', '2001', '2002', '2002', '2002', '2001', '2001', '2001', '2001', '2003', '2003', '2002', '2003', '2003', '2002', '2002', '2003', '2001', '2004', '2003', '2005', '2004', '2003', '2003', '2003', '2003', '2003', '2004', '2000', '2003', '2004', '2004', '2003', '2004', '2003', '2002', '2003', '2003', '2004', '2003', '2004', '2003', '2004', '2004', '2003', '2002', '2003', '2002', '2003', '2003', '2004', '2004', '2003', '2003', '2003', '2004', '2004', '2002', '2003', '2003', '2005', '2005', '2004', '2003', '2003', '2003', '2003', '2003', '2004', '2004', '2004', '2003', '2005', '2004', '2004', '2003', '2003', '2004', '2004', '2003', '2004', '2004', '2005', '2003', '2004', '2004', '2004', '2003', '2004', '2004', '2004', '2004', '2004', '2004', '2004', '2004', '2006', '2004', '1998', '2004', '2005', '1965', '2004', '1962', '2003', '2004', '1964', '2000', '2005', '2004', '2004', '2004', '2004', '2004', '2004', '2004', '2004', '2004', '2004', '2004', '1941', '2004', '2004', '2005', '2005', '2005', '1983', '1985', '1930', '2003', '1941', '2003', '2002', '1951', '1953', '2004', '2002', '2004', '1970', '1970', '2005', '2005', '2005', '1968', '2003', '1975', '1991', '1960', '1942', '2004', '2003', '1994', '1954', '2004', '2004', '2001', '2005', '2005', '2005', '2005', '2005', '2005', '2004', '2004', '2004', '1966', '1999', '1979', '1939', '1960', '1994', '1988', '1952', '1954', '1961', '2001', '2004', '2004', '1999', '2005', '2005', '2005', '2004', '2005', '2005', '2005', '2005', '1965', '1950', '2004', '2003', '1933', '2005', '2004', '2004', '1986', '1973', '1966', '1945', '1939', '1957', '2003', '2004', '1970', '1969', '2004', '2005', '2005', '2005', '2005', '2005', '2005', '1991', '1993', '2004', '1968', '1958', '1989', '1973', '2004', '2005', '1977', '2003', '2005', '2004', '2005', '2005', '2004', '1978', '1937', '1950', '1960', '1968', '1991', '1994', '1999', '1994', '1997', '1955', '2003', '1953', '1995', '2003', '2005', '2005', '2005', '2005', '2005', '1984', '1973', '1977', '2001', '2003', '1977', '1969', '1965', '1976', '1969', '2000', '2004', '1966', '1971', '1964', '1984', '1982', '1962', '1902', '2002', '1962', '2004', '2004', '2004', '1990', '1947', '1989', '2005', '1975', '1973', '2005', '2004', '2004', '1979', '2005', '2005', '2005', '2005', '2005', '2005', '2005', '2004', '2004', '1985', '1965', '1939', '1994', '1969', '1985', '2002', '2001', '1996', '2002', '2005', '1976', '1990', '1939', '2005', '2005', '2005', '1979', '2003', '1961', '2004', '2002', '2005', '1993', '2005', '2005', '2004', '1997', '2005', '2005', '2005', '2005', '2005', '2003', '2005', '2004', '1998', '2004', '1989', '1951', '2005', '2004', '2005', '2004', '2005', '2005', '2005', '2005', '2005', '2004', '2004', '2004', '2005', '1972', '1993', '1991', '2002', '2003', '1975', '2004', '2004', '2005', '1966', '2005', '2005', '2005', '2005', '2005', '2003', '2005', '2005', '2005', '1959', '2005', '1990', '2005', '2005', '2005', '2005', '2005', '2005', '2005', '2005', '1996', '1992', '2001', '2005', '1975', '2005', '1989', '1933', '2005', '2005', '2005', '2005', '2005', '2005', '2005', '2005', '2005', '2005', '2005', '2004', '1972', '2001', '1985', '2004', '2005', '1954', '1989', '2005', '2004', '2005', '1958', '1995', '2005', '1999', '1986', '2005', '2005', '2005', '2005', '2005', '2005', '2005', '2005', '2005', '2005', '2005', '2005', '2005', '1983', '2005', '1988', '2004', '1940', '2005', '1967', '1966', '2005', '2005', '2005', '2005', '2005', '2005', '2005', '2005', '2005', '2005', '2005', '2005', '2005', '2005', '1971', '2005', '2005', '2005', '2004', '2005', '2005', '2005', '2005', '2004', '1988', '2005', '2005', '2005', '2003', '2004', '1986', '2005', '1974', '1990', '2005', '2005', '2005', '2005', '2005', '2005', '2005', '2005', '2005', '2005', '2005', '2005', '2005', '2005', '2005', '2003', '2005', '2005', '2005', '2005', '2005', '1975', '2005', '2005', '1949', '1932', '1934', '1960', '2005', '2005', '1979', '2005', '2005', '2005', '2004', '2005', '1970', '2005', '2005', '2005', '2005', '2004', '2005', '2005', '2005', '2005', '2005', '2005', '2001', '2005', '2005', '2005', '2005', '2005', '2005', '2005', '2005', '2005', '2004', '1978', '1953', '1970', '2004', '2003', '1978', '2005', '1977', '2005', '2005', '2005', '2005', '2005', '2005', '1967', '2005', '2005', '1986', '2005', '1966', '2005', '1953', '2005', '2005', '2005', '2005', '2005', '2005', '2005', '2005', '2005', '2005', '2005', '2005', '1973', '2000', '1986', '2005', '1949', '1996', '1984', '2001', '2005', '2002', '1945', '2005', '1966', '2002', '2004', '2005', '2005', '2006', '2006', '2006', '2006', '2005', '2006', '1998', '1966', '1983', '2005', '2006', '1955', '2002', '1966', '2005', '2005', '2005', '1988', '2006', '2003', '1978', '2006', '2006', '2005', '2006', '1963', '1995', '2006', '2006', '2005', '1994', '2005', '2006', '1986', '2005', '2006', '2006', '2006', '2005', '2005', '2006', '2006', '2006', '2006', '2006', '2006', '2006', '2006', '2006', '2006', '1993', '2005', '2006', '2006', '2006', '2006', '1979', '2005', '1950', '2005', '2004', '2005', '1953', '2006', '2006', '2006', '2006', '2005', '2006', '2006', '2005', '2006', '1994', '1995', '1996', '2000', '2006', '2006', '1995', '1968', '1993', '2006', '1972', '1970', '2006', '1983', '1967', '2006', '2006', '2006', '2005', '2006', '2006', '2005', '2005', '2006', '2005', '2006', '2006', '2006', '2005', '2006', '2005', '1978', '2006', '2005', '2006', '2006', '2005', '2004', '2004', '2006', '2006', '1978', '2006', '1965', '2006', '2005', '2006', '2006', '2006', '1998', '2005', '2005', '2006', '2006', '2006', '2006', '2005', '1970', '2005', '2005', '2006', '2006', '2006', '2006', '2006', '2006', '2006', '2006', '2005', '1944', '2005', '2005', '2005', '2006', '2006', '2006', '2006', '2006', '2006', '2006', '2006', '2006', '2006', '2006', '2006', '2006', '1947', '2006', '2003', '2006', '1991', '2006', '2006', '2005', '2005', '2006', '2006', '1992', '2006', '1979', '1966', '2006', '1991', '2005', '2006', '2006', '1983', '1962', '2006', '2006', '2006', '1979', '1976', '1969', '2006', '2006', '2005', '2006', '2006', '2006', '2006', '2006', '2006', '2006', '2006', '2005', '2006', '2006', '2006', '2005', '1975', '2006', '2005', '2011', '2005', '2006', '2006', '1971', '2006', '2006', '2006', '2004', '2006', '2005', '2005', '1995', '2005', '2006', '2006', '2006', '2005', '1977', '2006', '2006', '2004', '2006', '2006', '2006', '1945', '1956', '2005', '1940', '2005', '2006', '2005', '1984', '2006', '2005', '1975', '2006', '2005', '2006', '2006', '1939', '2006', '2005', '2006', '2006', '2006', '2005', '2006', '1994', '2006', '2005', '1940', '2006', '2006', '2006', '2006', '1989', '2006', '2006', '2005', '1933', '2006', '2006', '2006', '2006', '1994', '2006', '2006', '2006', '2006', '2006', '2006', '2006', '2006', '2006', '2006', '1947', '2005', '2006', '2006', '2006', '2006', '2006', '2006', '2005', '2006', '1978', '2006', '2006', '2006', '2006', '2006', '2006', '2006', '2006', '2005', '2006', '2005', '2006', '2006', '2006', '1952', '2006', '1936', '2006', '2006', '1966', '2006', '2005', '1993', '1992', '2006', '2006', '2006', '2006', '2006', '2006', '2006', '2006', '2006', '2006', '2006', '2006', '2006', '2005', '2003', '2006', '1903', '1965', '2006', '2006', '2005', '1948', '1991', '2006', '2006', '2006', '2006', '1965', '2006', '2006', '2006', '2006', '2006', '2006', '2006', '2005', '2006', '2006', '2004', '1982', '2006', '2006', '1971', '2007', '2006', '2006', '2006', '1999', '2006', '2006', '2006', '2006', '2005', '2006', '2006', '2006', '2006', '2007', '2007', '2006', '2006', '2006', '2006', '1967', '2006', '1953', '2006', '2007', '2006', '2005', '2006', '2006', '1966', '2007', '1977', '2007', '2006', '2005', '2006', '2006', '2007', '2007', '2007', '2007', '2007', '2006', '2006', '2007', '2006', '1961', '2006', '2006', '2004', '2005', '2006', '2006', '2006', '2006', '1997', '2006', '2006', '2007', '2007', '2007', '2007', '2007', '2007', '2006', '2006', '1976', '2006', '1968', '1987', '2007', '1978', '2006', '2004', '1971', '1995', '2007', '2006', '2006', '2005', '2005', '1987', '2007', '2005', '1993', '2007', '2007', '2006', '2003', '2006', '2006', '2006', '1953', '2006', '2007', '2006', '2006', '2007', '2006', '2006', '1928', '2007', '1960', '2007', '2007', '2007', '2007', '2007', '2007', '2005', '2006', '1951', '2006', '2007', '2007', '2007', '2007', '2007', '2007', '1978', '2006', '2007', '2005', '2006', '2005', '1966', '2006', '2006', '2007', '2007', '2007', '1970', '2005', '2007', '1973', '2007', '2006', '2006', '2007', '2006', '1990', '2007', '1993', '2007', '2007', '2004', '2007', '2007', '2007', '2007', '2007', '1950', '2006', '1949', '1988', '2006', '2006', '2006', '2006', '2006', '2006', '2007', '2007', '2007', '2007', '2007', '1984', '2006', '2007', '2007', '2007', '2006', '2007', '2007', '2006', '2004', '2006', '2006', '2006', '2007', '2007', '2006', '2006', '2007', '2006', '2006', '1999', '2007', '2007', '2007', '2007', '2007', '2006', '2007', '2006', '2005', '2006', '2006', '2006', '1967', '2004', '1985', '2006', '1954', '2007', '1983', '2007', '2007', '2007', '2007', '2007', '2007', '2007', '2007', '2007', '2007', '2007', '1985', '2007', '2006', '2006', '1950', '2006', '2006', '2007', '1986', '2007', '2006', '2007', '2007', '1964', '2006', '2007', '2007', '2007', '2007', '2008', '2007', '2007', '2006', '2007', '2005', '2006', '1972', '1962', '2007', '2007', '2007', '2007', '2005', '2007', '2007', '2007', '2007', '2007', '2007', '2007', '2007', '2007', '2007', '2007', '2007', '2007', '2007', '2007', '2007', '2007', '2006', '2007', '2006', '2007', '2007', '2007', '1974', '2007', '2007', '2007', '2007', '2005', '2007', '2007', '1967', '2007', '2007', '2006', '2007', '2007', '2007', '2007', '2007', '2005', '2006', '2006', '2007', '2007', '2007', '2007', '2007', '2007', '2007', '2007', '2007', '2007', '2007', '2007', '2007', '2007', '2007', '2007', '2007', '2007', '2007', '2007', '2007', '2007', '2007', '2007', '2007', '2007', '2006', '2007', '2007', '2006', '2007', '2007', '2007', '2007', '2006', '2007', '1971', '2006', '2007', '2007', '2008', '1979', '2007', '2006', '2007', '2007', '2007', '2007', '2007', '2007', '2007', '2007', '2008', '2006', '2007', '1955', '2007', '2007', '2007', '2007', '2007', '2007', '2007', '2006', '2006', '2007', '2007', '2007', '2007', '1951', '2007', '2007', '2007', '2007', '2007', '2007', '2007', '2007', '2007', '2007', '2007', '2007', '1992', '2007', '2007', '2007', '2007', '2007', '2007', '1969', '2005', '2007', '2007', '2007', '1944', '2007', '2007', '2007', '2007', '2006', '2007', '2006', '2007', '2007', '2007', '2007', '1973', '2007', '2007', '2006', '2007', '1991', '2007', '2007', '2007', '2007', '2008', '2007', '2007', '2007', '2007', '2007', '2006', '2007', '2007', '2008', '2008', '2007', '2007', '2006', '2007', '2006', '2008', '2008', '2008', '2008', '2008', '2008', '2008', '2008', '1976', '2007', '2008', '2008', '1993', '1983', '1973', '2007', '2007', '2006', '1936', '1990', '2007', '2008', '2008', '2007', '2006', '1978', '2008', '2008', '2007', '2008', '2008', '2008', '2008', '2008', '2008', '2008', '2007', '2007', '2005', '2007', '2005', '2008', '2008', '2008', '2008', '2008', '2007', '2007', '2007', '2008', '2007', '2007', '2006', '2007', '2007', '2008', '2007', '2008', '1993', '2008', '2008', '2007', '2008', '2005', '2008', '2008', '2008', '2007', '2006', '2007', '2008', '2008', '2008', '2008', '2007', '1986', '2008', '2007', '2008', '2008', '2008', '2007', '2008', '2008', '2007', '2008', '2007', '2008', '2007', '2007', '2008', '2007', '2006', '2007', '2008', '2008', '2007', '2007', '2007', '1942', '1952', '2006', '2008', '2008', '2006', '2006', '2008', '2008', '2008', '2008', '2007', '2008', '2008', '2008', '2008', '2006', '2007', '2007', '2008', '2007', '2008', '2007', '2008', '2007', '2008', '2007', '2008', '2008', '2008', '2008', '2007', '2008', '2008', '2006', '2008', '2008', '2007', '1976', '1957', '2008', '2008', '2008', '2007', '2007', '1974', '1977', '1985', '1959', '2008', '2007', '1996', '2007', '2008', '2008', '2008', '2008', '2008', '2008', '1952', '2008', '2008', '2007', '2007', '2008', '2006', '2008', '2008', '2008', '2005', '1964', '2008', '2007', '1986', '2008', '1969', '2008', '2008', '2007', '2007', '2008', '1966', '2007', '2008', '2008', '2007', '2007', '2007', '2005', '2007', '2007', '2005', '2006', '2007', '2008', '2008', '2007', '2008', '2009', '1999', '2008', '2007', '2007', '2008', '2008', '2008', '2008', '2008', '2008', '2006', '2006', '2007', '2008', '2007', '2008', '2008', '2008', '2008', '2008', '2008', '2008', '2008', '2004', '2007', '2008', '2008', '2007', '2008', '2008', '2008', '2008', '2007', '2008', '2008', '2008', '2008', '2008', '2008', '2008', '2008', '2008', '2008', '2008', '2008', '2008', '2008', '2007', '2007', '2005', '2008', '2008', '2008', '2008', '2008', '2008', '1989', '2008', '1960', '2007', '2008', '2008', '2008', '2007', '2006', '2008', '2008', '2008', '2005', '2007', '2005', '2008', '2008', '2000', '2008', '2008', '1956', '2008', '2008', '2008', '2008', '2008', '2008', '2008', '2008', '2008', '2008', '2008', '2008', '2008', '2007', '1968', '2008', '2008', '2008', '2008', '2008', '1975', '2008', '2008', '2008', '2008', '2008', '1975', '2008', '2008', '2006', '2008', '2007', '2008', '2008', '2008', '2007', '2008', '2008', '2008', '2008', '2009', '2008', '2008', '2008', '2008', '2010', '2007', '2008', '2007', '1965', '2008', '2008', '2004', '2008', '2008', '1992', '2008', '2008', '2008', '2008', '1950', '2008', '2008', '2008', '2008', '2008', '2008', '2008', '2008', '2008', '2008', '2008', '2008', '2008', '2002', '2008', '2008', '2008', '2008', '2007', '2008', '2008', '2008', '2009', '2008', '2008', '2008', '2008', '2008', '2008', '2008', '2007', '2008', '2008', '2008', '1942', '2008', '2008', '2008', '2008', '2007', '2008', '2007', '2008', '2008', '2008', '2008', '2008', '2008', '2008', '2008', '2008', '2008', '2006', '2008', '2007', '2006', '2008', '2008', '2008', '2008', '2001', '2008', '2008', '2009', '2008', '2009', '2007', '2007', '2008', '2007', '2009', '2008', '2008', '1992', '2008', '2009', '2009', '2009', '2008', '2008', '2009', '2008', '1993', '2008', '2007', '2009', '2008', '2009', '2008', '1986', '2008', '2009', '2009', '2008', '2009', '2009', '2009', '2009', '2007', '2008', '2009', '1984', '2008', '2007', '2009', '2009', '2008', '2009', '1956', '2009', '2009', '2008', '2007', '2009', '2004', '2009', '2007', '2009', '2009', '2008', '2008', '2009', '2008', '2009', '2009', '2008', '2007', '2006', '2006', '1991', '2008', '2008', '2008', '2009', '1962', '2008', '2009', '2009', '2009', '2008', '2009', '2008', '2008', '2005', '2009', '2007', '2009', '2007', '2008', '2007', '2008', '2008', '2009', '2009', '2006', '2007', '2009', '2009', '2008', '2000', '2008', '2009', '2006', '2005', '2009', '2008', '1954', '2009', '2009', '1984', '2009', '2009', '2009', '2009', '2009', '2009', '2009', '2008', '2009', '2009', '2009', '2008', '2008', '2008', '2009', '2005', '2009', '2007', '2008', '2009', '2009', '2009', '2009', '2009', '1992', '2007', '2008', '2008', '2007', '2009', '2009', '2009', '2009', '2008', '1946', '2006', '1972', '2007', '2009', '2009', '2009', '2009', '2005', '2008', '2009', '2008', '1968', '2009', '2009', '2009', '2009', '2009', '2009', '2008', '2009', '2006', '2005', '1976', '2009', '2007', '2009', '2009', '2009', '2009', '2008', '1991', '2008', '2009', '1973', '2009', '1992', '2009', '2008', '2009', '2009', '2009', '2008', '2009', '2009', '2009', '2009', '2009', '1951', '1984', '2009', '2009', '1927', '2009', '2008', '2008', '1994', '2008', '2009', '2007', '1998', '2006', '2008', '1981', '2009', '2009', '2007', '2008', '2009', '2009', '2008', '2009', '2009', '2008', '2009', '2009', '2009', '2009', '2009', '2009', '2009', '2009', '2005', '2009', '2009', '2009', '2009', '2009', '1999', '2008', '2008', '2007', '2008', '2008', '2008', '2009', '2009', '2009', '2009', '2008', '2009', '2009', '2008', '2009', '2009', '2008', '2009', '1992', '2009', '2008', '2004', '2008', '2009', '2008', '2009', '2007', '2009', '2008', '2009', '2007', '2009', '1990', '2008', '2009', '2009', '2009', '2009', '2009', '1966', '2009', '2009', '2009', '2009', '2009', '2009', '2009', '2007', '2009', '2009', '2009', '2009', '2008', '2009', '2009', '2009', '2009', '2008', '1958', '2009', '2007', '2009', '2009', '2009', '1998', '2005', '2005', '2007', '1960', '2009', '2008', '2009', '2009', '2009', '2009', '2009', '2009', '2009', '2008', '2009', '2009', '2007', '2009', '2009', '2009', '2009', '2009', '2009', '2008', '2009', '2009', '2008', '2009', '2009', '1975', '2009', '2009', '2007', '2008', '2008', '1941', '1951', '2009', '1988', '1998', '2009', '2008', '2009', '2009', '2009', '2009', '2009', '2009', '2009', '2009', '2009', '2009', '2009', '2009', '2009', '2009', '2008', '2009', '2009', '2009', '2009', '2009', '2005', '2009', '2009', '2009', '2009', '2009', '2009', '2009', '2009', '2009', '2009', '2009', '2009', '2009', '2009', '2009', '2009', '2009', '2002', '2009', '2008', '2009', '2004', '2006', '2009', '2007', '1998', '2001', '2009', '2009', '2009', '2007', '2008', '2009', '2001', '2009', '1999', '2009', '2009', '2009', '2009', '2005', '2009', '2008', '2009', '2009', '2009', '2009', '2009', '1961', '2009', '1986', '1986', '2009', '1995', '2002', '2009', '2009', '2009', '2009', '2009', '2009', '2009', '2009', '2009', '2009', '2009', '2009', '2009', '1970', '1964', '2009', '2007', '1973', '2009', '2007', '2009', '2009', '2009', '2009', '2010', '2010', '2009', '1976', '2009', '2009', '2006', '2009', '2009', '2009', '2009', '2004', '2008', '1987', '2009', '2009', '2008', '2008', '2006', '2009', '2008', '2009', '2009', '2008', '2008', '2009', '1964', '2009', '2009', '2009', '2006', '2009', '2010', '1941', '2009', '2008', '2010', '2008', '2009', '2007', '2010', '2010', '2009', '2009', '1987', '2010', '2008', '2009', '2009', '2009', '2000', '2010', '2010', '2009', '2010', '2008', '2009', '2008', '2009', '2007', '2009', '2010', '2010', '2009', '2010', '2009', '2010', '2009', '2005', '2009', '2009', '2009', '2009', '2009', '2010', '2010', '2010', '1971', '2007', '2005', '2007', '2009', '2009', '2003', '2010', '2010', '2010', '2009', '2010', '2009', '2009', '2010', '2009', '2010', '2009', '2008', '2010', '2002', '1972', '2008', '2008', '2008', '2007', '2010', '2010', '2010', '2008', '2010', '2010', '2009', '2009', '2004', '2009', '1954', '2008', '2010', '2009', '2009', '2009', '2010', '2009', '2009', '2010', '1992', '2009', '2008', '2009', '2007', '2009', '2009', '2009', '2010', '2009', '2009', '2010', '2009', '1959', '2010', '2005', '2010', '2008', '1958', '2007', '2010', '2010', '2010', '2000', '2010', '2009', '2010', '2009', '2008', '2008', '2009', '2009', '2009', '1975', '2001', '2010', '2010', '1983', '2010', '2009', '2010', '2009', '2010', '2009', '2010', '2010', '2010', '2004', '2008', '1991', '2009', '2008', '2009', '2009', '2009', '2010', '2010', '1977', '2008', '2010', '2010', '2009', '2009', '1997', '2010', '2009', '2008', '2006', '1970', '2009', '2010', '2010', '2010', '1971', '2010', '2010', '1955', '2010', '2010', '2009', '2009', '2010', '2010', '2010', '2010', '2010', '2009', '2010', '2008', '2010', '2009', '2010', '2009', '2009', '1951', '2010', '2010', '2010', '2010', '2009', '1968', '2010', '2009', '2010', '2009', '2008', '2010', '2009', '2009', '2009', '2010', '1997', '2007', '1977', '2004', '2008', '2010', '2010', '2010', '2010', '2010', '2007', '2010', '2009', '1994', '1956', '1984', '2010', '2009', '2006', '2008', '2010', '2010', '2010', '2010', '1957', '2009', '2010', '2010', '1976', '2008', '1954', '2009', '2010', '2010', '2009', '2010', '2010', '1946', '2009', '2009', '2010', '2010', '2010', '1996', '2010', '2009', '2009', '2009', '1946', '2010', '2007', '2009', '2010', '2010', '2010', '2009', '2008', '2008', '2009', '2009', '2010', '2010', '2004', '1989', '2010', '2010', '2007', '2009', '2010', '2010', '1953', '2010', '2010', '2010', '2009', '2010', '2010', '1941', '2001', '2010', '2010', '2010', '2009', '2010', '2010', '2010', '2010', '2008', '2010', '2010', '2010', '2010', '2010', '2010', '2009', '2009', '2009', '2007', '2010', '2010', '2010', '2010', '2008', '2010', '2008', '2010', '2010', '2010', '2010', '2010', '2010', '2009', '2006', '2010', '2010', '2010', '2010', '2010', '2010', '2009', '1970', '2010', '2009', '2010', '2010', '2010', '2010', '2009', '2010', '2009', '2010', '2010', '2010', '2007', '2009', '2007', '2010', '2010', '1968', '2010', '2010', '2010', '2010', '2009', '2009', '2010', '2010', '2008', '2010', '2010', '2010', '2010', '2010', '2010', '2010', '2010', '2010', '1982', '1970', '1949', '1960', '2009', '2010', '2010', '2010', '2010', '2010', '2010', '2010', '2010', '2010', '2010', '2010', '2010', '2010', '2010', '1963', '2010', '2010', '2010', '2010', '2010', '2010', '2009', '1977', '2010', '2009', '2008', '2009', '1961', '2010', '2010', '2009', '2004', '2009', '2011', '2010', '2010', '2010', '2010', '2010', '2010', '2007', '1957', '1974', '2010', '2010', '2010', '2010', '2010', '2010', '2010', '2010', '2010', '2009', '2008', '2005', '2010', '2009', '1971', '1992', '2010', '2010', '1963', '2010', '2010', '1920', '2010', '2010', '2010', '2010', '2010', '2010', '2010', '2010', '2010', '2007', '1966', '2010', '2010', '1996', '2010', '2008', '2011', '2010', '2010', '2008', '2009', '2010', '2010', '2011', '2010', '2009', '2011', '2008', '2009', '2010', '2011', '2006', '2010', '2004', '2010', '1951', '2011', '2008', '2009', '2010', '2010', '2010', '1963', '2002', '2009', '2011', '2009', '2011', '2011', '2010', '2011', '2011', '2009', '2010', '2011', '2011', '2011', '2010', '2011', '2010', '2009', '2009', '2010', '2011', '2008', '2009', '2009', '2011', '2011', '2011', '2010', '2011', '2010', '2011', '2011', '2011', '2011', '2010', '2011', '1971', '2009', '1997', '2010', '2011', '2011', '2009', '2010', '2009', '2008', '2007', '2010', '2005', '2008', '2011', '2010', '2010', '2011', '2011', '2010', '2010', '2011', '2011', '2011', '2011', '2009', '2010', '2008', '2010', '2010', '2006', '2010', '2010', '2011', '2008', '2011', '2010', '2008', '2010', '2011', '2010', '1992', '2011', '2010', '2011', '2010', '2010', '2011', '2011', '2011', '2011', '2008', '2011', '2010', '2011', '2010', '2011', '2011', '2009', '2011', '2004', '2011', '2008', '2010', '2011', '2010', '2011', '2008', '2001', '2010', '2011', '2011', '2011', '2011', '2007', '2011', '2010', '2011', '2011', '2011', '2010', '2011', '2011', '2010', '2009', '2009', '1968', '2011', '2011', '2010', '2010', '2009', '1999', '2011', '2010', '2010', '2011', '2011', '2011', '2010', '2010', '2010', '2010', '2010', '2011', '2010', '1964', '2010', '1996', '2011', '2010', '2004', '2009', '2011', '2011', '2011', '2011', '2011', '2007', '2011', '2011', '2010', '2010', '2011', '2011', '2011', '2009', '2010', '2011', '2011', '2006', '2010', '2011', '2011', '2011', '2011', '2011', '2008', '2009', '2011', '2011', '2011', '2011', '2011', '2002', '2011', '2011', '2011', '2010', '2010', '2011', '2010', '2010', '2010', '2011', '2011', '2011', '2010', '2011', '1943', '2011', '2001', '2011', '2011', '2011', '2011', '2005', '2011', '2010', '2011', '2010', '2011', '2010', '2011', '2010', '2011', '2011', '2010', '2006', '2010', '2011', '2010', '2011', '2011', '2009', '2009', '2011', '2011', '2011', '2009', '2010', '2007', '2011', '1994', '2006', '2006', '2011', '2011', '2010', '2011', '2011', '2008', '2011', '2010', '2011', '2010', '2011', '2011', '2010', '2011', '2011', '2011', '2011', '2011', '2011', '2010', '2011', '2011', '2010', '2010', '2011', '2010', '2011', '2007', '2010', '2012', '2011', '2011', '2011', '2011', '2011', '2011', '2011', '2011', '2011', '2010', '2011', '2011', '2011', '2007', '2010', '1988', '2011', '2010', '2011', '2011', '2011', '2011', '2010', '1950', '2011', '2011', '2011', '2011', '2011', '2011', '2006', '2011', '2011', '2010', '1960', '2011', '2011', '2011', '2011', '2011', '2011', '2011', '2011', '2011', '2011', '2011', '2011', '2006', '2011', '2011', '2011', '2011', '2011', '2011', '2011', '2011', '1991', '2011', '2011', '2011', '2011', '2011', '2011', '2011', '2011', '2011', '2011', '2011', '2011', '2011', '2011', '2011', '2011', '2011', '2011', '2011', '1974', '2011', '2011', '2011', '2011', '2011', '2011', '2011', '2008', '2011', '2006', '2010', '2008', '2010', '2011', '2010', '1982', '2011', '2011', '2009', '1989', '1994', '2006', '2011', '2011', '2011', '2009', '2011', '2011', '2011', '2013', '2012', '1982', '2012', '2010', '2012', '2012', '2006', '2011', '2011', '2011', '2011', '2011', '2011', '2011', '2011', '2011', '2011', '2011', '2011', '2011', '2010', '2011', '2011', '2011', '1948', '2009', '2009', '2011', '2011', '2010', '2012', '2011', '2012', '2007', '2011', '2012', '2011', '2011', '2011', '2011', '2012', '2009', '2011', '2011', '2011', '2012', '2012', '2012', '2011', '2011', '2010', '2011', '2008', '2010', '2011', '1980', '2011', '2011', '2011', '2010', '2012', '2011', '2011', '2011', '2011', '2012', '2011', '2011', '2012', '2011', '2010', '2012', '2012', '2011', '2010', '2011', '2011', '2011', '2001', '2012', '2012', '2011', '2011', '2011', '2012', '2012', '2011', '2010', '2009', '2011', '2009', '2011', '2011', '2010', '2008', '2011', '2010', '2011', '2011', '2009', '2005', '2011', '1990', '2010', '2010', '2011', '2011', '2011', '2010', '2010', '2011', '2012', '2011', '2012', '2012', '2011', '2012', '2012', '1988', '2012', '2011', '2011', '2011', '2012', '2011', '1966', '2011', '2010', '2010', '2012', '2011', '2012', '2011', '2012', '2010', '2011', '2011', '2011', '2010', '2012', '2011', '2011', '2012', '2011', '2012', '2012', '2012', '2011', '2011', '2012', '2011', '2012', '2011', '2012', '2011', '2011', '2010', '2011', '2011', '2011', '2012', '2012', '2012', '2012', '2010', '2011', '2011', '2011', '2010', '2010', '2011', '2011', '2011', '2010', '2012', '2009', '2009', '2011', '2012', '2012', '2012', '2009', '2011', '2012', '2008', '2011', '2012', '2011', '2011', '2011', '2010', '2011', '2010', '2012', '2011', '2008', '2009', '2012', '2012', '2011', '2009', '2011', '2012', '2011', '2012', '2012', '2011', '2012', '2012', '2010', '2012', '2010', '2011', '2012', '2012', '2011', '2011', '2012', '2012', '2012', '2009', '2011', '2007', '2011', '2012', '2012', '2012', '2012', '2012', '2011', '2011', '2009', '1990', '2012', '1997', '1990', '1998', '2012', '2012', '2012', '2012', '2010', '2011', '2012', '2009', '2008', '2012', '2012', '2008', '2004', '2003', '2005', '2012', '2012', '1988', '2012', '1992', '1991', '2012', '2010', '1992', '1993', '2012', '2012', '1993', '2009', '2012', '2012', '2012', '2012', '2002', '1980', '1987', '1997', '2012', '2011', '2010', '2012', '2012', '2011', '1994', '2009', '1994', '1995', '2008', '2011', '2012', '2011', '1989', '2000', '2012', '2012', '2011', '1994', '2012', '2009', '2011', '1995', '1990', '2006', '1993', '2011', '1993', '1997', '2011', '2012', '2007', '2011', '2012', '2003', '2012', '2012', '2012', '2008', '2012', '2005', '2008', '2011', '1973', '2012', '2011', '2012', '2012', '2011', '2011', '2012', '2012', '2012', '2012', '2011', '2002', '1969', '2012', '2012', '2012', '2012', '2012', '2012', '2012', '2012', '2012', '2010', '2012', '2006', '2012', '2012', '2012', '2012', '2012', '2012', '2011', '2012', '2012', '2012', '2009', '2011', '2012', '2011', '2012', '2012', '2012', '2012', '2012', '2012', '2011', '2012', '2007', '2009', '2012', '2012', '2012', '2012', '2012', '2012', '2011', '2012', '2012', '2012', '2008', '2012', '2012', '2012', '1978', '2011', '2011', '2012', '2012', '2012', '2012', '2012', '2012', '2008', '2012', '2012', '2012', '2012', '2012', '2009', '2012', '2010', '2010', '2012', '2012', '2011', '1990', '2012', '2012', '2012', '2011', '2012', '2012', '2012', '2012', '2011', '2011', '2011', '2010', '2010', '2012', '2012', '2012', '2009', '2012', '2012', '2012', '2012', '2008', '2012', '2012', '2012', '2012', '2012', '2012', '2012', '2012', '2012', '2012', '2012', '2012', '2012', '1963', '2012', '2012', '2007', '2012', '2012', '2012', '2012', '2012', '2011', '2012', '2012', '2012', '2012', '1971', '2012', '2012', '2012', '2012', '2012', '2012', '2007', '2011', '2009', '2012', '2012', '2011', '2011', '2011', '2009', '2012', '2012', '2012', '2012', '2012', '2012', '2012', '2011', '2012', '2011', '2012', '2012', '2011', '2012', '2012', '2011', '2012', '2012', '2012', '2012', '2008', '2012', '2012', '2012', '2011', '2012', '2011', '1976', '2012', '1979', '2005', '2012', '2009', '2011', '2013', '2012', '2012', '1973', '2011', '2009', '2012', '1985', '1985', '2011', '2009', '1986', '2011', '2012', '2012', '1992', '1993', '2012', '2012', '2012', '1998', '2012', '2012', '2012', '2012', '1896', '2004', '1995', '2009', '2012', '2012', '2013', '2012', '2012', '2012', '2012', '2012', '2012', '2012', '2012', '2012', '1984', '2012', '2012', '2012', '2012', '1997', '2012', '2012', '1941', '2012', '2012', '2014', '2007', '2010', '2010', '2011', '2012', '2012', '2012', '2011', '2012', '2012', '2000', '2012', '2012', '1970', '2012', '2012', '2011', '2012', '2012', '2013', '2013', '2012', '2012', '2011', '2012', '2012', '2010', '2012', '2013', '2010', '2013', '2012', '2012', '2005', '2006', '2010', '2012', '2013', '2013', '2013', '2013', '2012', '2012', '2012', '2013', '2011', '2012', '2011', '2012', '2013', '2013', '2013', '2012', '2013', '2012', '1964', '2012', '2012', '2013', '2012', '2012', '2012', '1983', '2012', '2013', '2004', '2012', '2012', '2013', '2008', '2013', '2012', '2013', '2013', '2012', '2010', '2012', '2012', '2012', '2009', '2010', '2012', '2012', '2013', '2013', '2013', '2013', '2011', '2011', '2012', '2012', '2012', '2013', '2011', '2013', '2011', '2012', '2013', '2013', '2013', '2012', '2013', '2013', '2013', '2010', '2012', '2013', '2011', '2013', '2013', '2013', '2013', '2013', '2013', '1973', '2008', '2011', '1989', '2012', '2012', '2011', '2012', '2010', '2011', '2012', '2013', '2013', '2013', '2013', '1975', '2013', '2013', '2013', '2012', '2013', '2009', '2008', '2012', '2013', '2012', '2012', '2013', '2009', '2013', '2011', '2013', '2006', '2006', '2011', '2013', '2003', '2013', '2013', '2013', '2012', '2012', '2012', '2011', '2013', '2013', '2012', '2013', '2013', '2012', '2012', '2012', '2013', '2012', '2007', '2013', '2012', '2013', '2009', '2010', '2012', '2012', '2012', '2012', '2013', '2006', '2013', '2013', '2008', '2008', '2013', '2013', '2013', '2011', '2008', '1997', '2013', '2011', '2012', '2012', '2013', '2013', '2012', '1997', '2008', '2012', '2012', '2013', '2011', '2013', '2013', '2012', '2004', '2009', '2009', '1956', '2012', '2012', '2013', '2013', '1973', '2013', '2013', '2013', '1979', '2013', '2012', '2013', '2012', '2013', '2012', '2013', '2013', '2013', '2013', '2013', '2013', '2012', '2011', '2011', '2013', '2012', '2012', '2013', '2012', '2012', '2012', '2012', '2012', '2012', '2013', '2013', '2013', '2012', '2012', '2013', '2013', '2013', '2013', '2012', '2013', '2013', '2013', '2013', '2012', '2012', '2012', '2013', '2013', '2013', '2013', '2013', '2013', '1999', '2012', '2013', '2013', '2012', '2013', '2013', '2013', '2013', '2013', '2013', '2013', '2013', '2012', '1999', '2012', '2012', '2012', '2005', '2013', '2005', '2010', '2013', '2010', '2008', '1982', '2013', '2012', '2013', '2011', '2012', '2012', '2013', '2013', '2012', '1992', '1990', '2013', '2013', '2012', '2013', '2010', '2013', '2011', '2013', '2013', '2013', '2013', '2011', '2011', '2013', '2011', '2013', '2013', '2013', '2007', '2013', '2013', '2013', '2013', '2012', '2013', '1990', '2013', '2013', '2012', '2013', '2013', '2013', '2013', '2013', '2013', '2013', '1982', '2012', '2013', '2013', '1998', '2013', '2013', '2013', '1990', '2013', '2013', '2013', '2003', '2011', '2013', '2012', '2013', '2012', '2013', '2013', '2013', '2013', '2013', '2013', '2013', '2013', '2013', '2013', '2013', '2013', '2013', '2013', '2013', '2013', '2008', '2012', '2010', '2011', '2013', '2011', '2013', '2012', '2012', '2009', '2013', '2008', '2013', '2010', '2012', '2013', '2012', '2013', '2013', '2013', '2013', '2007', '2011', '2013', '2013', '2013', '2013', '2013', '2012', '2013', '2013', '2013', '2013', '2013', '2012', '1993', '2013', '2012', '2013', '2012', '2009', '2013', '2009', '2012', '2013', '2013', '1956', '2013', '2013', '2013', '2012', '2013', '2013', '1983', '2013', '2009', '2013', '2013', '2013', '2013', '2013', '1984', '2013', '1972', '2013', '2012', '2011', '2013', '1978', '2013', '2012', '1998', '2010', '2013', '2013', '2013', '2013', '2012', '2013', '2012', '2010', '2013', '2013', '2013', '2013', '2013', '2013', '2013', '2014', '2013', '2013', '2013', '2013', '2013', '2008', '2013', '2012', '1999', '2013', '2013', '2013', '2013', '2012', '2013', '2008', '2013', '2012', '2012', '2010', '2011', '2013', '2008', '2013', '2012', '2013', '2012', '2013', '2012', '2012', '2013', '2010', '2007', '2013', '2011', '2012', '2013', '2013', '2013', '2013', '2009', '2012', '2013', '2013', '2013', '2010', '2013', '2013', '2013', '2013', '2013', '2013', '1972', '2012', '2008', '2011', '2000', '2013', '2013', '2013', '2013', '2013', '2013', '1985', '2013', '2013', '2013', '2012', '2012', '2013', '2013', '2013', '2009', '2013', '2013', '2013', '2009', '2013', '2013', '2013', '2013', '2008', '2013', '2012', '2011', '2013', '2013', '2013', '2013', '2014', '2013', '2010', '1969', '2008', '2001', '2013', '1965', '2013', '2013', '2013', '2013', '2010', '2013', '1967', '1986', '2013', '2013', '2013', '2007', '2011', '1980', '2012', '2011', '2011', '2013', '2013', '2010', '2013', '1981', '1987', '2013', '1979', '2012', '2013', '2013', '2013', '2004', '2007', '2013', '2013', '2013', '2013', '2014', '2013', '1994', '2013', '2007', '2013', '2014', '2013', '2013', '2013', '2014', '2013', '2013', '2013', '2013', '1991', '2013', '2013', '2013', '2012', '2014', '2014', '2014', '2007', '2014', '2014', '2013', '2012', '2014', '2014', '2012', '2010', '2013', '2011', '2013', '2010', '2004', '2014', '2013', '2014', '2011', '2013', '2012', '2013', '2013', '2013', '2013', '2014', '2008', '2014', '2013', '2013', '2013', '2013', '2014', '2011', '2009', '2014', '2006', '2013', '2011', '2013', '2013', '2009', '2014', '2014', '2014', '2013', '2013', '2011', '2002', '2013', '2013', '1974', '2014', '2012', '2011', '2012', '2014', '2014', '2013', '2013', '2014', '2014', '2014', '2014', '2012', '2014', '2006', '2012', '2013', '2003', '2014', '2006', '1980', '2014', '2014', '2014', '2013', '2014', '2014', '2006', '2007', '2009', '2014', '2012', '2013', '2013', '2014', '2014', '2013', '2012', '2003', '2014', '2013', '2014', '2013', '2013', '2013', '2013', '2014', '2013', '2013', '2014', '2010', '1986', '2014', '2013', '2013', '2013', '2012', '2008', '2014', '2011', '2014', '2014', '2014', '2014', '2014', '2008', '2013', '2014', '2011', '2011', '2013', '2013', '2013', '2014', '2009', '2013', '2013', '1971', '2014', '2009', '2014', '2013', '2014', '2014', '2014', '2013', '2013', '2011', '2010', '2004', '2007', '2014', '1999', '2014', '2014', '2014', '2013', '2012', '2012', '2013', '2013', '2013', '2014', '2005', '2014', '2012', '2012', '2013', '2014', '2012', '2013', '2010', '2014', '2014', '2012', '2013', '2014', '2013', '2014', '2014', '2014', '2013', '2014', '2014', '2014', '2013', '2014', '2014', '2014', '2013', '2014', '2013', '2011', '2014', '2014', '2014', '2004', '2013', '2014', '2014', '2013', '2012', '2013', '2014', '2014', '2014', '2010', '2013', '2009', '2014', '2013', '2013', '2013', '2013', '2013', '2013', '2008', '2014', '1984', '2011', '2011', '2013', '2013', '2009', '2009', '2014', '2014', '2014', '2014', '2012', '2014', '2014', '2014', '2014', '2013', '2014', '2013', '2014', '2012', '2014', '2014', '2014', '2014', '2014', '2013', '2013', '2014', '2014', '2014', '2013', '1979', '2014', '2013', '2013', '2014', '2014', '2014', '2015', '2011', '2014', '2013', '2014', '2013', '2001', '2014', '2013', '2014', '2013', '2014', '2013', '2014', '2014', '2013', '2013', '2013', '2013', '2012', '2012', '2012', '2014', '2008', '2013', '2013', '2012', '2013', '2014', '2014', '2014', '2014', '2014', '2012', '2011', '2014', '2014', '2014', '2013', '2012', '2014', '2011', '2014', '1967', '2014', '2014', '2014', '2014', '2014', '2013', '1977', '2014', '2014', '2007', '2014', '2010', '2014', '2014', '2014', '2014', '2014', '2014', '2014', '1975', '2011', '2013', '2014', '2013', '2014', '2014', '2014', '2014', '2014', '2011', '2014', '2013', '2014', '2004', '2014', '2013', '2014', '2013', '2010', '2014', '2014', '2014', '1977', '2013', '2014', '1979', '2013', '2014', '2014', '2014', '2011', '2014', '2014', '2014', '2014', '2014', '2010', '2014', '2013', '2014', '1978', '2014', '2014', '2014', '2014', '2014', '2013', '2013', '2003', '2015', '2014', '2013', '2014', '2014', '2014', '2014', '2014', '2013', '2013', '2014', '2012', '1968', '2011', '2014', '2009', '2014', '2013', '2013', '2014', '2014', '2014', '2014', '2014', '2013', '2014', '2014', '2013', '2013', '2014', '2014', '2013', '2014', '2014', '2014', '2013', '2014', '2014', '2014', '2009', '2014', '2014', '2014', '2014', '2012', '2013', '2014', '2014', '2014', '2012', '2014', '2014', '2014', '2011', '1964', '2013', '2014', '2014', '2014', '2014', '2014', '2014', '2014', '2014', '2014', '2014', '2014', '2013', '2014', '2014', '2014', '2009', '2014', '2014', '2014', '2013', '2014', '2013', '2014', '1985', '2014', '2014', '2014', '2014', '2014', '2013', '2014', '2014', '2013', '2014', '2014', '2014', '2014', '2014', '2005', '2014', '1984', '2014', '2014', '2013', '2013', '2010', '2014', '2014', '2014', '2013', '1986', '2013', '2014', '1997', '2014', '2014', '2014', '2014', '2014', '2014', '2014', '2014', '2014', '2014', '2014', '2014', '2014', '2014', '2014', '2014', '2012', '2014', '2014', '1998', '2014', '2014', '2014', '2014', '2014', '2014', '1971', '2014', '2006', '2011', '2014', '2014', '2014', '2010', '2014', '2014', '2014', '2013', '2014', '2014', '2013', '2015', '1978', '2014', '2013', '2014', '2014', '2014', '2011', '2012', '2011', '2005', '2009', '2011', '2009', '2013', '2014', '2007', '2011', '1996', '1997', '1998', '1998', '1999', '2013', '2005', '2013', '2014', '2013', '2008', '2014', '2015', '2014', '2012', '2009', '1999', '1998', '2013', '2014', '2014', '2013', '2014', '2010', '2013', '2007', '2010', '2013', '2013', '2012', '2009', '1995', '2007', '2009', '2006', '2000', '2014', '2014', '2014', '2013', '2014', '2013', '2014', '2014', '2013', '2013', '2013', '2013', '2014', '2013', '2014', '2013', '1971', '2014', '2012', '2014', '2012', '2007', '2008', '2013', '2014', '2014', '2014', '2014', '2006', '2010', '2014', '2014', '2010', '2014', '2009', '2014', '2014', '2014', '2014', '2013', '2013', '2013', '2014', '2014', '2014', '2013', '2014', '1990', '2013', '2012', '2014', '2013', '2014', '2013', '2014', '2008', '2014', '2008', '2013', '2008', '2008', '2013', '2013', '2014', '2014', '2014', '2013', '2014', '2014', '2014', '2008', '2014', '2014', '2008', '2014', '2013', '2008', '2008', '2008', '2014', '2005', '2014', '2010', '2002', '2014', '2014', '2014', '2014', '2014', '2014', '2014', '2013', '2015', '2011', '2014', '2013', '1994', '2014', '2015', '2014', '2008', '2014', '2014', '1967', '2008', '2014', '2000', '2005', '2012', '2013', '2014', '2014', '2014', '2014', '2014', '2014', '2014', '2014', '2014', '2015', '2014', '2011', '2014', '2014', '2014', '2013', '2014', '2005', '1983', '2014', '2014', '2014', '2013', '2014', '2013', '2013', '2013', '1996', '2012', '2014', '2013', '2013', '2005', '2014', '2013', '2011', '1999', '1996', '2014', '2014', '2014', '2014', '2014', '1987', '2014', '2014', '2014', '2015', '2013', '2014', '2010', '2014', '2014', '2014', '1996', '2013', '2014', '2014', '2014', '2014', '2014', '1999', '2014', '2014', '2015', '2014', '2013', '2013', '2009', '2014', '2012', '2014', '2013', '2014', '2007', '2013', '2011', '1959', '1960', '1973', '2010', '2014', '2013', '2013', '2011', '1971', '2012', '2001', '2014', '2014', '2014', '2012', '2014', '2014', '2014', '2012', '2013', '2014', '2009', '2007', '1985', '2013', '2014', '2004', '2015', '2012', '2012', '2014', '2014', '2013', '2014', '2015', '2014', '2015', '2014', '2011', '2012', '2013', '2012', '1997', '1981', '1995', '2006', '2008', '2012', '2014', '2009', '2014', '2014', '2003', '2011', '2009', '1983', '2000', '2013', '2007', '2012', '1977', '2014', '2013', '2012', '2013', '2007', '2013', '2012', '1984', '2011', '2014', '2014', '2003', '2013', '2013', '2006', '2009', '2002', '2014', '2013', '2007', '2013', '2007', '2008', '2014', '2015', '2014', '2001', '2012', '2014', '2008', '2009', '2012', '1980', '2009', '2013', '2013', '2010', '1963', '1975', '1962', '2013', '2014', '2008', '2011', '1985', '2014', '1979', '1999', '2007', '2013', '2014', '2013', '2005', '1998', '2013', '2008', '2002', '2011', '2003', '2008', '2007', '2010', '1998', '1964', '1999', '2012', '2014', '2011', '2006', '2000', '2013', '2009', '1983', '2002', '1958', '2001', '2003', '2005', '2010', '2014', '2012', '2014', '2008', '1955', '2004', '2006', '2010', '2011', '2012', '2013', '2012', '2014', '1964', '1985', '2010', '2007', '2014', '2012', '2015', '2015', '2015', '2016', '2016', '2015', '2020', '2017', '2015', '2015', '2016', '2017', '2016', '2016', '2016', '2014', '2013', '2014', '2009', '2001', '2013', '2012', '2005', '2002', '2013', '2013', '2012', '2013', '2012', '2010', '2013', '1994', '2014', '2010', '2012', '2009', '2014', '2009', '2014', '2013', '2014', '2014', '2015', '2013', '2015', '2014', '2014', '2014', '2014', '2013', '2011', '1983', '2014', '2015', '2015', '2014', '1998', '2001', '2004', '2010', '2006', '2005', '1971', '2014', '1984', '2014', '2014', '2010', '2015', '2012', '2012', '2015', '2012', '2014', '2015', '2014', '2012', '2014', '2000', '1970', '2013', '2006', '2013', '1964', '1965', '1967', '1965', '2011', '2014', '2015', '2015', '2015', '2015', '2015', '2015', '2015', '2016', '2015', '2015', '2015', '2015', '2015', '2015', '2015', '2015', '2015', '2015', '2015', '2014', '2014', '2014', '2014', '2015', '2016', '2015', '2015', '2015', '2015', '2015', '2015', '2015', '2015', '2015', '2015', '2015', '2015', '1988', '2014', '2014', '2014', '2011', '2015', '2014', '2014', '2014', '2015', '2007', '2015', '2010', '2015', '2014', '2014', '2014', '2012', '2009', '2012', '1988', '2013', '2000', '2003', '2008', '2011', '2013', '1987', '1985', '2013', '2015', '2012', '2014', '2011', '2015', '2015', '2015', '2011', '2014', '2014', '2015', '2015', '2015', '2015', '2015', '2014', '2014', '2012', '2014', '2010', '2013', '2014', '2015', '2015', '1983', '1997', '2003', '2015', '2009', '2009', '2013', '1997', '1977', '2014', '2015', '2012', '2014', '2014', '2015', '2013', '2015', '2015', '2015', '2015', '2012', '2015', '2012', '2006', '2015', '2015', '2015', '2015', '1998', '2000', '2015', '2014', '2013', '2014', '2015', '2015', '2010', '2014', '2015', '2013', '2015', '2014', '2014', '2014', '2015', '2014', '2012', '2015', '2015', '2014', '2015', '2014', '1966', '1976', '2008', '2012', '2010', '2012', '2013', '2013', '2015', '2015', '2015', '2015', '2015', '2014', '2015', '2014', '1997', '2012', '2012', '2013', '2014', '2015', '2014', '2016', '2015', '2014', '2014', '2014', '2014', '2015', '2015', '2012', '2015', '2015', '2015', '2014', '2015', '2014', '2014', '2014', '2015', '2005', '2014', '2015', '2015', '2014', '2009', '2011', '2007', '2006', '2004', '2013', '1969', '2000', '1995', '2006', '1991', '2014', '2015', '2014', '2015', '2014', '2010', '2006', '2001', '2014', '2014', '1978', '1996', '2012', '2015', '2014', '2014', '2015', '2012', '2014', '2014', '2014', '2014', '2014', '2014', '2010', '2014', '1985', '2015', '2014', '2011', '2015', '2010', '2015', '2015', '2015', '2014', '2014', '2014', '2004', '2014', '1986', '2010', '2013', '2011', '2015', '2014', '2014', '2014', '2015', '2015', '2014', '2014', '2015', '2012', '2013', '2015', '2015', '2010', '2014', '2014', '1985', '2008', '2014', '2014', '2013', '2009', '2014', '2014', '2015', '2014', '2015', '2014', '2014', '2006', '2015', '2014', '2013', '2015', '2013', '2014', '2015', '2014', '1981', '2015', '2015', '2014', '2003', '2015', '2014', '2015', '2014', '2011', '2014', '2014', '2012', '1997', '2014', '2000', '2010', '2015', '2015', '1992', '2015', '2015', '2014', '2014', '2013', '2013', '2015', '1977', '2015', '2013', '2012', '2012', '2014', '2014', '2013', '2014', '1972', '2004', '2005', '2003', '2015', '2005', '2011', '2011', '2006', '2012', '2008', '2010', '2007', '2009', '2013', '2008', '2013', '2009', '2007', '2006', '2002', '2005', '2013', '2008', '2014', '2015', '2010', '2014', '2013', '2014', '2015', '2014', '2015', '2015', '2011', '2015', '2012', '2014', '2015', '2014', '2015', '2015', '2015', '2015', '2014', '2012', '2014', '2015', '2015', '2015', '2015', '2015', '2014', '2015', '2015', '1966', '2014', '2014', '2015', '2012', '2014', '1975', '2015', '1971', '2014', '2015', '2015', '2007', '2015', '2014', '2015', '1998', '2015', '2015', '1980', '2015', '2008', '2013', '2015', '2015', '1984', '1983', '1982', '2014', '2015', '2014', '2013', '2011', '2015', '2014', '2013', '2014', '2005', '2011', '1969', '2015', '2011', '2015', '2012', '2015', '2014', '2005', '2014', '2015', '2015', '2015', '2015', '2008', '2014', '2013', '2013', '2014', '2015', '2015', '2015', '2016', '2016', '2014', '1978', '2014', '2007', '1999', '2000', '2006', '2015', '1954', '1975', '2016', '2012', '2005', '2012', '2014', '2015', '2015', '1973', '2015', '2014', '1987', '2016', '2015', '2015', '2016', '2014', '2016', '2016', '2000', '2009', '2008', '2013', '2015', '2016', '2010', '1997', '2000', '2013', '2008', '2006', '2011', '2014', '2015', '2014', '2002', '2015', '2015', '2013', '2014', '2006', '2008', '2008', '2009', '2008', '2008', '2009', '2015', '2015', '2015', '2008', '2008', '1981', '2011', '2015', '2007', '2012', '2013', '2013', '1998', '2003', '2015', '2015', '2015', '1998', '2007', '2001', '2005', '2009', '2003', '2005', '2006', '2008', '2004', '2011', '2012', '2006', '2007', '2008', '2014', '2007', '2011', '2007', '1933', '2007', '2003', '2006', '1983', '2011', '2015', '2015', '2013', '2015', '2012', '2014', '2007', '2005', '2014', '2014', '2014', '2015', '2014', '2015', '2015', '2014', '2014', '2015', '2015', '2015', '2014', '2014', '2004', '2006', '2015', '2015', '2014', '2015', '2015', '1977', '2014', '2016', '2014', '2014', '2014', '2014', '2015', '2002', '2011', '1998', '2011', '2014', '2010', '2012', '2012', '2015', '2015', '2014', '2011', '2002', '2013', '2012', '2013', '2007', '2015', '2014', '2014', '2015', '2014', '2014', '2012', '2009', '2013', '2016', '2015', '2015', '2006', '2015', '2012', '2015', '2014', '2015', '2015', '2016', '2016', '2014', '2015', '2012', '2011', '2012', '2011', '2010', '2011', '2012', '2010', '2013', '2012', '2013', '2013', '2014', '2013', '2014', '2013', '2014', '2004', '2008', '2009', '2009', '2011', '2009', '2015', '2014', '2014', '2012', '2010', '2014', '1985', '2015', '2012', '2011', '2012', '2015', '2006', '2014', '2015', '2007', '2015', '1989', '1997', '2015', '2015', '2015', '2008', '1996', '2015', '2015', '2015', '2012', '2007', '2015', '2012', '2011', '2015', '2014', '2015', '2015', '2015', '2014', '2015', '2015', '2014', '2013', '2014', '2015', '2015', '2015', '2002', '2011', '2014', '2015', '2016', '2013', '2014', '2014', '2014', '2015', '1993', '1988', '1986', '1983', '1981', '1981', '2015', '2014', '2015', '2015', '2015', '2015', '2015', '2015', '2011', '2015', '2005', '2010', '2015', '2012', '2015', '2016', '2003', '2010', '2013', '2015', '2016', '2015', '2012', '2013', '2015', '2015', '2004', '1993', '2009', '2007', '2015', '2015', '2015', '2012', '2008', '2015', '2012', '2012', '1981', '2014', '2015', '2013', '2015', '2015', '2015', '2012', '2015', '2006', '2010', '2015', '2014', '2014', '2015', '2015', '2015', '2014', '2015', '2015', '2014', '2014', '2015', '2009', '2015', '2015', '2015', '2009', '2006', '2017', '2010', '2010', '2006', '1971', '2015', '2015', '2015', '2015', '2015', '2013', '2010', '2015', '2015', '2011', '2002', '2013', '2015', '2015', '2015', '2015', '2009', '2013', '2015', '2010', '2015', '2015', '2000', '2015', '2016', '2017', '2014', '2015', '2015', '2015', '2006', '2015', '2015', '2014', '1971', '2015', '2012', '2015', '2016', '2015', '2015', '2010', '2015', '2015', '2014', '2015', '1967', '2015', '2007', '2013', '2012', '2001', '2015', '2015', '2015', '2015', '2006', '2016', '2014', '2001', '2010', '2013', '2006', '2011', '2015', '2015', '2016', '2015', '2014', '2015', '2015', '2012', '2015', '2015', '2015', '2016', '2014', '2015', '2015', '2013', '2015', '2004', '2015', '2015', '2015', '2016', '2015', '2015', '2013', '2009', '2014', '2015', '2015', '2015', '2014', '2015', '2006', '2014', '2015', '2015', '2015', '1993', '2013', '2015', '2015', '2015', '2015', '1957', '1955', '1978', '2015', '2015', '2015', '2015', '2014', '2004', '2007', '2001', '2008', '2015', '2015', '2015', '2015', '2015', '2015', '2015', '2015', '2015', '2015', '2015', '2014', '2017', '2017', '2016', '2015', '2015', '2015', '2015', '2015', '2015', '2015', '2015', '2005', '2015', '2015', '2015', '2015', '2015', '2012', '2013', '2014', '2013', '2015', '2015', '2016', '2004', '2008', '2010', '2010', '2015', '2014', '2014', '2015', '2015', '2003', '2015', '2015', '2015', '2015', '2015', '2015', '2015', '2015', '2015', '2015', '2015', '2014', '2014', '2014', '2010', '2010', '2013', '2012', '2009', '2011', '2014', '2010', '2004', '2013', '2005', '2013', '2014', '2013', '2002', '2004', '2005', '2015', '2008', '2008', '2009', '2013', '2012', '2002', '2015', '2015', '2015', '2015', '2013', '1916', '2015', '2009', '2011', '2015', '2015', '2015', '2015', '2015', '2015', '2015', '2015', '2015', '2015', '2015', '2013', '2015', '2016', '2014', '2015', '2015', '2015', '2002', '2015', '2007', '2004', '2014', '2010', '2015', '2014', '2015', '2013', '2000', '2003', '2009', '2015', '2007', '2010', '2012', '2011', '2011', '2012', '2014', '2015', '2015', '2014', '2015', '1999', '2015', '2016', '2015', '2015', '2014', '2015', '2015', '2014', '2015', '2015', '2011', '1965', '1970', '1964', '1979', '2015', '2015', '2013', '2015', '2015', '1966', '2015', '2013', '2014', '2015', '2014', '1978', '1980', '2004', '2004', '2015', '2006', '2013', '2009', '2014', '2009', '2008', '2015', '2013', '2015', '2013', '2015', '2015', '1998', '2015', '2014', '2015', '2013', '2015', '2015', '2015', '1974', '2015', '2016', '2015', '2016', '2015', '2015', '2001', '2015', '2015', '2015', '2015', '2000', '2015', '2015', '2012', '2012', '2011', '2015', '1991', '2008', '2015', '2003', '2015', '2012', '2015', '2015', '2015', '2008', '2009', '2015', '2011', '2015', '2015', '2015', '2016', '2011', '2015', '2015', '2016', '2012', '2015', '2015', '2014', '2016', '2016', '2013', '2015', '2015', '2015', '2015', '2015', '2016', '2014', '2011', '1991', '2016', '2016', '2015', '2015', '1961', '2015', '2015', '2015', '2015', '2012', '2014', '2015', '2014', '2016', '2013', '2016', '2012', '2014', '2015', '2017', '2016', '2011', '2015', '2015', '2015', '2015', '2015', '2016', '2008', '2016', '2014', '2012', '2015', '2016', '1997', '2012', '2015', '2015', '2015', '2011', '2016', '2009', '2011', '2004', '2015', '2015', '2015', '1975', '2015', '2016', '2016', '2016', '2016', '2004', '2016', '2016', '2016', '2016', '2015', '2015', '2015', '2015', '2015', '2016', '2015', '2016', '2016', '2015', '2016', '2016', '2016', '2015', '2015', '2016', '2016', '1998', '2015', '2015', '2016', '2007', '2010', '2016', '2015', '2016', '2016', '2015', '2016', '1958', '1971', '2016', '2016', '2016', '2016', '2016', '2015', '2016', '2016', '2016', '2016', '2016', '2015', '2016', '2016', '1971', '2015', '2011', '2013', '2011', '2015', '2013', '1983', '2016', '2015', '2015', '2015', '2015', '2015', '2015', '2015', '2004', '2016', '2016', '2015', '2016', '2015', '2016', '2015', '2015', '1997', '2013', '1998', '2015', '2008', '2012', '2016', '2016', '2010', '2012', '1971', '2015', '2015', '2015', '2010', '2015', '2015', '2016', '1992', '1995', '2016', '2016', '2016', '2016', '2015', '2015', '2016', '2013', '2016', '2015', '2015', '2016', '2015', '2015', '2010', '2016', '2016', '2016', '2015', '2015', '2016', '2016', '2015', '2015', '2015', '2013', '2013', '2016', '2015', '2016', '2016', '2016', '2016', '2016', '2013', '2016', '2016', '1945', '2016', '1998', '2016', '2016', '2011', '2014', '2015', '2016', '2016', '1997', '2016', '2015', '2016', '2016', '2016', '2016', '2016', '2016', '2007', '2015', '2016', '2016', '2013', '2015', '2015', '2015', '1982', '2016', '2015', '2016', '2016', '2013', '2016', '2016', '2016', '2016', '2016', '2016', '2016', '2016', '2016', '2016', '2016', '2016', '2016', '2016', '2008', '2016', '2010', '1988', '2016', '2013', '2010', '2016', '2016', '2016', '2009', '2016', '2016', '2016', '2016', '2016', '2002', '2016', '2016', '2016', '2016', '2016', '2015', '2009', '2015', '1964', '2016', '2016', '2016', '2015', '2010', '2006', '1974', '2016', '2016', '2011', '2014', '2015', '2016', '2017', '2012', '2014', '2014', '2015', '2014', '2016', '2016', '2015', '2016', '2016', '2016', '2016', '2016', '2016', '2016', '2016', '2016', '2012', '2016', '2016', '2016', '2011', '2016', '2016', '2016', '1984', '2015', '1989', '2016', '1975', '2016', '2016', '2015', '2015', '1982', '2015', '2016', '2008', '2016', '2016', '2015', '1998', '2016', '2014', '2016', '2006', '2009', '2016', '2016', '2015', '2016', '2016', '2016', '2011', '2015', '2015', '2016', '2016', '2016', '2000', '2015', '2015', '2016', '2015', '2016', '2009', '2016', '2016', '2016', '2016', '2012', '2016', '2016', '2016', '1979', '2012', '1973', '2016', '2016', '2016', '2016', '2016', '2016', '2016', '2015', '2016', '1969', '1979', '2016', '2011', '2016', '2015', '2016', '1999', '2016', '2016', '2016', '2016', '2016', '2016', '2016', '2016', '2016', '2016', '2016', '2016', '2016', '2016', '2016', '2015', '2016', '2016', '2016', '2016', '2016', '2011', '2016', '1987', '2016', '2012', '2016', '2016', '2015', '2015', '2016', '2016', '2016', '2016', '2016', '2016', '2016', '2016', '2016', '2010', '2016', '2017', '2016', '2016', '2015', '2015', '2016', '2002', '2016', '2016', '1998', '1999', '2016', '2016', '2015', '2016', '2016', '2016', '2016', '2016', '2016', '2016', '1972', '2011', '2016', '2016', '2016', '2016', '2016', '2016', '2016', '2016', '2016', '2016', '2016', '2016', '2016', '2016', '2016', '2015', '2016', '2016', '2016', '2016', '2016', '2016', '2016', '2016', '2016', '2016', '2016', '2016', '2016', '2016', '2016', '2016', '2016', '2016', '2016', '2016', '1989', '2016', '2016', '2016', '2016', '2013', '2008', '2015', '2016', '2016', '2016', '2016', '2016', '2016', '2016', '2016', '2016', '2016', '2010', '2013', '2015', '2016', '2016', '2016', '2016', '2015', '2015', '2016', '2016', '2014', '2016', '2016', '2016', '2015', '2016', '2016', '2016', '2016', '2016', '2016', '2016', '2017', '2016', '2016', '2016', '2016', '2016', '2016', '2015', '2016', '2016', '2016', '2016', '2016', '2005', '2016', '2016', '2016', '2016', '2016', '2016', '2016', '2009', '2011', '2016', '2000', '2016', '2016', '2016', '2016', '2015', '2016', '2016', '2016', '2016', '1969', '2016', '2016', '2014', '2017', '2015', '2016', '2016', '2016', '2016', '2016', '2006', '2014', '2015', '2003', '2007', '2013', '2010', '2012', '2011', '2017', '2016', '2016', '2016', '2017', '2016', '2016', '2011', '2016', '2016', '2016', '2016', '2015', '2016', '2016', '2016', '2016', '2017', '2016', '2016', '2016', '2016', '2016', '2016', '2016', '2016', '2016', '2016', '2016', '2016', '2016', '2016', '2015', '2016', '2016', '2016', '2016', '2016', '2016', '2016', '2016', '2016', '2016', '2016', '2016', '2016', '2016', '2015', '2016', '2016', '2016', '2015', '2016', '2016', '2016', '2016', '2016', '2016', '2014', '2010', '2014', '2011', '2014', '2014', '2016', '2016', '2016', '2016', '2016', '2016', '2016', '2017', '2016', '2016', '2015', '2016', '2013', '2014', '2016', '2016', '2016', '2016', '2016', '2016', '2014', '2012', '2016', '2016', '2016', '2016', '2016', '2016', '2015', '2017', '2016', '2016', '2016', '2016', '2016', '2016', '2016', '2016', '2016', '1967', '2016', '2016', '2016', '2016', '2016', '1998', '2016', '2016', '2016', '2005', '2016', '2016', '2016', '2016', '2016', '2016', '2016', '2016', '2016', '2016', '1996', '2017', '2016', '2016', '2016', '2016', '2016', '2017', '2016', '2016', '2014', '2016', '2016', '2014', '2016', '2017', '2016', '2016', '2016', '2016', '2011', '2016', '2016', '2017', '2016', '2016', '2016', '2017', '2016', '2017', '2017', '2015', '2016', '2016', '2016', '2016', '2016', '2016', '2017', '2017', '2017', '2017', '2014', '2010', '2016', '2016', '2016', '2016', '2017', '2017', '2017', '2016', '2017', '2016', '2014', '2016', '2016', '2016', '2005', '2013', '2009', '2011', '2017', '2011', '2016', '2017', '2013', '2017', '2016', '2016', '2017', '2017', '2017', '2017', '2017', '2017', '2017', '2017', '2016', '2017', '2017', '2017', '2016', '2017', '2016', '2016', '2016', '1980', '2017', '1955', '2016', '2009', '2017', '2017', '2017', '2017', '2017', '2016', '2017', '2017', '2017', '2016', '2016', '2017', '2017', '2013', '2008', '2017', '2017', '2016', '2017', '2017', '2017', '2017', '2017', '2017', '2016', '2015', '2017', '2016', '2017', '1998', '2016', '2014', '2014', '2017', '2017', '2017', '2017', '2017', '2017', '2017', '2016', '2017', '2017', '2017', '2017', '2016', '2016', '2015', '1987', '2016', '2017', '2016', '2016', '2013', '2016', '2017', '2017', '2017', '2017', '2016', '2017', '2017', '2017', '2016', '2016', '2017', '2017', '2016', '2017', '2016', '2017', '2016', '2017', '2017', '2017', '2017', '2017', '1976', '1988', '2017', '2017', '1998', '2017', '2001', '1986', '2017', '2004', '2017', '1993', '2003', '2007', '2004', '2006', '2005', '2006', '1999', '1987', '2017', '2017', '2017', '2017', '2017', '2017', '1953', '2017', '2017', '2016', '2017', '2017', '2017', '2016', '2017', '2011', '2004', '2016', '2017', '2017', '2000', '2017', '2017', '2015', '2017', '2017', '2001', '2017', '2017', '2017', '2007', '2016', '2017', '2017', '2017', '2017', '2014', '2017', '2017', '2017', '2017', '2017', '2017', '2000', '2016', '2017', '2016', '2017', '2017', '2017', '2016', '2017', '1980', '1975', '2017', '2017', '2017', '2017', '2017', '2017', '2017', '2017', '2016', '2017', '2017', '2016', '1976', '2017', '2017', '2017', '2017', '2017', '2017', '2017', '1984', '2017', '2016', '2017', '2017', '2016', '2017', '2016', '2016', '2016', '2016', '2003', '2017', '2017', '2017', '1999', '2016', '2017', '2015', '1972', '2017', '2002', '2017', '2017', '2017', '2017', '2016', '2016', '2011', '2017', '2016', '2017', '2016', '2016', '2015', '2013', '2016', '2012', '2011', '2001', '2017', '2015', '2016', '2005', '1988', '2001', '2003', '2003', '2007', '2014', '2017', '2017', '2017', '2016', '2013', '1997', '2017', '2016', '2017', '2016', '2016', '1999', '1990', '2002', '2009', '2011', '2002', '1997', '2016', '2017', '2016', '2017', '2008', '2000', '2003', '2012', '2017', '2017', '1960', '2017', '2017', '2017', '2017', '2011', '2017', '2008', '2001', '1971', '2016', '2017', '2017', '2017', '2017', '2016', '2006', '2014', '2017', '2017', '1992', '1986', '2005', '1976', '1986', '1994', '2001', '2007', '2016', '2017', '2016', '2017', '2006', '2017', '2017', '1979', '2017', '2017', '2016', '2017', '2013', '2017', '2017', '2017', '2015', '2017', '2014', '2017', '2017', '2017', '2017', '2017', '2016', '2000', '2001', '2001', '2002', '2001', '2004', '2012', '2017', '2012', '2008', '2017', '2017', '2017', '2002', '2007', '2017', '2017', '2006', '2017', '2016', '2000', '1997', '2002', '2017', '2017', '2017', '2017', '2017', '2017', '2017', '2017', '2003', '2017', '2001', '2017', '2017', '2004', '2008', '2010', '2017', '2017', '2017', '2017', '2017', '2016', '2016', '2017', '2017', '2017', '2017', '2017', '2017', '2011', '2017', '2017', '1969', '2017', '2010', '2017', '2014', '2016', '2017', '2017', '2016', '2010', '2006', '1969', '1991', '2017', '2017', '2016', '2017', '2002', '1991']\n"
     ]
    }
   ],
   "source": [
    "release_year = []\n",
    "for i in range(mov.shape[0]):\n",
    "    release_year.append(mov.iloc[i]['release_date'][:4])\n",
    "    \n",
    "print(release_year)"
   ]
  },
  {
   "cell_type": "code",
   "execution_count": 76,
   "metadata": {
    "collapsed": true
   },
   "outputs": [],
   "source": [
    "release_year = pd.to_numeric(release_year)"
   ]
  },
  {
   "cell_type": "code",
   "execution_count": 81,
   "metadata": {
    "collapsed": true
   },
   "outputs": [],
   "source": [
    "import pickle"
   ]
  },
  {
   "cell_type": "code",
   "execution_count": 82,
   "metadata": {},
   "outputs": [],
   "source": [
    "with open('mov.pkl','wb') as f:\n",
    "        pickle.dump(mov,f)"
   ]
  },
  {
   "cell_type": "code",
   "execution_count": 78,
   "metadata": {},
   "outputs": [
    {
     "data": {
      "text/plain": [
       "numpy.ndarray"
      ]
     },
     "execution_count": 78,
     "metadata": {},
     "output_type": "execute_result"
    }
   ],
   "source": [
    "type(release_year)"
   ]
  },
  {
   "cell_type": "code",
   "execution_count": 79,
   "metadata": {},
   "outputs": [
    {
     "data": {
      "text/plain": [
       "pandas.core.series.Series"
      ]
     },
     "execution_count": 79,
     "metadata": {},
     "output_type": "execute_result"
    }
   ],
   "source": [
    "type(mov.Comedy)"
   ]
  },
  {
   "cell_type": "code",
   "execution_count": null,
   "metadata": {
    "collapsed": true
   },
   "outputs": [],
   "source": []
  }
 ],
 "metadata": {
  "kernelspec": {
   "display_name": "Python 3",
   "language": "python",
   "name": "python3"
  },
  "language_info": {
   "codemirror_mode": {
    "name": "ipython",
    "version": 3
   },
   "file_extension": ".py",
   "mimetype": "text/x-python",
   "name": "python",
   "nbconvert_exporter": "python",
   "pygments_lexer": "ipython3",
   "version": "3.6.1"
  }
 },
 "nbformat": 4,
 "nbformat_minor": 2
}
